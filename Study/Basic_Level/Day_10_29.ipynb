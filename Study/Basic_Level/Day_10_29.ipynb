{
 "cells": [
  {
   "cell_type": "code",
   "execution_count": null,
   "metadata": {},
   "outputs": [],
   "source": [
    "# 배열 원소의 길이\n",
    "\n",
    "def solution(strlist):\n",
    "    return [len(str) for str in strlist]"
   ]
  },
  {
   "cell_type": "code",
   "execution_count": 1,
   "metadata": {},
   "outputs": [],
   "source": [
    "# 대문자와 소문자\n",
    "\n",
    "def solution(my_string):\n",
    "    answer = ''\n",
    "    for l in my_string:\n",
    "        if l == l.upper():\n",
    "            answer += l.lower()\n",
    "        else:\n",
    "            answer += l.upper()\n",
    "    return answer"
   ]
  },
  {
   "cell_type": "code",
   "execution_count": 2,
   "metadata": {},
   "outputs": [],
   "source": [
    "# 가장 큰 수 찾기\n",
    "\n",
    "def solution(array):\n",
    "    return [max(array), array.index(max(array))]"
   ]
  },
  {
   "cell_type": "code",
   "execution_count": 3,
   "metadata": {},
   "outputs": [],
   "source": [
    "# n의 배수 고르기\n",
    "\n",
    "def solution(n, numlist):\n",
    "    return [num for num in numlist if num%n == 0]"
   ]
  },
  {
   "cell_type": "code",
   "execution_count": null,
   "metadata": {},
   "outputs": [],
   "source": [
    "# 삼각형의 완성 조건(1)\n",
    "\n",
    "def solution(sides):\n",
    "    return 2 if max(sides)<sum(sides)-max(sides) else 1"
   ]
  },
  {
   "cell_type": "code",
   "execution_count": 4,
   "metadata": {},
   "outputs": [],
   "source": [
    "# 자릿수 더하기\n",
    "\n",
    "def solution(n):\n",
    "    return sum([int(i) for i in str(n)])"
   ]
  },
  {
   "cell_type": "code",
   "execution_count": 5,
   "metadata": {},
   "outputs": [],
   "source": [
    "# 문자 반복 출력하기\n",
    "\n",
    "def solution(my_string, n):\n",
    "    answer = ''\n",
    "    for l in my_string:\n",
    "        answer += l*n\n",
    "    return answer\n",
    "  \n",
    "def solution(s,n):\n",
    "    return ''.join([l*n for l in s])"
   ]
  },
  {
   "cell_type": "code",
   "execution_count": null,
   "metadata": {},
   "outputs": [],
   "source": [
    "# 점의 위치 구하기\n",
    "\n",
    "def solution(dot):\n",
    "    if dot[1] > 0:\n",
    "        return 1 if dot[0] > 0 else 2\n",
    "    else:\n",
    "        return 3 if dot[0] < 0 else 4\n",
    "      \n",
    "# 다른 사람의 풀이\n",
    "def solution(dot):\n",
    "    quad = [(3,2),(4,1)]\n",
    "    return quad[dot[0] > 0][dot[1] > 0]\n",
    "# True = 1, False = 0 || [0][0]:3사분면, [0][1]:2사분면, [1][0]:4사분면, [1][1]:1사분면"
   ]
  },
  {
   "cell_type": "code",
   "execution_count": 16,
   "metadata": {},
   "outputs": [],
   "source": [
    "# 배열 뒤집기\n",
    "\n",
    "def solution(num_list):\n",
    "    num_list.reverse()\n",
    "    return num_list\n",
    "  \n",
    "# 다른 사람 풀이 참고  \n",
    "def solution(num_list):\n",
    "    return num_list[::-1]"
   ]
  },
  {
   "cell_type": "code",
   "execution_count": 17,
   "metadata": {},
   "outputs": [
    {
     "data": {
      "text/plain": [
       "[5, 4, 3, 2, 1]"
      ]
     },
     "execution_count": 17,
     "metadata": {},
     "output_type": "execute_result"
    }
   ],
   "source": [
    "solution([1,2,3,4,5])"
   ]
  },
  {
   "cell_type": "code",
   "execution_count": 19,
   "metadata": {},
   "outputs": [],
   "source": [
    "# 최댓값 만들기(1)\n",
    "\n",
    "def solution(numbers):\n",
    "    return sorted(numbers)[-1]*sorted(numbers)[-2]"
   ]
  },
  {
   "cell_type": "code",
   "execution_count": null,
   "metadata": {},
   "outputs": [],
   "source": []
  }
 ],
 "metadata": {
  "kernelspec": {
   "display_name": "Python 3",
   "language": "python",
   "name": "python3"
  },
  "language_info": {
   "codemirror_mode": {
    "name": "ipython",
    "version": 3
   },
   "file_extension": ".py",
   "mimetype": "text/x-python",
   "name": "python",
   "nbconvert_exporter": "python",
   "pygments_lexer": "ipython3",
   "version": "3.11.9"
  }
 },
 "nbformat": 4,
 "nbformat_minor": 2
}
