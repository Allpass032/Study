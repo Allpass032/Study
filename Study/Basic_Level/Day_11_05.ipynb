{
 "cells": [
  {
   "cell_type": "code",
   "execution_count": null,
   "metadata": {},
   "outputs": [],
   "source": [
    "# 피자 나눠 먹기(2)\n",
    "\n",
    "def solution(n):\n",
    "    total_pieces = 6\n",
    "    while True:\n",
    "        if divmod(total_pieces, n)[1] == 0:\n",
    "            break\n",
    "        total_pieces += 6\n",
    "    return total_pieces//6\n",
    "  \n",
    "# 다음과 같이 math 사용하여 가능(gcd함수 의미 모름)\n",
    "import math\n",
    "\n",
    "def solution(n):\n",
    "    return (n * 6) // math.gcd(n, 6) // 6"
   ]
  },
  {
   "cell_type": "code",
   "execution_count": 7,
   "metadata": {},
   "outputs": [
    {
     "data": {
      "text/plain": [
       "1"
      ]
     },
     "execution_count": 7,
     "metadata": {},
     "output_type": "execute_result"
    }
   ],
   "source": [
    "solution(6)"
   ]
  },
  {
   "cell_type": "code",
   "execution_count": 10,
   "metadata": {},
   "outputs": [],
   "source": [
    "# 배열 회전시키기\n",
    "\n",
    "def solution(numbers, direct):\n",
    "    return numbers[1:]+[numbers[0]] if direct == \"left\" else [numbers[-1]]+numbers[:len(numbers)-1]"
   ]
  },
  {
   "cell_type": "code",
   "execution_count": 11,
   "metadata": {},
   "outputs": [
    {
     "data": {
      "text/plain": [
       "[3, 1, 2]"
      ]
     },
     "execution_count": 11,
     "metadata": {},
     "output_type": "execute_result"
    }
   ],
   "source": [
    "solution([1,2,3], \"right\")"
   ]
  },
  {
   "cell_type": "code",
   "execution_count": null,
   "metadata": {},
   "outputs": [],
   "source": [
    "# 369 게임\n",
    "\n",
    "def solution(order):\n",
    "    count = 0\n",
    "    for i in str(order):\n",
    "        if int(i) in [3,6,9]:\n",
    "            count += 1\n",
    "    return count\n",
    "\n",
    "# 한줄로 다음과 같이 가능\n",
    "def solution(order):  \n",
    "    return sum([str(order).count(n) for n in '369'])\n",
    "        "
   ]
  },
  {
   "cell_type": "code",
   "execution_count": 40,
   "metadata": {},
   "outputs": [
    {
     "data": {
      "text/plain": [
       "2"
      ]
     },
     "execution_count": 40,
     "metadata": {},
     "output_type": "execute_result"
    }
   ],
   "source": [
    "solution(294230)"
   ]
  },
  {
   "cell_type": "code",
   "execution_count": 32,
   "metadata": {},
   "outputs": [
    {
     "data": {
      "text/plain": [
       "2"
      ]
     },
     "execution_count": 32,
     "metadata": {},
     "output_type": "execute_result"
    }
   ],
   "source": [
    "'tjdcjflee'.count('e')"
   ]
  },
  {
   "cell_type": "code",
   "execution_count": null,
   "metadata": {},
   "outputs": [],
   "source": []
  }
 ],
 "metadata": {
  "kernelspec": {
   "display_name": "Python 3",
   "language": "python",
   "name": "python3"
  },
  "language_info": {
   "codemirror_mode": {
    "name": "ipython",
    "version": 3
   },
   "file_extension": ".py",
   "mimetype": "text/x-python",
   "name": "python",
   "nbconvert_exporter": "python",
   "pygments_lexer": "ipython3",
   "version": "3.11.9"
  }
 },
 "nbformat": 4,
 "nbformat_minor": 2
}
