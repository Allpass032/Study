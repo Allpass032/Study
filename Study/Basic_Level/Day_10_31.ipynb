{
 "cells": [
  {
   "cell_type": "code",
   "execution_count": 2,
   "metadata": {},
   "outputs": [],
   "source": [
    "# 인덱스 바꾸기\n",
    "\n",
    "def solution(my_string,num1,num2):\n",
    "    return my_string[:num1] + my_string[num2] + my_string[num1+1:num2]+ my_string[num1]+ my_string[num2+1:]"
   ]
  },
  {
   "cell_type": "code",
   "execution_count": 3,
   "metadata": {},
   "outputs": [],
   "source": [
    "# 약수 구하기\n",
    "\n",
    "def solution(n):\n",
    "    return [i for i in range(1,n+1) if n%i==0]"
   ]
  },
  {
   "cell_type": "code",
   "execution_count": 15,
   "metadata": {},
   "outputs": [],
   "source": [
    "# 순서쌍의 개수\n",
    "# 시간 복잡도 고려하여 다시 풀이했어야 함\n",
    "def solution(n):\n",
    "    count = 0\n",
    "    for i in range(1,n+1):\n",
    "        if divmod(n,i)[1] == 0:\n",
    "            count += 1\n",
    "    return count\n",
    "\n",
    "# 시간 복잡도 고려한 풀이 참고\n",
    "\n",
    "def solution(n):\n",
    "    answer = 0\n",
    "    for i in range(1, int(n ** 0.5) + 1):\n",
    "        if n % i == 0:\n",
    "            answer += 2\n",
    "\n",
    "            if i * i == n:\n",
    "                answer -= 1\n",
    "\n",
    "    return answer"
   ]
  },
  {
   "cell_type": "code",
   "execution_count": 17,
   "metadata": {},
   "outputs": [],
   "source": [
    "# 모음 제거\n",
    "\n",
    "def solution(my_str):\n",
    "    return ''.join(l for l in my_str if l not in ['a','e','i','o','u'])"
   ]
  },
  {
   "cell_type": "code",
   "execution_count": 20,
   "metadata": {},
   "outputs": [],
   "source": [
    "# 문자열 안에 문자열\n",
    "\n",
    "def solution(str1, str2):\n",
    "    return 2 if str2 not in str1 else 1"
   ]
  },
  {
   "cell_type": "code",
   "execution_count": 21,
   "metadata": {},
   "outputs": [],
   "source": [
    "# 피자 나눠 먹기(3)\n",
    "\n",
    "def solution(slice, n):\n",
    "    return divmod(n,slice)[0]+1 if divmod(n,slice)[1] != 0 else divmod(n,slice)[0]"
   ]
  },
  {
   "cell_type": "code",
   "execution_count": 22,
   "metadata": {},
   "outputs": [],
   "source": [
    "# 주사위의 개수\n",
    "\n",
    "def solution(box,n):\n",
    "    return divmod(box[0],n)[0] * divmod(box[1],n)[0] * divmod(box[2],n)[0]"
   ]
  },
  {
   "cell_type": "code",
   "execution_count": null,
   "metadata": {},
   "outputs": [],
   "source": []
  }
 ],
 "metadata": {
  "kernelspec": {
   "display_name": "Python 3",
   "language": "python",
   "name": "python3"
  },
  "language_info": {
   "codemirror_mode": {
    "name": "ipython",
    "version": 3
   },
   "file_extension": ".py",
   "mimetype": "text/x-python",
   "name": "python",
   "nbconvert_exporter": "python",
   "pygments_lexer": "ipython3",
   "version": "3.11.9"
  }
 },
 "nbformat": 4,
 "nbformat_minor": 2
}
