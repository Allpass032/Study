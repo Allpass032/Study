{
 "cells": [
  {
   "cell_type": "markdown",
   "metadata": {},
   "source": [
    "### 문제가 쉬운 것들2\n",
    "\n",
    "#### 코딩이 너무 길어져 가독성 떨어지는 것 같아 part를 분할"
   ]
  },
  {
   "cell_type": "code",
   "execution_count": 9,
   "metadata": {},
   "outputs": [
    {
     "name": "stdout",
     "output_type": "stream",
     "text": [
      "<generator object <genexpr> at 0x0000021E068A04A0>\n"
     ]
    }
   ],
   "source": [
    "# [PCCE 기출문제] 2번/ 각도 합치기\n",
    "\n",
    "angle1 = int(input())\n",
    "angle2 = int(input())\n",
    "\n",
    "sum_angle = angle1 + angle2 \n",
    "print(sum_angle)"
   ]
  },
  {
   "cell_type": "code",
   "execution_count": 16,
   "metadata": {},
   "outputs": [
    {
     "name": "stdout",
     "output_type": "stream",
     "text": [
      "direct recommendation\n"
     ]
    }
   ],
   "source": [
    "# [PCCE 기출문제] 4번/ 병과분류\n",
    "\n",
    "code = input()\n",
    "last_four_words = code[-4:]\n",
    "\n",
    "if last_four_words == \"_eye\":\n",
    "    print(\"Ophthalmologyc\")\n",
    "elif last_four_words == \"head\":\n",
    "    print(\"Neurosurgery\")\n",
    "elif last_four_words == \"infl\":\n",
    "    print(\"Orthopedics\")\n",
    "elif last_four_words == \"skin\":\n",
    "    print(\"Dermatology\")\n",
    "else:\n",
    "    print(\"direct recommendation\")"
   ]
  },
  {
   "cell_type": "code",
   "execution_count": 25,
   "metadata": {},
   "outputs": [],
   "source": [
    "# 크기가 작은 부분문자열\n",
    "\n",
    "def solution(t, p):\n",
    "    answer = []\n",
    "    l = len(p)\n",
    "    for i in range(len(t)-l+1):\n",
    "        if int(t[i:i+l]) <= int(p):\n",
    "          answer.append(t[i:i+l])\n",
    "    return len(answer)\n",
    "  \n",
    "# 조금 더 간결한 풀이\n",
    "\n",
    "def solution(t, p):\n",
    "    answer = 0\n",
    "\n",
    "    for i in range(len(t) - len(p) + 1):\n",
    "        if int(p) >= int(t[i:i+len(p)]):\n",
    "            answer += 1\n",
    "\n",
    "    return answer\n",
    "        "
   ]
  },
  {
   "cell_type": "code",
   "execution_count": 24,
   "metadata": {},
   "outputs": [
    {
     "data": {
      "text/plain": [
       "8"
      ]
     },
     "execution_count": 24,
     "metadata": {},
     "output_type": "execute_result"
    }
   ],
   "source": [
    "solution(\"500220839878\",\"7\")"
   ]
  },
  {
   "cell_type": "code",
   "execution_count": 35,
   "metadata": {},
   "outputs": [],
   "source": [
    "# 삼총사\n",
    "\n",
    "def solution(number):\n",
    "    can_num = []\n",
    "    s_number = sorted(number)\n",
    "    for i in range(len(number)-2):\n",
    "        for j in range(i+1, len(number)-1):\n",
    "            for k in range(j+1, len(number)):\n",
    "              if sum([s_number[i],s_number[j],s_number[k]]) == 0:\n",
    "                can_num.append([s_number[i],s_number[j],s_number[k]])\n",
    "    return len(can_num)\n",
    "    \n",
    "# 모듈 사용하는 방법\n",
    "\n",
    "def solution (number) :\n",
    "    from itertools import combinations\n",
    "    cnt = 0\n",
    "    for i in combinations(number,3) :\n",
    "        if sum(i) == 0 :\n",
    "            cnt += 1\n",
    "    return cnt"
   ]
  },
  {
   "cell_type": "code",
   "execution_count": 36,
   "metadata": {},
   "outputs": [
    {
     "data": {
      "text/plain": [
       "2"
      ]
     },
     "execution_count": 36,
     "metadata": {},
     "output_type": "execute_result"
    }
   ],
   "source": [
    "solution([-2,3,0,2,-5])"
   ]
  },
  {
   "cell_type": "code",
   "execution_count": 47,
   "metadata": {},
   "outputs": [
    {
     "name": "stdout",
     "output_type": "stream",
     "text": [
      "107\n"
     ]
    }
   ],
   "source": [
    "# [PCCE 기출문제] 3번 / 수 나누기\n",
    "\n",
    "number = int(input())\n",
    "\n",
    "answer = 0\n",
    "\n",
    "for i in range(round(len(f'{number}')/2)):\n",
    "    answer += number % 100\n",
    "    number //= 100\n",
    "\n",
    "print(answer)\n",
    "\n",
    "# while number > 0으로도 해결됨"
   ]
  },
  {
   "cell_type": "code",
   "execution_count": 46,
   "metadata": {},
   "outputs": [
    {
     "data": {
      "text/plain": [
       "4"
      ]
     },
     "execution_count": 46,
     "metadata": {},
     "output_type": "execute_result"
    }
   ],
   "source": [
    "round(len('5678898')/2)"
   ]
  },
  {
   "cell_type": "code",
   "execution_count": 56,
   "metadata": {},
   "outputs": [],
   "source": [
    "# 최소직사각형\n",
    "\n",
    "def solution(sizes):\n",
    "    temp1, temp2 = [], []\n",
    "    for [w, h] in sizes:\n",
    "        temp1.append(max([w,h]))\n",
    "        temp2.append(min([w,h]))\n",
    "    return max(temp1)*max(temp2)\n",
    "  \n",
    "  # 한 줄로 만들 수 있었는데 생각을 짧게 했다\n",
    "  \n",
    "def solution(sizes):\n",
    "    return max(max(x) for x in sizes) * max(min(x) for x in sizes)"
   ]
  },
  {
   "cell_type": "code",
   "execution_count": 57,
   "metadata": {},
   "outputs": [
    {
     "data": {
      "text/plain": [
       "4000"
      ]
     },
     "execution_count": 57,
     "metadata": {},
     "output_type": "execute_result"
    }
   ],
   "source": [
    "solution([[60, 50], [30, 70], [60, 30], [80, 40]])"
   ]
  },
  {
   "cell_type": "code",
   "execution_count": 3,
   "metadata": {},
   "outputs": [],
   "source": [
    "# 시저 암호\n",
    "\n",
    "def solution(s,n):\n",
    "    alphabet = 'abcdefghijklmnopqrstuvwxyz'\n",
    "    answer = ''\n",
    "    for i in range(len(s)):\n",
    "        if s[i] == ' ':\n",
    "          answer += ' '\n",
    "        else:\n",
    "          will_add = alphabet.index(s[i].lower()) + n\n",
    "          while will_add >= 26:\n",
    "            will_add = will_add - 26\n",
    "        \n",
    "          if s[i] == s[i].lower():\n",
    "            answer += alphabet[will_add]\n",
    "          else:\n",
    "            answer += alphabet[will_add].upper()\n",
    "    return answer\n",
    "  \n",
    "# replace라는 함수는 결국 모든 원소를 바꾸는 거임\n",
    "# 무슨 말이냐 B C 가 순서대로 있으면 B를 C로 바꾸고 C C가 됨\n",
    "# 그 다음 C라는 것을 D로 바꿀때 둘 다 바뀜\n",
    "# 즉 B가 C로 변하고 C에서 D로 변함\n",
    "\n",
    "def caesar(s, n):\n",
    "    s = list(s)\n",
    "    for i in range(len(s)):\n",
    "        if s[i].isupper():\n",
    "            s[i]=chr((ord(s[i])-ord('A')+ n)%26+ord('A'))\n",
    "        elif s[i].islower():\n",
    "            s[i]=chr((ord(s[i])-ord('a')+ n)%26+ord('a'))\n",
    "\n",
    "    return \"\".join(s)"
   ]
  },
  {
   "cell_type": "code",
   "execution_count": 4,
   "metadata": {},
   "outputs": [
    {
     "data": {
      "text/plain": [
       "' C D'"
      ]
     },
     "execution_count": 4,
     "metadata": {},
     "output_type": "execute_result"
    }
   ],
   "source": [
    "solution(' B C', 1)"
   ]
  },
  {
   "cell_type": "code",
   "execution_count": 61,
   "metadata": {},
   "outputs": [],
   "source": [
    "# 가장 가까운 같은 글자\n",
    "\n",
    "def solution(s):\n",
    "    answer = []\n",
    "    for i in range(len(s)):\n",
    "        if s[i] not in s[:i]:\n",
    "          answer.append(-1)\n",
    "        else: \n",
    "          # print(i, max([index for index in range(i) if s[index] == s[i]]), [index for index in range(i) if s[index] == s[i]])\n",
    "          answer.append(i - max([index for index in range(i) if s[index] == s[i]]))\n",
    "    return answer\n",
    "\n",
    "# 첫 번째 풀이의 경우 걸리는 시간이 너무 오래 걸림  \n",
    "# dict을 사용한 풀이\n",
    "\n",
    "def solution(s):\n",
    "    answer = []\n",
    "    dic = dict()\n",
    "    for i in range(len(s)):\n",
    "        if s[i] not in dic:\n",
    "            answer.append(-1)\n",
    "        else:\n",
    "            answer.append(i - dic[s[i]])\n",
    "        dic[s[i]] = i\n",
    "\n",
    "    return answer\n",
    "  \n",
    "# 이상한 풀이\n",
    "\n",
    "def solution(준식):\n",
    "    어떻게사람이름이,엄=int,chr(int(chr(52)+chr(57)))\n",
    "    엄준식 = []\n",
    "    for 준,어엄 in enumerate(준식):\n",
    "        for 식 in range(어떻게사람이름이(엄), 준+어떻게사람이름이(엄)):\n",
    "            if 준식[준-식]==어엄:\n",
    "                엄준식.append(식)\n",
    "                break\n",
    "        else:\n",
    "            엄준식.append(-어떻게사람이름이(엄))\n",
    "    return 엄준식"
   ]
  },
  {
   "cell_type": "code",
   "execution_count": 62,
   "metadata": {},
   "outputs": [
    {
     "data": {
      "text/plain": [
       "[-1, -1, -1, 2, 2, 2]"
      ]
     },
     "execution_count": 62,
     "metadata": {},
     "output_type": "execute_result"
    }
   ],
   "source": [
    "solution('banana')"
   ]
  },
  {
   "cell_type": "code",
   "execution_count": 79,
   "metadata": {},
   "outputs": [],
   "source": [
    "# 숫자 문자열과 영단어\n",
    "\n",
    "def solution(s):\n",
    "    num_dic = {\n",
    "      0 : 'zero', 1 : 'one', 2 :'two', 3 : 'three', 4 : 'four',\n",
    "      5 : 'five', 6 : 'six', 7 : 'seven', 8 : 'eight', 9 : 'nine'\n",
    "    }\n",
    "    for i in range(10):   # s 안에 있는 것들에 대해서\n",
    "        if num_dic[i] in s:\n",
    "          s = s.replace(num_dic[i], f'{i}')   \n",
    "    return int(s)\n",
    "\n",
    "# 조금 더 간단한 풀이 및 items() 함수\n",
    "num_dic = {\n",
    "      0 : 'zero', 1 : 'one', 2 :'two', 3 : 'three', 4 : 'four',\n",
    "      5 : 'five', 6 : 'six', 7 : 'seven', 8 : 'eight', 9 : 'nine'\n",
    "    }\n",
    "\n",
    "def solution(s):\n",
    "    answer = s\n",
    "    for key, value in num_dic.items():\n",
    "        answer = answer.replace(key, value)\n",
    "    return int(answer)\n",
    "            \n",
    "# 역시 배움에 끝은 없다\n",
    "# 또 다른 풀이\n",
    "\n",
    "def solution(s):\n",
    "    words = ['zero', 'one', 'two', 'three', 'four', 'five', 'six', 'seven', 'eight', 'nine']\n",
    "\n",
    "    for i in range(len(words)):\n",
    "        s = s.replace(words[i], str(i))\n",
    "\n",
    "    return int(s)            \n",
    "        "
   ]
  },
  {
   "cell_type": "code",
   "execution_count": 78,
   "metadata": {},
   "outputs": [
    {
     "data": {
      "text/plain": [
       "'10203'"
      ]
     },
     "execution_count": 78,
     "metadata": {},
     "output_type": "execute_result"
    }
   ],
   "source": [
    "solution(\"1zerotwozero3\")"
   ]
  },
  {
   "cell_type": "code",
   "execution_count": 99,
   "metadata": {},
   "outputs": [],
   "source": [
    "# K번째 수\n",
    "\n",
    "def solution(array, commands):\n",
    "    answer = []\n",
    "    for i,j,k in commands:\n",
    "        answer.append(sorted(array[i-1:j])[k-1])\n",
    "    return answer\n",
    "\n",
    "# 한 줄 풀이\n",
    "\n",
    "def solution(array, commands):\n",
    "    return list(map(lambda x:sorted(array[x[0]-1:x[1]])[x[2]-1], commands))\n"
   ]
  },
  {
   "cell_type": "code",
   "execution_count": 100,
   "metadata": {},
   "outputs": [
    {
     "data": {
      "text/plain": [
       "[5, 6, 3]"
      ]
     },
     "execution_count": 100,
     "metadata": {},
     "output_type": "execute_result"
    }
   ],
   "source": [
    "solution([1, 5, 2, 6, 3, 7, 4],[[2, 5, 3], [4, 4, 1], [1, 7, 3]])"
   ]
  },
  {
   "cell_type": "code",
   "execution_count": 108,
   "metadata": {},
   "outputs": [],
   "source": [
    "# 두 개 뽑아서 더하기\n",
    "\n",
    "def solution(numbers):\n",
    "    answer = []\n",
    "    for i in range(len(numbers)-1):\n",
    "        for j in range(i+1, len(numbers)):\n",
    "            answer.append(numbers[i]+numbers[j])\n",
    "    return sorted(set(answer))"
   ]
  },
  {
   "cell_type": "code",
   "execution_count": 109,
   "metadata": {},
   "outputs": [
    {
     "data": {
      "text/plain": [
       "[2, 3, 4, 5, 6, 7]"
      ]
     },
     "execution_count": 109,
     "metadata": {},
     "output_type": "execute_result"
    }
   ],
   "source": [
    "solution([2,1,3,4,1])"
   ]
  },
  {
   "cell_type": "code",
   "execution_count": 157,
   "metadata": {},
   "outputs": [
    {
     "data": {
      "text/plain": [
       "'\\ndef solution(food):\\n    answer = \\'\\'\\n    for i,n in enumerate(food[1:]):\\n        answer += str(i+1) * (n//2)\\n    return answer + \"0\" + answer[::-1]\\n'"
      ]
     },
     "execution_count": 157,
     "metadata": {},
     "output_type": "execute_result"
    }
   ],
   "source": [
    "# 푸드 파이트 대회\n",
    "'''\n",
    "def foodFight(food):\n",
    "    at_contest = [num//2 for num in food]\n",
    "    l = []\n",
    "    for i in range(1,len(at_contest)):  # 음식 갯수\n",
    "        for j in range(at_contest[i]):\n",
    "            l.append(f'{i}')\n",
    "'''\n",
    "\n",
    "def solution(food):\n",
    "    left = []\n",
    "    for i in range(1, len(food)):  # 음식의 개수(0번은 물이라 제외)\n",
    "        for j in range(food[i]//2):\n",
    "            left.append(f'{i}')\n",
    "    right = [num for num in left[::-1]]\n",
    "    answer = left + ['0'] + right\n",
    "    return ''.join(answer)\n",
    "\n",
    "# 본받을만한 풀이 및 다시 내 방식으로 받아들이기\n",
    "'''\n",
    "def solution(food):\n",
    "    answer =\"0\"\n",
    "    for i in range(len(food)-1, 0,-1):\n",
    "        c = int(food[i]/2)\n",
    "        while c>0:\n",
    "            answer = str(i) + answer + str(i)\n",
    "            c -= 1\n",
    "    return answer\n",
    "'''\n",
    "# 이게 나한테는 가독성이 더 좋음\n",
    "'''\n",
    "def solution(food):\n",
    "    answer = ''\n",
    "    for i,n in enumerate(food[1:]):\n",
    "        answer += str(i+1) * (n//2)\n",
    "    return answer + \"0\" + answer[::-1]\n",
    "'''"
   ]
  },
  {
   "cell_type": "code",
   "execution_count": 158,
   "metadata": {},
   "outputs": [
    {
     "data": {
      "text/plain": [
       "'1222330332221'"
      ]
     },
     "execution_count": 158,
     "metadata": {},
     "output_type": "execute_result"
    }
   ],
   "source": [
    "solution([1,3,7,4])"
   ]
  },
  {
   "cell_type": "code",
   "execution_count": 192,
   "metadata": {},
   "outputs": [],
   "source": [
    "# [PCCE 기출문제] 5번 / 심폐소생술\n",
    "\n",
    "def solution(cpr):\n",
    "    answer = []\n",
    "    basic_order = [\"check\", \"call\", \"pressure\", \"respiration\", \"repeat\"]\n",
    "    for action in cpr:\n",
    "        for i in range(len(basic_order)):\n",
    "            if action == basic_order[i]:\n",
    "                answer.append(i+1)\n",
    "    return answer"
   ]
  },
  {
   "cell_type": "code",
   "execution_count": 193,
   "metadata": {},
   "outputs": [
    {
     "data": {
      "text/plain": [
       "[2, 4, 5, 1, 3]"
      ]
     },
     "execution_count": 193,
     "metadata": {},
     "output_type": "execute_result"
    }
   ],
   "source": [
    "solution([\"call\", \"respiration\", \"repeat\", \"check\", \"pressure\"])"
   ]
  },
  {
   "cell_type": "code",
   "execution_count": 202,
   "metadata": {},
   "outputs": [],
   "source": [
    "# 비밀 지도(파이썬 2진수, 8진수, 16진수 표현)\n",
    "\n",
    "def secret_map(n, map1, map2):\n",
    "    # 1차적으로 map1, map2의 숫자로 된 배열을 공백과 '#'으로 각각 나타내기(2진법)\n",
    "    map_b1 = ['0'*(n - len(format(num, 'b'))) + format(num,'b') for num in map1]\n",
    "    map_b2 = ['0'*(n - len(format(num, 'b'))) + format(num,'b') for num in map2]\n",
    "    answer = []\n",
    "    for i in range(n):\n",
    "        temp = ''\n",
    "        for j in range(n):\n",
    "            if map_b1[i][j] == '1' or map_b2[i][j] == '1':\n",
    "              temp += '#'\n",
    "            else:\n",
    "              temp += ' '\n",
    "        answer.append(temp)\n",
    "    return answer \n",
    "  \n",
    "# 참고로 배울 내용이 많으니 따로 정리 필요\n",
    "# 아래 풀이 이외에도 다양하게 많음\n",
    "# 근데 대부분의 풀이가 비트를 사용함 즉, 비트를 사용하는 방법을 공부하는게 중요할 듯\n",
    "def solution(n, arr1, arr2):\n",
    "    answer = []\n",
    "    for i,j in zip(arr1,arr2):\n",
    "        a12 = str(bin(i|j)[2:])\n",
    "        a12=a12.rjust(n,'0')\n",
    "        a12=a12.replace('1','#')\n",
    "        a12=a12.replace('0',' ')\n",
    "        answer.append(a12)\n",
    "    return answer"
   ]
  },
  {
   "cell_type": "code",
   "execution_count": 203,
   "metadata": {},
   "outputs": [
    {
     "data": {
      "text/plain": [
       "['#####', '# # #', '### #', '#  ##', '#####']"
      ]
     },
     "execution_count": 203,
     "metadata": {},
     "output_type": "execute_result"
    }
   ],
   "source": [
    "secret_map(5, [9, 20, 28, 18, 11], [30, 1, 21, 17, 28])"
   ]
  },
  {
   "cell_type": "code",
   "execution_count": 204,
   "metadata": {},
   "outputs": [
    {
     "name": "stdout",
     "output_type": "stream",
     "text": [
      "0b111100\n",
      "0o74\n",
      "0x3c\n"
     ]
    }
   ],
   "source": [
    "value = 60\n",
    "\n",
    "b = bin(value)\n",
    "o = oct(value)\n",
    "h = hex(value)\n",
    "\n",
    "print(b)\n",
    "print(o)\n",
    "print(h)\n"
   ]
  },
  {
   "cell_type": "code",
   "execution_count": 205,
   "metadata": {},
   "outputs": [
    {
     "name": "stdout",
     "output_type": "stream",
     "text": [
      "111100\n"
     ]
    }
   ],
   "source": [
    "value = 60\n",
    "b = format(value, 'b')\n",
    "print(b)"
   ]
  },
  {
   "cell_type": "code",
   "execution_count": null,
   "metadata": {},
   "outputs": [],
   "source": [
    "# 콜라 문제\n",
    "\n",
    "def solution(n):\n",
    "    total = 0 \n",
    "    while True:\n",
    "        empty, fill = n, 0\n",
    "        if empty < 2:\n",
    "          break\n",
    "        elif empty % 2 == 0:\n",
    "          total += empty // 2\n",
    "          empty = empty//2\n",
    "        else:\n",
    "          total += empty // 2\n",
    "          empty =   "
   ]
  }
 ],
 "metadata": {
  "kernelspec": {
   "display_name": "Python 3",
   "language": "python",
   "name": "python3"
  },
  "language_info": {
   "codemirror_mode": {
    "name": "ipython",
    "version": 3
   },
   "file_extension": ".py",
   "mimetype": "text/x-python",
   "name": "python",
   "nbconvert_exporter": "python",
   "pygments_lexer": "ipython3",
   "version": "3.11.9"
  }
 },
 "nbformat": 4,
 "nbformat_minor": 2
}
