{
 "cells": [
  {
   "cell_type": "markdown",
   "metadata": {},
   "source": [
    "### 문제를 풀면서 여러 차례 틀린 문제들\n",
    "\n",
    "#### 좀 더 깊게 생각해보고 오답 풀이들 좀 더 자세하게 작성하기"
   ]
  },
  {
   "cell_type": "code",
   "execution_count": null,
   "metadata": {},
   "outputs": [],
   "source": [
    "# 이상한 문자 만들기\n",
    "\n",
    "# def solution(s):\n",
    "#     answer = []\n",
    "#     temp = s.split()\n",
    "#     for word in temp:\n",
    "#       change_word = ''\n",
    "#       for i in range(len(word)):\n",
    "#           if i % 2 == 0:\n",
    "#             change_word += word[i].upper()\n",
    "#           else:\n",
    "#             change_word += word[i].lower()\n",
    "#       answer.append(change_word)\n",
    "#     return ' '.join(answer)\n",
    "# # 공백을 생각해야 함..\n",
    "\n",
    "def solution(s):\n",
    "    answer = s\n",
    "    temp = s.split()\n",
    "    changed_word = []\n",
    "    for word in temp:\n",
    "      change_word = ''\n",
    "      for i in range(len(word)):\n",
    "          if i % 2 == 0:\n",
    "            change_word += word[i].upper()\n",
    "          else:\n",
    "            change_word += word[i].lower()\n",
    "      changed_word.append(change_word)\n",
    "    \n",
    "    for i in range(len(temp)):\n",
    "      answer = answer.replace(temp[i], changed_word[i])\n",
    "    return answer  \n",
    "    "
   ]
  },
  {
   "cell_type": "markdown",
   "metadata": {},
   "source": [
    "위의 문제의 경우는 \n",
    "1. replace를 하고서 그것을 특정한 곳에 저장하라고 두지않았음\n",
    "2. 공백을 생각하지 못했었음\n",
    "3. 그 이외의 문제가 발생하였는데 그 원인을 모름"
   ]
  },
  {
   "cell_type": "code",
   "execution_count": null,
   "metadata": {},
   "outputs": [],
   "source": [
    "# 3진법 뒤집기\n",
    "\n",
    "def solution(n):\n",
    "    "
   ]
  }
 ],
 "metadata": {
  "language_info": {
   "name": "python"
  }
 },
 "nbformat": 4,
 "nbformat_minor": 2
}
