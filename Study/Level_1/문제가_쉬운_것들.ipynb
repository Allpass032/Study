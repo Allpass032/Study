{
 "cells": [
  {
   "cell_type": "code",
   "execution_count": 1,
   "metadata": {},
   "outputs": [],
   "source": [
    "# 짝수와 홀수\n",
    "\n",
    "def solution(num):\n",
    "    return \"Even\" if num%2 == 0 else \"Odd\""
   ]
  },
  {
   "cell_type": "code",
   "execution_count": 2,
   "metadata": {},
   "outputs": [],
   "source": [
    "# 약수의 합\n",
    "\n",
    "def solution(n):\n",
    "    return sum([i for i in range(1, n+1) if n%i == 0]) "
   ]
  },
  {
   "cell_type": "code",
   "execution_count": 6,
   "metadata": {},
   "outputs": [],
   "source": [
    "# 나머지가 1이 되는 수 찾기\n",
    "\n",
    "def solution(n):\n",
    "    return min([x for x in range(1,n) if n%x == 1])"
   ]
  },
  {
   "cell_type": "code",
   "execution_count": 30,
   "metadata": {},
   "outputs": [],
   "source": [
    "# x만큼 간격이 있는 n개의 숫자\n",
    "\n",
    "def solution(x,n):\n",
    "    if x == 0:\n",
    "        return [x]*n\n",
    "    elif x > 0:\n",
    "        return [i for i in range(x,x*n+1,x)]\n",
    "    else:\n",
    "        return [i for i in range(x,x*n-1,x)]\n",
    "\n",
    "# 간결한 풀이\n",
    "    \n",
    "def number_generator(x, n):\n",
    "    return [i * x + x for i in range(n)]\n",
    "print(number_generator(2, 5))"
   ]
  },
  {
   "cell_type": "code",
   "execution_count": 34,
   "metadata": {},
   "outputs": [],
   "source": [
    "# 문자열 내 p와 y의 개수\n",
    "\n",
    "def solution(s):\n",
    "    return s.lower().count('p') == s.lower().count('y')"
   ]
  },
  {
   "cell_type": "code",
   "execution_count": 35,
   "metadata": {},
   "outputs": [
    {
     "data": {
      "text/plain": [
       "True"
      ]
     },
     "execution_count": 35,
     "metadata": {},
     "output_type": "execute_result"
    }
   ],
   "source": [
    "solution(\"pPoooyY\")"
   ]
  },
  {
   "cell_type": "code",
   "execution_count": 36,
   "metadata": {},
   "outputs": [],
   "source": [
    "# 문자열을 정수로 바꾸기\n",
    "\n",
    "def solution(s):\n",
    "    return int(s)"
   ]
  },
  {
   "cell_type": "code",
   "execution_count": 40,
   "metadata": {},
   "outputs": [],
   "source": [
    "# 자릿수 더하기\n",
    "\n",
    "def solution(N):\n",
    "    answer = 0\n",
    "    for i in f'{N}':\n",
    "      answer += int(i)\n",
    "    return answer"
   ]
  },
  {
   "cell_type": "code",
   "execution_count": 49,
   "metadata": {},
   "outputs": [],
   "source": [
    "# 자연수 뒤집어 배열로 만들기\n",
    "\n",
    "def solution(n):\n",
    "    return [int(i) for i in reversed(f'{n}')]\n",
    "\n",
    "# 간단한 풀이\n",
    "\n",
    "def solution(n):\n",
    "    return [int(i) for i in str(n)][::-1]"
   ]
  },
  {
   "cell_type": "code",
   "execution_count": 62,
   "metadata": {},
   "outputs": [],
   "source": [
    "# 정수 내림차순으로 배치하기\n",
    "\n",
    "def solution(n):\n",
    "    l = sorted([i for i in f\"{n}\"])\n",
    "    return int(''.join(l[::-1]))"
   ]
  },
  {
   "cell_type": "code",
   "execution_count": 63,
   "metadata": {},
   "outputs": [
    {
     "data": {
      "text/plain": [
       "873211"
      ]
     },
     "execution_count": 63,
     "metadata": {},
     "output_type": "execute_result"
    }
   ],
   "source": [
    "solution(118372)"
   ]
  },
  {
   "cell_type": "code",
   "execution_count": 11,
   "metadata": {},
   "outputs": [],
   "source": [
    "# 정수 제곱근 판별\n",
    "\n",
    "def solution(n):\n",
    "    i = 1\n",
    "    while True:\n",
    "      if i**2 > n:\n",
    "        return -1\n",
    "      elif i **2 == n:\n",
    "        return (i+1)**2\n",
    "      else:\n",
    "         i += 1    \n",
    "         \n",
    "# 제곱근으로 확인하기 위해서 다음처럼 가능\n",
    "\n",
    "def nextSqure(n):\n",
    "    sqrt = n ** (1/2)\n",
    "\n",
    "    if sqrt % 1 == 0:\n",
    "        return (sqrt + 1) ** 2\n",
    "    return 'no'"
   ]
  },
  {
   "cell_type": "code",
   "execution_count": 17,
   "metadata": {},
   "outputs": [],
   "source": [
    "# 하샤드 수\n",
    "\n",
    "def solution(x):\n",
    "    sum_each = sum([int(num) for num in f\"{x}\"])\n",
    "    return x%sum_each == 0"
   ]
  },
  {
   "cell_type": "code",
   "execution_count": 22,
   "metadata": {},
   "outputs": [],
   "source": [
    "# 두 정수 사이의 합\n",
    "\n",
    "def solution(a,b):\n",
    "    return sum([num for num in range(min(a,b),max(a,b)+1)])\n",
    "  \n",
    "# 색다른 풀이\n",
    "\n",
    "def adder(a, b):\n",
    "    return (abs(a-b)+1)*(a+b)//2"
   ]
  },
  {
   "cell_type": "code",
   "execution_count": 34,
   "metadata": {},
   "outputs": [],
   "source": [
    "# 평균 구하기\n",
    "\n",
    "def solution(arr):\n",
    "    return sum(arr)/len(arr) if sum(arr)//len(arr) != sum(arr)/len(arr) else sum(arr)//len(arr)"
   ]
  },
  {
   "cell_type": "code",
   "execution_count": 37,
   "metadata": {},
   "outputs": [
    {
     "ename": "SyntaxError",
     "evalue": "f-string: unmatched '(' (2894035863.py, line 9)",
     "output_type": "error",
     "traceback": [
      "\u001b[1;36m  Cell \u001b[1;32mIn[37], line 9\u001b[1;36m\u001b[0m\n\u001b[1;33m    return f\"김서방은 {seoul.index(\"Kim\")}에 있다\"\u001b[0m\n\u001b[1;37m                                ^\u001b[0m\n\u001b[1;31mSyntaxError\u001b[0m\u001b[1;31m:\u001b[0m f-string: unmatched '('\n"
     ]
    }
   ],
   "source": [
    "# 서울에서 김서방 찾기\n",
    "\n",
    "def solution(seoul):\n",
    "    for i in range(len(seoul)):\n",
    "      if seoul[i] == \"Kim\":\n",
    "        return f\"김서방은 {i}에 있다\"\n",
    "\n",
    "# index 활용해서 해보고 싶은데 저거는 안 되네      \n",
    "# def solution(seoul):\n",
    "#     return f\"김서방은 {seoul.index(\"Kim\")}에 있다\""
   ]
  },
  {
   "cell_type": "code",
   "execution_count": 40,
   "metadata": {},
   "outputs": [],
   "source": [
    "# 콜라츠 추측\n",
    "\n",
    "def solution(n):\n",
    "    count = 0\n",
    "    while True:\n",
    "      if n == 1:\n",
    "        return count\n",
    "      elif count == 500:\n",
    "        return -1\n",
    "      elif n % 2 == 0:\n",
    "        n = n//2\n",
    "        count += 1\n",
    "      else:\n",
    "        n = n*3+1\n",
    "        count += 1"
   ]
  },
  {
   "cell_type": "code",
   "execution_count": 39,
   "metadata": {},
   "outputs": [
    {
     "data": {
      "text/plain": [
       "8"
      ]
     },
     "execution_count": 39,
     "metadata": {},
     "output_type": "execute_result"
    }
   ],
   "source": [
    "solution(6)"
   ]
  },
  {
   "cell_type": "code",
   "execution_count": 47,
   "metadata": {},
   "outputs": [],
   "source": [
    "# 음양 더하기\n",
    "\n",
    "def solution(ab, si):\n",
    "    answer = 0\n",
    "    for i in range(len(ab)):\n",
    "      if si[i] == True:\n",
    "          answer += ab[i]\n",
    "      else:\n",
    "          answer -= ab[i]\n",
    "    return answer\n",
    "  \n",
    "# 더 간략한 풀이\n",
    "def solution(absolutes, signs):\n",
    "    return sum(absolutes if sign else -absolutes for absolutes, sign in zip(absolutes, signs))"
   ]
  },
  {
   "cell_type": "code",
   "execution_count": 48,
   "metadata": {},
   "outputs": [
    {
     "data": {
      "text/plain": [
       "9"
      ]
     },
     "execution_count": 48,
     "metadata": {},
     "output_type": "execute_result"
    }
   ],
   "source": [
    "solution([4,7,12],[True,False,True])"
   ]
  },
  {
   "cell_type": "code",
   "execution_count": 49,
   "metadata": {},
   "outputs": [],
   "source": [
    "# 없는 숫자 더하기\n",
    "\n",
    "def solution(numbers):\n",
    "    return sum([num for num in range(10) if num not in numbers])\n"
   ]
  },
  {
   "cell_type": "code",
   "execution_count": 52,
   "metadata": {},
   "outputs": [],
   "source": [
    "# 나누어 떨어지는 숫자 배열\n",
    "\n",
    "def solution(arr, divisor):\n",
    "    return sorted([num for num in arr if num%divisor ==0]) or [-1]"
   ]
  },
  {
   "cell_type": "code",
   "execution_count": 53,
   "metadata": {},
   "outputs": [
    {
     "data": {
      "text/plain": [
       "[-1]"
      ]
     },
     "execution_count": 53,
     "metadata": {},
     "output_type": "execute_result"
    }
   ],
   "source": [
    "solution([3,2,6],10)"
   ]
  },
  {
   "cell_type": "code",
   "execution_count": 59,
   "metadata": {},
   "outputs": [],
   "source": [
    "# 제일 작은 수 제거하기\n",
    "\n",
    "def solution(arr):\n",
    "    arr.remove(min(arr))\n",
    "    return arr or [-1]"
   ]
  },
  {
   "cell_type": "code",
   "execution_count": 61,
   "metadata": {},
   "outputs": [
    {
     "data": {
      "text/plain": [
       "[-1]"
      ]
     },
     "execution_count": 61,
     "metadata": {},
     "output_type": "execute_result"
    }
   ],
   "source": [
    "solution([10])"
   ]
  },
  {
   "cell_type": "code",
   "execution_count": 62,
   "metadata": {},
   "outputs": [],
   "source": [
    "# 핸드폰 번호 가리기\n",
    "\n",
    "def solution(p_n):\n",
    "    return \"*\"*(len(p_n)-4) + p_n[-4:]"
   ]
  },
  {
   "cell_type": "code",
   "execution_count": 64,
   "metadata": {},
   "outputs": [
    {
     "data": {
      "text/plain": [
       "'*****8888'"
      ]
     },
     "execution_count": 64,
     "metadata": {},
     "output_type": "execute_result"
    }
   ],
   "source": [
    "solution('027778888')"
   ]
  },
  {
   "cell_type": "code",
   "execution_count": 71,
   "metadata": {},
   "outputs": [],
   "source": [
    "# 가운데 글자 가져오기\n",
    "\n",
    "def solution(s):\n",
    "    return s[len(s)//2] if len(s)%2 == 1 else s[(len(s)//2)-1]+s[len(s)//2]\n",
    "  \n",
    "# 좀 더 간결한 풀이\n",
    "\n",
    "def string_middle(str):\n",
    "    return str[(len(str)-1)//2 : len(str)//2 + 1]"
   ]
  },
  {
   "cell_type": "code",
   "execution_count": 72,
   "metadata": {},
   "outputs": [
    {
     "data": {
      "text/plain": [
       "'we'"
      ]
     },
     "execution_count": 72,
     "metadata": {},
     "output_type": "execute_result"
    }
   ],
   "source": [
    "solution('qwer')"
   ]
  },
  {
   "cell_type": "code",
   "execution_count": 77,
   "metadata": {},
   "outputs": [],
   "source": [
    "# 수박수박수박수박수박수박수?\n",
    "\n",
    "def solution(n):\n",
    "    answer = '수'\n",
    "    while True:\n",
    "      if len(answer) == n:\n",
    "        return answer\n",
    "      elif len(answer) % 2 == 1:\n",
    "        answer += '박'\n",
    "      else:\n",
    "        answer += '수'\n",
    "\n",
    "# 간결한 풀이\n",
    "def water_melon(n):\n",
    "    str = \"수박\"*n\n",
    "    return str[:n]\n"
   ]
  },
  {
   "cell_type": "code",
   "execution_count": 78,
   "metadata": {},
   "outputs": [
    {
     "data": {
      "text/plain": [
       "'수박수'"
      ]
     },
     "execution_count": 78,
     "metadata": {},
     "output_type": "execute_result"
    }
   ],
   "source": [
    "solution(3)"
   ]
  },
  {
   "cell_type": "code",
   "execution_count": 79,
   "metadata": {},
   "outputs": [],
   "source": [
    "# 내적\n",
    "\n",
    "def solution(a,b):\n",
    "    return sum([a[i]*b[i] for i in range(len(a))])\n"
   ]
  },
  {
   "cell_type": "code",
   "execution_count": 80,
   "metadata": {},
   "outputs": [
    {
     "data": {
      "text/plain": [
       "3"
      ]
     },
     "execution_count": 80,
     "metadata": {},
     "output_type": "execute_result"
    }
   ],
   "source": [
    "solution([1,2,3,4],[-3,-1,0,2])"
   ]
  },
  {
   "cell_type": "code",
   "execution_count": 103,
   "metadata": {},
   "outputs": [],
   "source": [
    "# 약수의 개수와 덧셈\n",
    "\n",
    "def solution(left, right):\n",
    "    answer = 0\n",
    "    for num in range(left, right+1):\n",
    "        count = 0\n",
    "        for n in range(1,num+1):\n",
    "            if num % n == 0:\n",
    "                count += 1\n",
    "        if count % 2 == 0:\n",
    "            answer += num\n",
    "        else:\n",
    "            answer -= num\n",
    "    return answer\n",
    "\n",
    "# 색다른 풀이(약수가 홀수 개인 모든 수는 제곱수이다라는 것을 사용)\n",
    "def solution(left, right):\n",
    "    answer = 0\n",
    "    for i in range(left,right+1):\n",
    "        if int(i**0.5)==i**0.5:\n",
    "            answer -= i\n",
    "        else:\n",
    "            answer += i\n",
    "    return answer"
   ]
  },
  {
   "cell_type": "code",
   "execution_count": 104,
   "metadata": {},
   "outputs": [
    {
     "data": {
      "text/plain": [
       "43"
      ]
     },
     "execution_count": 104,
     "metadata": {},
     "output_type": "execute_result"
    }
   ],
   "source": [
    "solution(13,17)"
   ]
  },
  {
   "cell_type": "code",
   "execution_count": 111,
   "metadata": {},
   "outputs": [],
   "source": [
    "# 문자열 내림차순으로 배치하기\n",
    "\n",
    "def solution(s):\n",
    "    answer = sorted([l for l in s])\n",
    "    answer.reverse()\n",
    "    return ''.join(answer)\n",
    "  \n",
    "# 간단한 풀이\n",
    "def solution(s):\n",
    "    return ''.join(sorted(s, reverse=True))"
   ]
  },
  {
   "cell_type": "code",
   "execution_count": 110,
   "metadata": {},
   "outputs": [
    {
     "data": {
      "text/plain": [
       "'gfedcbZ'"
      ]
     },
     "execution_count": 110,
     "metadata": {},
     "output_type": "execute_result"
    }
   ],
   "source": [
    "solution(\"Zbcdefg\")"
   ]
  },
  {
   "cell_type": "code",
   "execution_count": 113,
   "metadata": {},
   "outputs": [],
   "source": [
    "# 부족한 금액 계산하기\n",
    "\n",
    "def soluiton(price, money, count):\n",
    "    cost = 0\n",
    "    for i in range(1,count+1):\n",
    "        cost += price*i\n",
    "    return cost - money if cost > money else 0\n",
    "  \n",
    "# 간단한 풀이\n",
    "def solution(price, money, count):\n",
    "    return max(0,price*(count+1)*count//2-money)\n",
    "    "
   ]
  },
  {
   "cell_type": "code",
   "execution_count": 123,
   "metadata": {},
   "outputs": [],
   "source": [
    "# 문자열 다루기 기본\n",
    "\n",
    "def solution(s):\n",
    "    if len(s) == 4 or len(s) == 6:\n",
    "      if s.upper() == s.lower():\n",
    "        return True\n",
    "    return False\n",
    "  \n",
    "# 간단한 풀이\n",
    "  \n",
    "def solution(s):\n",
    "    return s.isdigit() and len(s) in [4,6]\n",
    "  \n",
    "# isdigit 함수는 string 클래스에 있는 메서드로\n",
    "# 문자열이 '숫자'로만 이루어져있는지 확인하는 함수\n",
    "\n",
    "# str.isdigit(\"판단하고자 하는 문자열\")\n",
    "# 또는\n",
    "# \"판단하고자 하는 문자열\".isdigit() 으로 사용\n",
    "\n",
    "# 유의할 부분은 음수를 뜻하는 '-', 소수점을 뜻하는 '.'을 문자로 판단\n",
    "# 즉 실수나 음수를 판단 못함"
   ]
  },
  {
   "cell_type": "code",
   "execution_count": 126,
   "metadata": {},
   "outputs": [
    {
     "data": {
      "text/plain": [
       "False"
      ]
     },
     "execution_count": 126,
     "metadata": {},
     "output_type": "execute_result"
    }
   ],
   "source": [
    "solution('a234')"
   ]
  },
  {
   "cell_type": "code",
   "execution_count": 151,
   "metadata": {},
   "outputs": [],
   "source": [
    "# 행렬의 덧셈\n",
    "\n",
    "def solution(arr1, arr2):\n",
    "    answer = []\n",
    "    for i in range(len(arr1)):\n",
    "        temp = []\n",
    "        for j in range(len(arr1[0])):\n",
    "          temp.append(arr1[i][j]+arr2[i][j])\n",
    "        answer.append(temp)\n",
    "    return answer\n",
    "\n",
    "# 간단한 풀이\n",
    "\n",
    "def sumMatrix(A,B):\n",
    "    answer = [[c + d for c, d in zip(a,b)] for a, b in zip(A,B)]\n",
    "    return answer\n",
    "\n",
    "# zip 함수\n",
    "# 여러 개의 순회 가능한(iterable) 객체를 인자로 받고, 각 객체가 담고 있는 원소를 튜플의 형태로 차례로 접근할 수 있는 반복자(iterator)를 반환\n",
    "# zip 함수에 대해서 더 깊은 고찰은 https://www.daleseo.com/python-zip/\n",
    "\n",
    "# 다른 간단한 풀이\n",
    "\n",
    "def sumMatrix(A,B):\n",
    "    return [list(map(sum, zip(*x))) for x in zip(A, B)]\n",
    "  \n",
    "# map 함수에 대해서도 공부 필요"
   ]
  },
  {
   "cell_type": "code",
   "execution_count": 152,
   "metadata": {},
   "outputs": [
    {
     "data": {
      "text/plain": [
       "[[4], [6]]"
      ]
     },
     "execution_count": 152,
     "metadata": {},
     "output_type": "execute_result"
    }
   ],
   "source": [
    "solution([[1],[2]], [[3],[4]])"
   ]
  },
  {
   "cell_type": "code",
   "execution_count": 166,
   "metadata": {},
   "outputs": [
    {
     "name": "stdout",
     "output_type": "stream",
     "text": [
      "*****\n",
      "*****\n",
      "*****\n",
      "\n"
     ]
    }
   ],
   "source": [
    "# 직사각형 별찍기\n",
    "\n",
    "a, b = map(int, input().strip().split(' '))\n",
    "print((a*\"*\" + '\\n')*b)"
   ]
  },
  {
   "cell_type": "code",
   "execution_count": 193,
   "metadata": {},
   "outputs": [],
   "source": [
    "# 최대공약수와 최소공배수\n",
    "\n",
    "def solution(n, m):\n",
    "    temp1, temp2 = [], []\n",
    "    for i in range(1, n*m+1):\n",
    "        if n % i == 0 and m % i == 0:\n",
    "            temp1.append(i)\n",
    "        elif i % n == 0  and i % m == 0:\n",
    "            temp2.append(i)\n",
    "    return [max(temp1), min(temp2)]"
   ]
  },
  {
   "cell_type": "code",
   "execution_count": 194,
   "metadata": {},
   "outputs": [
    {
     "data": {
      "text/plain": [
       "[1, 10]"
      ]
     },
     "execution_count": 194,
     "metadata": {},
     "output_type": "execute_result"
    }
   ],
   "source": [
    "solution(2,5)"
   ]
  },
  {
   "cell_type": "code",
   "execution_count": 204,
   "metadata": {},
   "outputs": [],
   "source": [
    "# 같은 숫자는 싫어\n",
    "      \n",
    "def solution(arr):\n",
    "    answer = [arr[0]]\n",
    "    for i in range(len(arr)):\n",
    "        if arr[i] != answer[-1]:\n",
    "          answer.append(arr[i])\n",
    "    return answer\n",
    "    "
   ]
  },
  {
   "cell_type": "code",
   "execution_count": 205,
   "metadata": {},
   "outputs": [
    {
     "data": {
      "text/plain": [
       "[1, 3, 0, 1]"
      ]
     },
     "execution_count": 205,
     "metadata": {},
     "output_type": "execute_result"
    }
   ],
   "source": [
    "solution([1,1,3,3,0,1,1])"
   ]
  },
  {
   "cell_type": "code",
   "execution_count": 232,
   "metadata": {},
   "outputs": [],
   "source": [
    "# 예산\n",
    "\n",
    "def solution(d, budget):\n",
    "    temp = []\n",
    "    cost = sorted(d)\n",
    "    for i in range(len(d)+1):\n",
    "        if sum(cost[0:i]) <= budget:\n",
    "          temp.append(i)\n",
    "        else:\n",
    "          break    \n",
    "    return max(temp)\n",
    "  \n",
    "def solution(d, budget):\n",
    "    temp = []\n",
    "    for i in range(len(d)+1):\n",
    "        if sum(sorted(d)[0:i]) <= budget:\n",
    "            temp.append(i)\n",
    "    return max(temp)\n",
    "    "
   ]
  },
  {
   "cell_type": "code",
   "execution_count": 233,
   "metadata": {},
   "outputs": [
    {
     "data": {
      "text/plain": [
       "3"
      ]
     },
     "execution_count": 233,
     "metadata": {},
     "output_type": "execute_result"
    }
   ],
   "source": [
    "solution([1,3,2,5,4],9)\n",
    "# solution([2,2,2,3],10)"
   ]
  },
  {
   "cell_type": "code",
   "execution_count": null,
   "metadata": {},
   "outputs": [],
   "source": []
  }
 ],
 "metadata": {
  "kernelspec": {
   "display_name": "Python 3",
   "language": "python",
   "name": "python3"
  },
  "language_info": {
   "codemirror_mode": {
    "name": "ipython",
    "version": 3
   },
   "file_extension": ".py",
   "mimetype": "text/x-python",
   "name": "python",
   "nbconvert_exporter": "python",
   "pygments_lexer": "ipython3",
   "version": "3.11.9"
  }
 },
 "nbformat": 4,
 "nbformat_minor": 2
}
