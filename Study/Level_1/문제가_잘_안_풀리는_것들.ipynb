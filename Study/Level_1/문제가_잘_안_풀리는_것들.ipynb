{
 "cells": [
  {
   "cell_type": "markdown",
   "metadata": {},
   "source": [
    "##### 여러번 풀었지만 잘 안 풀리는 문제에 대해서 정리함 또는 풀어본 기록들"
   ]
  },
  {
   "cell_type": "code",
   "execution_count": 23,
   "metadata": {},
   "outputs": [],
   "source": [
    "# 카드 뭉치\n",
    "\n",
    "def solution(c1, c2, goal):\n",
    "    for i in range(len(goal)):\n",
    "        if goal[i] in c1 and goal[i] in c2:\n",
    "            p1, p2 = c1.index(goal[i]), c2.index(goal[i])\n",
    "            c1.pop(p1)\n",
    "            c2.pop(p2)\n",
    "            c1.insert(p1, str(i))\n",
    "            c2.insert(p2, str(i))\n",
    "        elif goal[i] in c1:\n",
    "            p1 = c1.index(goal[i])\n",
    "            c1.pop(p1)\n",
    "            c1.insert(p1, str(i))\n",
    "        elif goal[i] in c2:\n",
    "            p2 = c2.index(goal[i])\n",
    "            c2.pop(p2)\n",
    "            c2.insert(p2, str(i))\n",
    "    \n",
    "    if c1 == [str(i) for i in range(len(goal))] or c2 == [str(i) for i in range(len(goal))]:\n",
    "        result = \"Yes\"\n",
    "    elif c1 == sorted(c1) and c2 == sorted(c2):\n",
    "        result = \"Yes\"\n",
    "    else:\n",
    "        result = \"No\"\n",
    "    \n",
    "    return result\n",
    "  \n",
    "  # 오히려 점수가 떨어짐 -> 반례가 많음"
   ]
  },
  {
   "cell_type": "code",
   "execution_count": 25,
   "metadata": {},
   "outputs": [
    {
     "data": {
      "text/plain": [
       "'No'"
      ]
     },
     "execution_count": 25,
     "metadata": {},
     "output_type": "execute_result"
    }
   ],
   "source": [
    "solution(['a','b','a','d'],['a','d','f'],['a','a','d'])"
   ]
  },
  {
   "cell_type": "code",
   "execution_count": 29,
   "metadata": {},
   "outputs": [],
   "source": [
    "def solution(cards1, cards2, goal):\n",
    "    l1, l2 = [], []\n",
    "    for i in range(len(goal)):\n",
    "        if goal[i] in cards1:\n",
    "            l1.append(cards1.index(goal[i]))\n",
    "        elif goal[i] in cards2:\n",
    "            l2.append(cards2.index(goal[i]))\n",
    "    answer = l1 == sorted(l1) and l2 == sorted(l2)\n",
    "    print(l1,l2)\n",
    "    return \"Yes\" if answer else 'No'"
   ]
  },
  {
   "cell_type": "code",
   "execution_count": 30,
   "metadata": {},
   "outputs": [
    {
     "name": "stdout",
     "output_type": "stream",
     "text": [
      "[0] [0, 2]\n"
     ]
    },
    {
     "data": {
      "text/plain": [
       "'Yes'"
      ]
     },
     "execution_count": 30,
     "metadata": {},
     "output_type": "execute_result"
    }
   ],
   "source": [
    "solution(['a','b','c'],['d','e','f'],['a','d','f'])"
   ]
  },
  {
   "cell_type": "code",
   "execution_count": null,
   "metadata": {},
   "outputs": [],
   "source": [
    "# 카드 뭉치\n",
    "# replace를 사용하면 중간이 바뀜 drink에 있는 i도 바뀔 수 있음\n",
    "\n",
    "def solution(cards1, cards2, goal):\n",
    "    for i in range(len(goal)):\n",
    "        if goal[i] in cards1:\n",
    "          cards1[cards1.index(goal[i])] = str(i)\n",
    "        elif goal[i] in cards2:\n",
    "          cards2[cards2.index(goal[i])] = str(i)\n",
    "    # print(cards1)\n",
    "    # print(cards2)\n",
    "    return \"Yes\" if cards1 == sorted(cards1) and cards2 == sorted(cards2) else \"No\""
   ]
  }
 ],
 "metadata": {
  "kernelspec": {
   "display_name": "Python 3",
   "language": "python",
   "name": "python3"
  },
  "language_info": {
   "codemirror_mode": {
    "name": "ipython",
    "version": 3
   },
   "file_extension": ".py",
   "mimetype": "text/x-python",
   "name": "python",
   "nbconvert_exporter": "python",
   "pygments_lexer": "ipython3",
   "version": "3.11.9"
  }
 },
 "nbformat": 4,
 "nbformat_minor": 2
}
