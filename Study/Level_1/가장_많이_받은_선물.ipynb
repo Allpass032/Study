{
 "cells": [
  {
   "cell_type": "code",
   "execution_count": 49,
   "metadata": {},
   "outputs": [],
   "source": [
    "# 카카오 윈터 인턴쉽 가장 많이 받은 선물\n",
    "# 각각 친구에 대해서 선물 지수를 구하기 위한 표 제작 가능한 함수\n",
    "\n",
    "\n",
    "def solution(friends, gift):\n",
    "    a_p_n = [] # answer for present num\n",
    "    for giver in friends: # A: 선물을 주는 친구에 대해서\n",
    "      temp = [] # 선물을 주는 친구 한 명씩 저장할 공간\n",
    "      for receiver in friends: # B: 선물을 받는 친구에 대해서\n",
    "          temp.append(gift.count(f\"{giver} {receiver}\"))  # 선물 지수를 구하기 위한 표\n",
    "      a_p_n.append(temp)\n",
    "    print(a_p_n)\n",
    "    \n",
    "    l = len(a_p_n) # length for a_p_n\n",
    "    \n",
    "    p_n = [] # 받은 선물 계산\n",
    "    for i in range(l):\n",
    "      t_p_i = 0 # temp for present num\n",
    "      for j in range(l):\n",
    "          t_p_i += a_p_n[j][i]\n",
    "      p_n.append(t_p_i)\n",
    "    \n",
    "    p_i = [sum(a_p_n[s]) - p_n[s] for s in range(l)] # 선물 지수\n",
    "    print(p_i)\n",
    "    \n",
    "    answer = []\n",
    "    for k in range(len(friends)):\n",
    "        present_num = 0\n",
    "        for r in range(len(friends)):\n",
    "            if k == r:\n",
    "              present_num\n",
    "            elif a_p_n[k][r] != a_p_n[r][k]:\n",
    "              present_num += 1 if a_p_n[k][r] > a_p_n[r][k] else present_num\n",
    "            else:\n",
    "              present_num += 1 if p_i[k] > p_i[r] else present_num\n",
    "        answer.append(present_num)\n",
    "    return answer\n",
    "              \n"
   ]
  },
  {
   "cell_type": "code",
   "execution_count": 50,
   "metadata": {},
   "outputs": [
    {
     "name": "stdout",
     "output_type": "stream",
     "text": [
      "[[0, 0, 2, 0], [3, 0, 0, 0], [1, 1, 0, 0], [1, 0, 0, 0]]\n",
      "[-3, 2, 0, 1]\n"
     ]
    },
    {
     "data": {
      "text/plain": [
       "[2, 3, 2, 3]"
      ]
     },
     "execution_count": 50,
     "metadata": {},
     "output_type": "execute_result"
    }
   ],
   "source": [
    "solution([\"muzi\", \"ryan\", \"frodo\", \"neo\"],[\"muzi frodo\", \"muzi frodo\", \"ryan muzi\", \"ryan muzi\", \"ryan muzi\", \"frodo muzi\", \"frodo ryan\", \"neo muzi\"])"
   ]
  },
  {
   "cell_type": "code",
   "execution_count": 7,
   "metadata": {},
   "outputs": [],
   "source": [
    "def solution(friends):\n",
    "    for name in friends:\n",
    "      temp = []\n",
    "      for receive in friends:\n",
    "        print(name, receive) if name != receive else print(\"-\",\"-\")\n",
    "        "
   ]
  },
  {
   "cell_type": "code",
   "execution_count": 8,
   "metadata": {},
   "outputs": [
    {
     "name": "stdout",
     "output_type": "stream",
     "text": [
      "- -\n",
      "muzi ryan\n",
      "muzi frodo\n",
      "muzi neo\n",
      "ryan muzi\n",
      "- -\n",
      "ryan frodo\n",
      "ryan neo\n",
      "frodo muzi\n",
      "frodo ryan\n",
      "- -\n",
      "frodo neo\n",
      "neo muzi\n",
      "neo ryan\n",
      "neo frodo\n",
      "- -\n"
     ]
    }
   ],
   "source": [
    "solution([\"muzi\", \"ryan\", \"frodo\", \"neo\"])"
   ]
  },
  {
   "cell_type": "code",
   "execution_count": 11,
   "metadata": {},
   "outputs": [],
   "source": [
    "l = [\"muzi\",'muzi', \"ryan\", \"frodo\", \"neo\"]"
   ]
  },
  {
   "cell_type": "code",
   "execution_count": 12,
   "metadata": {},
   "outputs": [
    {
     "data": {
      "text/plain": [
       "2"
      ]
     },
     "execution_count": 12,
     "metadata": {},
     "output_type": "execute_result"
    }
   ],
   "source": [
    "l.count('muzi')"
   ]
  },
  {
   "cell_type": "code",
   "execution_count": 38,
   "metadata": {},
   "outputs": [
    {
     "name": "stdout",
     "output_type": "stream",
     "text": [
      "[5, 1, 2, 0]\n"
     ]
    }
   ],
   "source": [
    "p_i = [[0, 0, 2, 0], [3, 0, 0, 0], [1, 1, 0, 0], [1, 0, 0, 0]]\n",
    "l = len(p_i) \n",
    "# [sum(p_i[i]) for i in range(len(p_i))]\n",
    "answer = []\n",
    "for i in range(l):\n",
    "    temp = 0\n",
    "    for j in range(l):\n",
    "        temp += p_i[j][i]\n",
    "    answer.append(temp)\n",
    "print(answer)"
   ]
  },
  {
   "cell_type": "code",
   "execution_count": null,
   "metadata": {},
   "outputs": [],
   "source": []
  }
 ],
 "metadata": {
  "kernelspec": {
   "display_name": "Python 3",
   "language": "python",
   "name": "python3"
  },
  "language_info": {
   "codemirror_mode": {
    "name": "ipython",
    "version": 3
   },
   "file_extension": ".py",
   "mimetype": "text/x-python",
   "name": "python",
   "nbconvert_exporter": "python",
   "pygments_lexer": "ipython3",
   "version": "3.11.9"
  }
 },
 "nbformat": 4,
 "nbformat_minor": 2
}
