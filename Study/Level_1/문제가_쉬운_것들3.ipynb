{
 "cells": [
  {
   "cell_type": "markdown",
   "metadata": {},
   "source": [
    "# 문제가 많고 코드가 길어져서 파트 분할"
   ]
  },
  {
   "cell_type": "markdown",
   "metadata": {},
   "source": [
    "### 전에 작성했던 내용들 삭제되서 다시 작성 필요함.."
   ]
  },
  {
   "cell_type": "code",
   "execution_count": 1,
   "metadata": {},
   "outputs": [],
   "source": [
    "# 성격 유형 검사\n",
    "\n",
    "def solution(survey, choices):\n",
    "    d =  { \"R\" : 0, \"T\" : 0,\n",
    "          \"C\" :0, \"F\" :0,\n",
    "          \"J\" : 0, \"M\" : 0,\n",
    "          \"A\" : 0, \"N\" : 0}\n",
    "    \n",
    "    for i in range(len(survey)):\n",
    "        score = choices[i] - 4\n",
    "        a, b = survey[i][0], survey[i][1]\n",
    "        if score < 0:\n",
    "            d[a] += abs(score)\n",
    "        elif score >0:\n",
    "            d[b] += score\n",
    "    \n",
    "    keys = [key for key in d]\n",
    "    answer = []\n",
    "    \n",
    "    for j in range(0, len(keys), 2):\n",
    "        if d[keys[j]] > d[keys[j+1]]:\n",
    "            answer.append(keys[j]) \n",
    "        elif d[keys[j]] < d[keys[j+1]]:\n",
    "            answer.append(keys[j+1])\n",
    "        else:\n",
    "            temp = sorted([keys[j],keys[j+1]])\n",
    "            answer.append(temp[0])\n",
    "    return ''.join(answer)"
   ]
  },
  {
   "cell_type": "code",
   "execution_count": 20,
   "metadata": {},
   "outputs": [],
   "source": [
    "# 3진법 뒤집기\n",
    "\n",
    "def solution(n):\n",
    "    answer, a = [], 0 \n",
    "    while True:\n",
    "         n, i = divmod(n,3)\n",
    "         answer.append(i)\n",
    "         if n == 0:\n",
    "            break\n",
    "    \n",
    "    for each in range(len(answer)):\n",
    "        a += 3**(len(answer)-each-1)*answer[each]\n",
    "    return a"
   ]
  },
  {
   "cell_type": "code",
   "execution_count": 43,
   "metadata": {},
   "outputs": [],
   "source": [
    "# 이상한 문자 만들기\n",
    "\n",
    "def solution(s):\n",
    "    what = s.split()\n",
    "    print(what)\n",
    "    will_change = []\n",
    "    for word in what:\n",
    "        temp = ''\n",
    "        for i in range(len(word)):\n",
    "            if i%2 == 0:\n",
    "              temp += word[i].upper()\n",
    "            else:\n",
    "              temp += word[i].lower()\n",
    "        will_change.append(temp)\n",
    "    \n",
    "    while True:\n",
    "        for j in range(len(what)):\n",
    "            s = s.replace(what[j], will_change[j])\n",
    "        break\n",
    "    \n",
    "    return s\n",
    "    "
   ]
  },
  {
   "cell_type": "code",
   "execution_count": 49,
   "metadata": {},
   "outputs": [],
   "source": [
    "# 정답을 퍼왔는데 어째서 위는 안 되는지 \n",
    "# 그리고 코드에 대해서 이해 필요할 듯함\n",
    "def solution(s):\n",
    "    answer = ''\n",
    "    t = s.split(' ')\n",
    "    for i in t:\n",
    "        for j in range(len(i)):\n",
    "            if j&1==0:\n",
    "                answer += i[j].upper()\n",
    "            else:\n",
    "                answer += i[j].lower() \n",
    "        answer += ' '\n",
    "\n",
    "    return answer[:-1]"
   ]
  },
  {
   "cell_type": "code",
   "execution_count": 48,
   "metadata": {},
   "outputs": [
    {
     "data": {
      "text/plain": [
       "'  TrY  HeLlO   !wOrLd  '"
      ]
     },
     "execution_count": 48,
     "metadata": {},
     "output_type": "execute_result"
    }
   ],
   "source": [
    "solution(\"  try  hello   !world  \")"
   ]
  },
  {
   "cell_type": "code",
   "execution_count": 10,
   "metadata": {},
   "outputs": [],
   "source": [
    "# 콜라 문제\n",
    "\n",
    "def solution(a, b, n):\n",
    "    total, temp = 0, 0\n",
    "    while True:        \n",
    "        total += divmod(n,a)[0]*b   # >>> (10,0)\n",
    "        temp += divmod(n,a)[1]\n",
    "        n = divmod(n,a)[0]*b + temp\n",
    "        temp = 0\n",
    "        if n < a:\n",
    "          break\n",
    "    return total"
   ]
  },
  {
   "cell_type": "code",
   "execution_count": 12,
   "metadata": {},
   "outputs": [
    {
     "data": {
      "text/plain": [
       "9"
      ]
     },
     "execution_count": 12,
     "metadata": {},
     "output_type": "execute_result"
    }
   ],
   "source": [
    "solution(3,1,20)"
   ]
  },
  {
   "cell_type": "code",
   "execution_count": 62,
   "metadata": {},
   "outputs": [],
   "source": [
    "# 포켓몬\n",
    "\n",
    "# def solution(nums):\n",
    "#     choose = len(nums)//2\n",
    "#     if len(set(nums)) > choose:\n",
    "#       return choose\n",
    "#     else:\n",
    "#       return len(set(nums))\n",
    "\n",
    "def solution(nums):\n",
    "    return len(nums)//2 if len(set(nums)) > len(nums)//2 else len(nums)//2"
   ]
  },
  {
   "cell_type": "code",
   "execution_count": 63,
   "metadata": {},
   "outputs": [
    {
     "data": {
      "text/plain": [
       "3"
      ]
     },
     "execution_count": 63,
     "metadata": {},
     "output_type": "execute_result"
    }
   ],
   "source": [
    "solution([3,3,3,2,2,2])"
   ]
  },
  {
   "cell_type": "code",
   "execution_count": 20,
   "metadata": {},
   "outputs": [],
   "source": [
    "# 기사단원의 무기\n",
    "\n",
    "\n",
    "def solution(number,limit,power):\n",
    "    total_power = 0\n",
    "    for pal in range(1,number+1):\n",
    "        temp  = 0\n",
    "        for divorce in range(1,pal+1):\n",
    "            if temp > limit:\n",
    "              temp = power\n",
    "              break\n",
    "            elif pal%divorce == 0:\n",
    "              temp += 1\n",
    "              continue\n",
    "        total_power += temp\n",
    "    return total_power\n",
    "  \n",
    "\n",
    "  # 너무 오래 걸리는데"
   ]
  },
  {
   "cell_type": "code",
   "execution_count": 21,
   "metadata": {},
   "outputs": [
    {
     "data": {
      "text/plain": [
       "25240"
      ]
     },
     "execution_count": 21,
     "metadata": {},
     "output_type": "execute_result"
    }
   ],
   "source": [
    "solution(10000,3,2)"
   ]
  },
  {
   "cell_type": "code",
   "execution_count": 18,
   "metadata": {},
   "outputs": [],
   "source": [
    "# 과일 장수\n",
    "\n",
    "# 그냥 숫자가 큰 순서로 정렬한 후 m번째 수들 뽑으면 되지 않나\n",
    "def solution(k, m, score):\n",
    "    profit = 0\n",
    "    score.sort(reverse = True)\n",
    "    li = score[m-1::m]\n",
    "    for i in li:\n",
    "        profit += i*m\n",
    "    return profit if profit != 1 else 0\n",
    "\n",
    "# 그냥 가볍게 풀리는 문제였나봄\n",
    "\n",
    "def solution(k, m, score):\n",
    "    return sum(sorted(score)[len(score)%m::m])*m"
   ]
  },
  {
   "cell_type": "code",
   "execution_count": 19,
   "metadata": {},
   "outputs": [
    {
     "data": {
      "text/plain": [
       "33"
      ]
     },
     "execution_count": 19,
     "metadata": {},
     "output_type": "execute_result"
    }
   ],
   "source": [
    "solution(4,3,[4, 1, 2, 2, 4, 4, 4, 4, 1, 2, 4, 2])"
   ]
  },
  {
   "cell_type": "code",
   "execution_count": 1,
   "metadata": {},
   "outputs": [],
   "source": [
    "l = [4, 1, 2, 2, 4, 4, 4, 4, 1, 2, 4, 2]"
   ]
  },
  {
   "cell_type": "code",
   "execution_count": 17,
   "metadata": {},
   "outputs": [
    {
     "name": "stdout",
     "output_type": "stream",
     "text": [
      "[4, 4, 4, 4, 4, 4, 2, 2, 2, 2, 1, 1]\n",
      "[4, 4, 2, 1]\n"
     ]
    }
   ],
   "source": [
    "l.sort(reverse = True)\n",
    "print(l)\n",
    "print(l[3-1::3])"
   ]
  },
  {
   "cell_type": "code",
   "execution_count": 55,
   "metadata": {},
   "outputs": [],
   "source": [
    "# 소수 찾기\n",
    "\n",
    "def solution(n):\n",
    "    count = 0\n",
    "    li = []\n",
    "    for i in range(2, n+1):\n",
    "        for j in range(2, i+1):\n",
    "            if i == j:\n",
    "              count += 1\n",
    "              li.append(i)\n",
    "            elif i%j == 0:\n",
    "                break\n",
    "    return li, count\n",
    "  \n",
    "  # 시간 오래 걸림(그렇다면?)\n",
    "  # 소수 특징으로 일단 짝수 중에는 2가 유일함 그렇다면 홀수인데\n",
    "  # 홀수들 중에서 제곱근을 가지는거라면? 소수가 아닌거지\n",
    "  # 해보니 아니더라\n",
    "  \n",
    "def solution(n):\n",
    "    count = 1 # 2를 제외하고 소수 개수를 파악하였으니 2를 포함하기 위해\n",
    "    for i in range(3, n+1, 2):\n",
    "        if i**(0.5) // 1 != i**(0.5):\n",
    "            count += 1\n",
    "    return count"
   ]
  },
  {
   "cell_type": "code",
   "execution_count": 58,
   "metadata": {},
   "outputs": [
    {
     "name": "stdout",
     "output_type": "stream",
     "text": [
      "2 3 5 7 11 13 17 19 23 29 31 37 41 43 47 53 59 61 67 71 73 79 83 89 97 101 103 107 109 113 127 131 137 139 149 151 157 163 167 173 179 181 191 193 197 199 211 223 227 229 233 239 241 251 257 263 269 271 277 281 283 293 307 311 313 317 331 337 347 349 353 359 367 373 379 383 389 397 401 409 419 421 431 433 439 443 449 457 461 463 467 479 487 491 499 503 509 521 523 541 547 557 563 569 571 577 587 593 599 601 607 613 617 619 631 641 643 647 653 659 661 673 677 683 691 701 709 719 727 733 739 743 751 757 761 769 773 787 797 809 811 821 823 827 829 839 853 857 859 863 877 881 883 887 907 911 919 929 937 941 947 953 967 971 977 983 991 997 "
     ]
    }
   ],
   "source": [
    "# 소수 찾기 (https://velog.io/@changhee09/%EC%95%8C%EA%B3%A0%EB%A6%AC%EC%A6%98-%EC%86%8C%EC%88%98%EC%9D%98-%ED%8C%90%EB%B3%84-%EC%97%90%EB%9D%BC%ED%86%A0%EC%8A%A4%ED%85%8C%EB%84%A4%EC%8A%A4%EC%9D%98-%EC%B2%B4)\n",
    "\n",
    "import math\n",
    "\n",
    "n = 1000 # 2부터 1000까지의 모든 수에 대하여 소수 판별\n",
    "array = [True for i in range(n + 1)] # 처음엔 모든 수가 소수(True)인 것으로 초기화(0과 1은 제와)\n",
    "\n",
    "# 에라토스테네스의 체 알고리즘\n",
    "for i in range(2, int(math.sqrt(n)) + 1): # 2부터 n의 제곱근까지의 모든 수를 확인하며\n",
    "    if array[i] == True: # i가 소수인 경우(남은 수인 경우)\n",
    "        # i를 제외한 i의 모든 배수를 지우기\n",
    "        j = 2\n",
    "        while i * j <= n:\n",
    "            array[i * j] = False\n",
    "            j += 1\n",
    "\n",
    "# 모든 소수 출력\n",
    "for i in range(2, n + 1):\n",
    "    if array[i]:\n",
    "        print(i, end=\" \")"
   ]
  },
  {
   "cell_type": "code",
   "execution_count": 59,
   "metadata": {},
   "outputs": [],
   "source": [
    "# 또다른 에라토스테네스의 체를 구현한 예시\n",
    "\n",
    "def solution(n):\n",
    "    prime_list = set(range(2, n+1))\n",
    "    for i in range(2, n+1):\n",
    "        if i in prime_list:\n",
    "            prime_list -= set(range(2*i, n+1,i))\n",
    "    return len(prime_list)"
   ]
  },
  {
   "cell_type": "code",
   "execution_count": 60,
   "metadata": {},
   "outputs": [
    {
     "data": {
      "text/plain": [
       "25"
      ]
     },
     "execution_count": 60,
     "metadata": {},
     "output_type": "execute_result"
    }
   ],
   "source": [
    "solution(100)"
   ]
  }
 ],
 "metadata": {
  "kernelspec": {
   "display_name": "Python 3",
   "language": "python",
   "name": "python3"
  },
  "language_info": {
   "codemirror_mode": {
    "name": "ipython",
    "version": 3
   },
   "file_extension": ".py",
   "mimetype": "text/x-python",
   "name": "python",
   "nbconvert_exporter": "python",
   "pygments_lexer": "ipython3",
   "version": "3.11.9"
  }
 },
 "nbformat": 4,
 "nbformat_minor": 2
}
