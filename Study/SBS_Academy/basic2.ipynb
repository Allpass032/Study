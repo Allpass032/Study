{
 "cells": [
  {
   "cell_type": "code",
   "execution_count": 1,
   "metadata": {},
   "outputs": [
    {
     "ename": "FileNotFoundError",
     "evalue": "[Errno 2] No such file or directory: './hello.txt'",
     "output_type": "error",
     "traceback": [
      "\u001b[1;31m---------------------------------------------------------------------------\u001b[0m",
      "\u001b[1;31mFileNotFoundError\u001b[0m                         Traceback (most recent call last)",
      "Cell \u001b[1;32mIn[1], line 1\u001b[0m\n\u001b[1;32m----> 1\u001b[0m file \u001b[38;5;241m=\u001b[39m \u001b[38;5;28;43mopen\u001b[39;49m\u001b[43m(\u001b[49m\u001b[38;5;124;43m'\u001b[39;49m\u001b[38;5;124;43m./hello.txt\u001b[39;49m\u001b[38;5;124;43m'\u001b[39;49m\u001b[43m,\u001b[49m\u001b[38;5;124;43m'\u001b[39;49m\u001b[38;5;124;43mrt\u001b[39;49m\u001b[38;5;124;43m'\u001b[39;49m\u001b[43m)\u001b[49m\n",
      "File \u001b[1;32m~\\AppData\\Roaming\\Python\\Python311\\site-packages\\IPython\\core\\interactiveshell.py:324\u001b[0m, in \u001b[0;36m_modified_open\u001b[1;34m(file, *args, **kwargs)\u001b[0m\n\u001b[0;32m    317\u001b[0m \u001b[38;5;28;01mif\u001b[39;00m file \u001b[38;5;129;01min\u001b[39;00m {\u001b[38;5;241m0\u001b[39m, \u001b[38;5;241m1\u001b[39m, \u001b[38;5;241m2\u001b[39m}:\n\u001b[0;32m    318\u001b[0m     \u001b[38;5;28;01mraise\u001b[39;00m \u001b[38;5;167;01mValueError\u001b[39;00m(\n\u001b[0;32m    319\u001b[0m         \u001b[38;5;124mf\u001b[39m\u001b[38;5;124m\"\u001b[39m\u001b[38;5;124mIPython won\u001b[39m\u001b[38;5;124m'\u001b[39m\u001b[38;5;124mt let you open fd=\u001b[39m\u001b[38;5;132;01m{\u001b[39;00mfile\u001b[38;5;132;01m}\u001b[39;00m\u001b[38;5;124m by default \u001b[39m\u001b[38;5;124m\"\u001b[39m\n\u001b[0;32m    320\u001b[0m         \u001b[38;5;124m\"\u001b[39m\u001b[38;5;124mas it is likely to crash IPython. If you know what you are doing, \u001b[39m\u001b[38;5;124m\"\u001b[39m\n\u001b[0;32m    321\u001b[0m         \u001b[38;5;124m\"\u001b[39m\u001b[38;5;124myou can use builtins\u001b[39m\u001b[38;5;124m'\u001b[39m\u001b[38;5;124m open.\u001b[39m\u001b[38;5;124m\"\u001b[39m\n\u001b[0;32m    322\u001b[0m     )\n\u001b[1;32m--> 324\u001b[0m \u001b[38;5;28;01mreturn\u001b[39;00m \u001b[43mio_open\u001b[49m\u001b[43m(\u001b[49m\u001b[43mfile\u001b[49m\u001b[43m,\u001b[49m\u001b[43m \u001b[49m\u001b[38;5;241;43m*\u001b[39;49m\u001b[43margs\u001b[49m\u001b[43m,\u001b[49m\u001b[43m \u001b[49m\u001b[38;5;241;43m*\u001b[39;49m\u001b[38;5;241;43m*\u001b[39;49m\u001b[43mkwargs\u001b[49m\u001b[43m)\u001b[49m\n",
      "\u001b[1;31mFileNotFoundError\u001b[0m: [Errno 2] No such file or directory: './hello.txt'"
     ]
    }
   ],
   "source": [
    "file = open('./hello.txt','rt')"
   ]
  },
  {
   "cell_type": "code",
   "execution_count": 3,
   "metadata": {},
   "outputs": [],
   "source": [
    "file = open('./hello.txt','wt')\n",
    "# 파일 만들어짐"
   ]
  },
  {
   "cell_type": "code",
   "execution_count": 4,
   "metadata": {},
   "outputs": [],
   "source": [
    "file = open('./hello.txt','at')\n",
    "\n",
    "file.close()\n",
    "# 파일을 열었으면 반드시 닫기 -> 성능이 딸려짐"
   ]
  },
  {
   "cell_type": "code",
   "execution_count": 6,
   "metadata": {},
   "outputs": [
    {
     "name": "stdout",
     "output_type": "stream",
     "text": [
      "hello.txt 파일이 생성되었습니다.\n"
     ]
    }
   ],
   "source": [
    "file = open('./hello.txt','wt')\n",
    "\n",
    "file.write('안녕하세요.')\n",
    "file.write('\\n')\n",
    "file.write('반갑습니다.')\n",
    "file.write('\\n')\n",
    "print('hello.txt 파일이 생성되었습니다.')\n",
    "\n",
    "file.close()"
   ]
  },
  {
   "cell_type": "code",
   "execution_count": 7,
   "metadata": {},
   "outputs": [
    {
     "ename": "AttributeError",
     "evalue": "'_io.TextIOWrapper' object has no attribute 'open'",
     "output_type": "error",
     "traceback": [
      "\u001b[1;31m---------------------------------------------------------------------------\u001b[0m",
      "\u001b[1;31mAttributeError\u001b[0m                            Traceback (most recent call last)",
      "Cell \u001b[1;32mIn[7], line 1\u001b[0m\n\u001b[1;32m----> 1\u001b[0m \u001b[43mfile\u001b[49m\u001b[38;5;241;43m.\u001b[39;49m\u001b[43mopen\u001b[49m(\u001b[38;5;124m'\u001b[39m\u001b[38;5;124m./hello.txt\u001b[39m\u001b[38;5;124m'\u001b[39m,\u001b[38;5;124m'\u001b[39m\u001b[38;5;124mrt\u001b[39m\u001b[38;5;124m'\u001b[39m)\n",
      "\u001b[1;31mAttributeError\u001b[0m: '_io.TextIOWrapper' object has no attribute 'open'"
     ]
    }
   ],
   "source": [
    "file.open('./hello.txt','rt')"
   ]
  },
  {
   "cell_type": "code",
   "execution_count": 9,
   "metadata": {},
   "outputs": [],
   "source": [
    "import time\n",
    "\n",
    "file = open(time.strftime('%Y-%m-%d') + '.txt','at')\n",
    "while True:\n",
    "    schedule = input('오늘의 스케쥴을 입력하세요')\n",
    "    if not schedule:\n",
    "        break\n",
    "    file.write(schedule + '\\n')\n",
    "\n",
    "file.close()"
   ]
  },
  {
   "cell_type": "code",
   "execution_count": 10,
   "metadata": {},
   "outputs": [
    {
     "name": "stdout",
     "output_type": "stream",
     "text": [
      "안녕하세요.\n",
      "반갑습니다.\n",
      "\n"
     ]
    }
   ],
   "source": [
    "file = open('hello.txt', 'rt')\n",
    "\n",
    "text = file.read()\n",
    "print(text)\n",
    "\n",
    "file.close()"
   ]
  },
  {
   "cell_type": "code",
   "execution_count": 11,
   "metadata": {},
   "outputs": [
    {
     "name": "stdout",
     "output_type": "stream",
     "text": [
      "안녕하세요.\n",
      "반갑습니다.\n",
      "\n"
     ]
    }
   ],
   "source": [
    "file = open('hello.txt', 'rt')\n",
    "\n",
    "text = file.read()\n",
    "print(text)\n",
    "while True:\n",
    "    text = file.read(5)\n",
    "    if not text:\n",
    "        break\n",
    "    print(text)\n",
    "  \n",
    "file.close()"
   ]
  },
  {
   "cell_type": "code",
   "execution_count": 26,
   "metadata": {},
   "outputs": [
    {
     "name": "stdout",
     "output_type": "stream",
     "text": [
      "토실토실 아기돼지 젖달라고 꿀꿀꿀\n",
      "\n",
      "엄마돼지 오냐오냐 알았다고 꿀꿀꿀\n",
      "\n",
      "꿀꿀 꿀꿀 꿀꿀 꿀꿀 꿀꿀꿀꿀 꿀꿀꿀꿀 꿀꿀꿀꿀꿀\n",
      "\n",
      "\n",
      "\n",
      "아기돼지 바깥으로 나가자고 꿀꿀꿀\n",
      "\n",
      "엄마돼지 비가와서 안된다고 꿀꿀꿀\n",
      "\n",
      "꿀꿀 꿀꿀 꿀꿀 꿀꿀 꿀꿀꿀꿀 꿀꿀꿀꿀 꿀꿀꿀꿀꿀\n"
     ]
    }
   ],
   "source": [
    "file = open('엄마돼지아기돼지.txt', 'rt')\n",
    "\n",
    "line_list = file.readlines()\n",
    "\n",
    "count = 0\n",
    "for line in line_list:\n",
    "    for ch in line:\n",
    "        if ch == '꿀':\n",
    "            count += 1\n",
    "            \n",
    "print(f\"꿀은 전체 {count}번 나타납니다.\")\n",
    "file.close()"
   ]
  },
  {
   "cell_type": "code",
   "execution_count": 23,
   "metadata": {},
   "outputs": [
    {
     "name": "stdout",
     "output_type": "stream",
     "text": [
      "생성된 nation.txt 파일의 내용은 다음과 같습니다.\n",
      "그리스-아테네\n",
      "\n",
      "독일-베를린\n",
      "\n",
      "러시아-모스크바\n",
      "\n",
      "미국-워싱턴\n",
      "\n"
     ]
    }
   ],
   "source": [
    "nation = ['그리스', '아테네', '독일', '베를린', '러시아', '모스크바', '미국', '워싱턴']\n",
    "\n",
    "file = open('nation.txt', 'wt')\n",
    "\n",
    "for n in range(0,len(nation),2):\n",
    "    file.write(nation[n] + '-' + nation[n+1] + '\\n')\n",
    "    \n",
    "file = open('nation.txt','rt')\n",
    "lines = file.readlines()\n",
    "print('생성된 nation.txt 파일의 내용은 다음과 같습니다.')\n",
    "for line in lines:\n",
    "    print(line)\n",
    "\n",
    "file.close() "
   ]
  },
  {
   "cell_type": "code",
   "execution_count": 34,
   "metadata": {},
   "outputs": [
    {
     "name": "stdout",
     "output_type": "stream",
     "text": [
      "총 0건의 011 데이터를 찾았습니다.\n",
      "\n",
      "모든 데이터를 수정했습니다.\n"
     ]
    }
   ],
   "source": [
    "file = open('연락처.txt', 'rt')\n",
    "count = 0\n",
    "\n",
    "line_list = file.readlines()\n",
    "\n",
    "for line in line_list:\n",
    "    for ch in line:\n",
    "        if ch == '011':\n",
    "            ch.replace('011', '010')\n",
    "            count += 1\n",
    "  \n",
    "file.close()\n",
    "print(f'총 {count}건의 011 데이터를 찾았습니다.' + '\\n')\n",
    "print('모든 데이터를 수정했습니다.')"
   ]
  },
  {
   "cell_type": "code",
   "execution_count": 8,
   "metadata": {},
   "outputs": [
    {
     "name": "stdout",
     "output_type": "stream",
     "text": [
      "총 3건의 011 데이터를 찾았습니다.\n",
      "모든 데이터를 수정했습니다.\n"
     ]
    }
   ],
   "source": [
    "file = open('연락처.txt', 'r+')\n",
    "\n",
    "line_list = file.readlines()\n",
    "\n",
    "count = 0\n",
    "for i in range(len(line_list)):\n",
    "    if '011' in line_list[i]:\n",
    "        line_list[i]=line_list[i].replace('011', '010')\n",
    "        count += 1\n",
    "\n",
    "print(f\"총 {count}건의 011 데이터를 찾았습니다.\" + '\\n' + '모든 데이터를 수정했습니다.')\n",
    "file.seek(0)\n",
    "file.writelines(line_list)\n",
    "file.close()"
   ]
  },
  {
   "cell_type": "code",
   "execution_count": 9,
   "metadata": {},
   "outputs": [
    {
     "data": {
      "text/plain": [
       "['\"김나라\", \"목포시\", \"010-1111-1111\"\\n',\n",
       " '\"이나라\", \"서울시\", \"010-2222-2222\"\\n',\n",
       " '\"오나라\", \"전주시\", \"010-3333-3333\"\\n',\n",
       " '\"정나라\", \"속초시\", \"010-4444-4444\"\\n',\n",
       " '\"유나라\", \"제주시\", \"010-5555-5555\"']"
      ]
     },
     "execution_count": 9,
     "metadata": {},
     "output_type": "execute_result"
    }
   ],
   "source": [
    "line_list"
   ]
  },
  {
   "cell_type": "code",
   "execution_count": 6,
   "metadata": {},
   "outputs": [],
   "source": [
    "line_list = [line.replace(\"011\",\"010\") for line in line_list]"
   ]
  },
  {
   "cell_type": "code",
   "execution_count": 49,
   "metadata": {},
   "outputs": [],
   "source": [
    "# with open(\"연락처.txt\",\"r+\") as f:\n",
    "#   file2=f.readlines()"
   ]
  },
  {
   "cell_type": "code",
   "execution_count": 10,
   "metadata": {},
   "outputs": [
    {
     "name": "stdout",
     "output_type": "stream",
     "text": [
      "3\n"
     ]
    }
   ],
   "source": [
    "# 연락처 011 에서 010 변경하기\n",
    "\n",
    "file = open('연락처.txt','rt')\n",
    "\n",
    "line_list = file.read()\n",
    "n = line_list.count('\"011-')\n",
    "line_list = line_list.replace('\"011-','\"010-')\n",
    "print(f\"총 {n}건의 011 데이터를 찾았습니다.\")\n",
    "file.close()\n",
    "\n",
    "new_file = open('연락처.txt', 'wt')\n",
    "new_file.write(line_list)\n",
    "new_file.close()\n",
    "print('모든 데이터를 수정했습니다.')\n"
   ]
  },
  {
   "cell_type": "code",
   "execution_count": null,
   "metadata": {},
   "outputs": [],
   "source": [
    "prev_file = open('연락처.txt', 'rt')\n",
    "buffer = prev_file.read()\n",
    "n = buffer.count('\"011-')\n",
    "buffer = buffer.replace('\"011-', '\"010-')\n",
    "print('총 {}건의 011 데이터를 찾았습니다.'.format(n))\n",
    "prev_file.close()\n",
    "\n",
    "new_file = open('연락처.txt', 'wt')\n",
    "new_file.write(buffer)\n",
    "new_file.close()\n",
    "print('모든 데이터를 수정했습니다.')"
   ]
  },
  {
   "cell_type": "code",
   "execution_count": null,
   "metadata": {},
   "outputs": [],
   "source": []
  }
 ],
 "metadata": {
  "kernelspec": {
   "display_name": "Python 3",
   "language": "python",
   "name": "python3"
  },
  "language_info": {
   "codemirror_mode": {
    "name": "ipython",
    "version": 3
   },
   "file_extension": ".py",
   "mimetype": "text/x-python",
   "name": "python",
   "nbconvert_exporter": "python",
   "pygments_lexer": "ipython3",
   "version": "3.11.9"
  }
 },
 "nbformat": 4,
 "nbformat_minor": 2
}
