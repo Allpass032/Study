{
 "cells": [
  {
   "cell_type": "markdown",
   "metadata": {},
   "source": [
    "10/08 study"
   ]
  },
  {
   "cell_type": "code",
   "execution_count": 1,
   "metadata": {},
   "outputs": [
    {
     "name": "stdout",
     "output_type": "stream",
     "text": [
      "64GB USB\n"
     ]
    }
   ],
   "source": [
    "class USB:\n",
    "\n",
    "    def __init__(self, capacity):\n",
    "        self.capacity = capacity\n",
    "    \n",
    "    def info(self):\n",
    "        print(f\"{self.capacity}GB USB\")\n",
    "\n",
    "usb = USB(64)\n",
    "usb.info()"
   ]
  },
  {
   "cell_type": "code",
   "execution_count": 4,
   "metadata": {},
   "outputs": [
    {
     "name": "stdout",
     "output_type": "stream",
     "text": [
      "길 안내 Service가 시작되었습니다.\n",
      "길 안내가 종료되었습니다.\n"
     ]
    }
   ],
   "source": [
    "class Service:\n",
    "\n",
    "    def __init__(self, service):\n",
    "        self.service = service\n",
    "        print(f\"{self.service} Service가 시작되었습니다.\")\n",
    "        \n",
    "    def __del__(self):\n",
    "        print(f\"{self.service}가 종료되었습니다.\")\n",
    "        \n",
    "s = Service('길 안내')\n",
    "del s"
   ]
  },
  {
   "cell_type": "code",
   "execution_count": 5,
   "metadata": {},
   "outputs": [],
   "source": [
    "class Korean:\n",
    "\n",
    "      country = '한국'                #  클래스 변수\n",
    "      \n",
    "      def __init__(self, name, age, address):\n",
    "          self.name = name            #  인스턴스 변수\n",
    "          self.age = age\n",
    "          self.address = address      "
   ]
  },
  {
   "cell_type": "code",
   "execution_count": 10,
   "metadata": {},
   "outputs": [
    {
     "name": "stdout",
     "output_type": "stream",
     "text": [
      "한국\n",
      "한국\n",
      "35\n",
      "서울\n"
     ]
    },
    {
     "ename": "AttributeError",
     "evalue": "type object 'Korean' has no attribute 'age'",
     "output_type": "error",
     "traceback": [
      "\u001b[1;31m---------------------------------------------------------------------------\u001b[0m",
      "\u001b[1;31mAttributeError\u001b[0m                            Traceback (most recent call last)",
      "Cell \u001b[1;32mIn[10], line 6\u001b[0m\n\u001b[0;32m      4\u001b[0m \u001b[38;5;28mprint\u001b[39m(man\u001b[38;5;241m.\u001b[39mage)\n\u001b[0;32m      5\u001b[0m \u001b[38;5;28mprint\u001b[39m(man\u001b[38;5;241m.\u001b[39maddress)\n\u001b[1;32m----> 6\u001b[0m \u001b[38;5;28mprint\u001b[39m(\u001b[43mKorean\u001b[49m\u001b[38;5;241;43m.\u001b[39;49m\u001b[43mage\u001b[49m)\n",
      "\u001b[1;31mAttributeError\u001b[0m: type object 'Korean' has no attribute 'age'"
     ]
    }
   ],
   "source": [
    "man = Korean('홍길동', 35, '서울')\n",
    "print(Korean.country)       #   class 변수는 어지간해서는 class를 통해 호출 > 파이(3.14.. 같은 경우)\n",
    "print(man.country)          #   단지 객체로도 호출 가능은 함\n",
    "print(man.age)\n",
    "print(man.address)\n",
    "print(Korean.age)           #   type object 'Korean' has no attribute 'age'"
   ]
  },
  {
   "cell_type": "code",
   "execution_count": 11,
   "metadata": {},
   "outputs": [],
   "source": [
    "class Korean:\n",
    "\n",
    "      country = '한국'                    #   클래스 변수\n",
    "     \n",
    "      def __init__(self, name, age, address):\n",
    "          self.name = name                #  인스턴스 변수\n",
    "          self.age = age\n",
    "          self.address = address  \n",
    "      \n",
    "      @classmethod                        #   이런 친구를 classmethod라고 함\n",
    "      def trip(cls,country):              #   cls는 class의 줄임말로 클래스 Korean을 의미\n",
    "          if cls.country == country:      #   cls.country는 Korean.country와 같은 의미\n",
    "              print('국내여행입니다.')\n",
    "          else:\n",
    "              print('해외여행입니다.')      "
   ]
  },
  {
   "cell_type": "code",
   "execution_count": 12,
   "metadata": {},
   "outputs": [
    {
     "name": "stdout",
     "output_type": "stream",
     "text": [
      "국내여행입니다.\n"
     ]
    }
   ],
   "source": [
    "Korean.trip('한국')"
   ]
  },
  {
   "cell_type": "code",
   "execution_count": 14,
   "metadata": {},
   "outputs": [],
   "source": [
    "class Korean:\n",
    "\n",
    "      country = '한국'                    #   클래스 변수\n",
    "     \n",
    "      def __init__(self, name, age, address):\n",
    "          self.name = name                #  인스턴스 변수\n",
    "          self.age = age\n",
    "          self.address = address  \n",
    "      \n",
    "      @classmethod                        #   classmethod라고 알림 \n",
    "      def trip(cls,country):              #   cls는 class의 줄임말로 클래스 Korean을 의미\n",
    "          if cls.country == country:      #   cls.country는 Korean.country와 같은 의미\n",
    "              print('국내여행입니다.')\n",
    "          else:\n",
    "              print('해외여행입니다.')\n",
    "              \n",
    "      @staticmethod                       #   정적 메소드임을 알림\n",
    "      def slogan():\n",
    "          print(\"Imagine your Korea\")     #   정적 메소드는 인스턴스 변수나 클래스 변수를 모두 사용안함"
   ]
  },
  {
   "cell_type": "code",
   "execution_count": 15,
   "metadata": {},
   "outputs": [
    {
     "name": "stdout",
     "output_type": "stream",
     "text": [
      "Imagine your Korea\n"
     ]
    }
   ],
   "source": [
    "Korean.slogan()"
   ]
  },
  {
   "cell_type": "code",
   "execution_count": 21,
   "metadata": {},
   "outputs": [
    {
     "name": "stdout",
     "output_type": "stream",
     "text": [
      "현재 가방: 0\n",
      "현재 가방: 3\n",
      "현재 가방: 1\n"
     ]
    }
   ],
   "source": [
    "class Bag:\n",
    "\n",
    "      count = 0\n",
    "      \n",
    "      def __init__(self):\n",
    "          Bag.count += 1\n",
    "      \n",
    "      @classmethod\n",
    "      def sell(cls):\n",
    "          cls.count -= 1\n",
    "      \n",
    "      @classmethod\n",
    "      def remain_bag(cls):\n",
    "          return cls.count\n",
    "        \n",
    "print(f\"현재 가방: {Bag.remain_bag()}\")\n",
    "bag1 = Bag()\n",
    "bag2 = Bag()\n",
    "bag3 = Bag()\n",
    "print(f\"현재 가방: {Bag.remain_bag()}\")\n",
    "bag1.sell()\n",
    "bag2.sell()\n",
    "print(f\"현재 가방: {Bag.remain_bag()}\")"
   ]
  },
  {
   "cell_type": "code",
   "execution_count": 31,
   "metadata": {},
   "outputs": [],
   "source": [
    "# 287page 1번 문제\n",
    "\n",
    "class Person:\n",
    "\n",
    "      count = 0\n",
    "\n",
    "      def __init__(self, name):\n",
    "          self.name = name\n",
    "          print(f\"{self.name} is born\")\n",
    "          Person.count += 1\n",
    "          \n",
    "      @classmethod\n",
    "      def get_population(cls):\n",
    "          return cls.count\n",
    "        \n",
    "      def __del__(self):\n",
    "          Person.count -= 1\n",
    "          print(f\"{self.name} is dead\")"
   ]
  },
  {
   "cell_type": "code",
   "execution_count": 32,
   "metadata": {},
   "outputs": [
    {
     "name": "stderr",
     "output_type": "stream",
     "text": [
      "Exception ignored in: <function Person.__del__ at 0x000002348AF7AD40>\n",
      "Traceback (most recent call last):\n",
      "  File \"C:\\Users\\soung\\AppData\\Local\\Temp\\ipykernel_16372\\3456224319.py\", line 2, in <module>\n",
      "TypeError: Person.__del__() missing 1 required positional argument: 'name'\n"
     ]
    },
    {
     "name": "stdout",
     "output_type": "stream",
     "text": [
      "james is born\n",
      "emily is born\n",
      "전체 인구 수: 2\n",
      "james is dead\n",
      "전체 인구 수: 1\n"
     ]
    }
   ],
   "source": [
    "man = Person('james')\n",
    "woman = Person('emily')\n",
    "print(f\"전체 인구 수: {Person.get_population()}\")\n",
    "del man\n",
    "print(f\"전체 인구 수: {Person.get_population()}\")"
   ]
  },
  {
   "cell_type": "code",
   "execution_count": null,
   "metadata": {},
   "outputs": [],
   "source": []
  }
 ],
 "metadata": {
  "kernelspec": {
   "display_name": "Python 3",
   "language": "python",
   "name": "python3"
  },
  "language_info": {
   "codemirror_mode": {
    "name": "ipython",
    "version": 3
   },
   "file_extension": ".py",
   "mimetype": "text/x-python",
   "name": "python",
   "nbconvert_exporter": "python",
   "pygments_lexer": "ipython3",
   "version": "3.11.9"
  }
 },
 "nbformat": 4,
 "nbformat_minor": 2
}
