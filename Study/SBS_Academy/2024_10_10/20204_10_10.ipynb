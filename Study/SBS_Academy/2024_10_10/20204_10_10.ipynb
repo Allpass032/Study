{
 "cells": [
  {
   "cell_type": "markdown",
   "metadata": {},
   "source": [
    "24년 10월 10일 수업"
   ]
  },
  {
   "cell_type": "markdown",
   "metadata": {},
   "source": [
    " 부모 & 자식클래스\n",
    "부모는 슈퍼 또는 기반 클래스라고도 불림\n",
    "자식은 서브 또는 파생 클래스라고도 불림"
   ]
  },
  {
   "cell_type": "code",
   "execution_count": 1,
   "metadata": {},
   "outputs": [],
   "source": [
    "class Person:\n",
    "\n",
    "    def __init__(self,name): \n",
    "        self.name = name\n",
    "\n",
    "    def eat(self, food):\n",
    "        print(f\"{self.name}가 {food}를 먹습니다.\")\n",
    "\n",
    "class Student(Person):\n",
    "\n",
    "    def __init__(self, name, school):\n",
    "        super().__init__(name)      # 부모 클래스에 있는 생성자를 초기화를 시켜줘야함\n",
    "        self.school = school\n",
    "\n",
    "    def study(self):\n",
    "        print(f\"{self.name}는 {self.school}에서 공부를 합니다.\")   "
   ]
  },
  {
   "cell_type": "code",
   "execution_count": 2,
   "metadata": {},
   "outputs": [
    {
     "name": "stdout",
     "output_type": "stream",
     "text": [
      "해리포터가 감자를 먹습니다.\n",
      "해리포터는 호그와트에서 공부를 합니다.\n"
     ]
    }
   ],
   "source": [
    "potter = Student('해리포터', '호그와트')\n",
    "potter.eat('감자')\n",
    "potter.study()"
   ]
  },
  {
   "cell_type": "code",
   "execution_count": 3,
   "metadata": {},
   "outputs": [
    {
     "name": "stdout",
     "output_type": "stream",
     "text": [
      "True\n",
      "True\n"
     ]
    }
   ],
   "source": [
    "print(isinstance(potter,Student))\n",
    "print(isinstance(potter,Person))"
   ]
  },
  {
   "cell_type": "code",
   "execution_count": 9,
   "metadata": {},
   "outputs": [],
   "source": [
    "class Coffee:\n",
    "  \n",
    "    def __init__(self, bean):\n",
    "        self.bean = bean\n",
    "    \n",
    "    def coffee_info(self):\n",
    "        print(f\"원두: {self.bean}\")\n",
    "        \n",
    "class Espresso(Coffee):\n",
    "\n",
    "    def __init__(self, bean, water):\n",
    "        super().__init__(bean)\n",
    "        self.water = water\n",
    "\n",
    "    def espresso_info(self):\n",
    "        super().coffee_info()\n",
    "        print(f\"물: {self.water}ml\")"
   ]
  },
  {
   "cell_type": "code",
   "execution_count": 10,
   "metadata": {},
   "outputs": [
    {
     "name": "stdout",
     "output_type": "stream",
     "text": [
      "원두: 콜롬비아\n",
      "물: 30ml\n"
     ]
    }
   ],
   "source": [
    "coffee = Espresso('콜롬비아', 30)\n",
    "coffee.espresso_info()"
   ]
  },
  {
   "cell_type": "markdown",
   "metadata": {},
   "source": [
    "288 page 2,3 번 문제"
   ]
  },
  {
   "cell_type": "code",
   "execution_count": 15,
   "metadata": {},
   "outputs": [],
   "source": [
    "class Shop:\n",
    "    \n",
    "    total = 0\n",
    "    menu_list = {'떡볶이':3000,\n",
    "                 '순대':3000, \n",
    "                 '튀김':500, \n",
    "                 '김밥':2000}\n",
    "    \n",
    "    @classmethod\n",
    "    def sales(cls,menu,num):\n",
    "        cls.total += cls.menu_list[menu]*num\n",
    "    "
   ]
  },
  {
   "cell_type": "code",
   "execution_count": 16,
   "metadata": {},
   "outputs": [
    {
     "name": "stdout",
     "output_type": "stream",
     "text": [
      "매출 : 9500\n"
     ]
    }
   ],
   "source": [
    "Shop.sales('떡볶이',1)\n",
    "Shop.sales('김밥',2)\n",
    "Shop.sales('튀김',5)\n",
    "print(f\"매출 : {Shop.total}\")"
   ]
  },
  {
   "cell_type": "code",
   "execution_count": 30,
   "metadata": {},
   "outputs": [],
   "source": [
    "class Car:\n",
    "\n",
    "  max_oil = 50\n",
    "  \n",
    "  def __init__(self, oil):\n",
    "      self.oil = oil\n",
    "      \n",
    "  def add_oil(self, oil):\n",
    "      if oil <= 0:\n",
    "          return \n",
    "      self.oil += oil\n",
    "      if self.oil > Car.max_oil:\n",
    "        self.oil = Car.max_oil\n",
    "  \n",
    "  def car_info(self):\n",
    "      print(f\"현재 주유상태: {self.oil}\")\n",
    "\n",
    "\n",
    "class Hybrid(Car):\n",
    "    \n",
    "    max_batt = 30\n",
    "    \n",
    "    def __init__ (self, oil, batt):\n",
    "        super().__init__(oil)\n",
    "        self.batt = batt\n",
    "        \n",
    "    def charge(self, batt):\n",
    "        if batt <= 0:\n",
    "            return\n",
    "        self.batt += batt\n",
    "        if self.batt > Hybrid.max_batt:\n",
    "            self.batt = Hybrid.max_batt\n",
    "            \n",
    "    def hybrid_info(self):\n",
    "        super().car_info()\n",
    "        print(f\"현재 충전상태: {self.batt}\")"
   ]
  },
  {
   "cell_type": "code",
   "execution_count": 31,
   "metadata": {},
   "outputs": [
    {
     "name": "stdout",
     "output_type": "stream",
     "text": [
      "현재 주유상태: 50\n",
      "현재 충전상태: 30\n"
     ]
    }
   ],
   "source": [
    "car = Hybrid(0,0)\n",
    "car.add_oil(100)\n",
    "car.charge(50)\n",
    "car.hybrid_info()"
   ]
  },
  {
   "cell_type": "code",
   "execution_count": 32,
   "metadata": {},
   "outputs": [
    {
     "data": {
      "text/plain": [
       "6000.0"
      ]
     },
     "execution_count": 32,
     "metadata": {},
     "output_type": "execute_result"
    }
   ],
   "source": [
    "300000 * 0.02"
   ]
  },
  {
   "cell_type": "code",
   "execution_count": 43,
   "metadata": {},
   "outputs": [],
   "source": [
    "# 307장 2번 문제\n",
    "import random\n",
    "\n",
    "class Updown:\n",
    "    \n",
    "    def play(self):\n",
    "      \n",
    "        answer = random.randint(1,100)\n",
    "        count = 0\n",
    "        \n",
    "        while True:\n",
    "            user_answer = int(input(\"입력(1~100)\"))\n",
    "            if answer == user_answer:\n",
    "                print(f\"{count}번만의 정답입니다.\")\n",
    "                break\n",
    "            elif user_answer not in range(1,101):\n",
    "                print(\"1~100 사이만 입력하세요\")\n",
    "                continue\n",
    "            elif user_answer > answer:\n",
    "                print(\"Down!\")\n",
    "                count += 1\n",
    "            else:\n",
    "                print(\"Up!\")\n",
    "                count += 1                 "
   ]
  },
  {
   "cell_type": "code",
   "execution_count": 45,
   "metadata": {},
   "outputs": [
    {
     "name": "stdout",
     "output_type": "stream",
     "text": [
      "Up!\n",
      "Up!\n",
      "Up!\n",
      "Down!\n",
      "Down!\n",
      "Down!\n",
      "6번만의 정답입니다.\n"
     ]
    }
   ],
   "source": [
    "game = Updown()\n",
    "game.play()"
   ]
  },
  {
   "cell_type": "code",
   "execution_count": null,
   "metadata": {},
   "outputs": [],
   "source": []
  }
 ],
 "metadata": {
  "kernelspec": {
   "display_name": "Python 3",
   "language": "python",
   "name": "python3"
  },
  "language_info": {
   "codemirror_mode": {
    "name": "ipython",
    "version": 3
   },
   "file_extension": ".py",
   "mimetype": "text/x-python",
   "name": "python",
   "nbconvert_exporter": "python",
   "pygments_lexer": "ipython3",
   "version": "3.11.9"
  }
 },
 "nbformat": 4,
 "nbformat_minor": 2
}
