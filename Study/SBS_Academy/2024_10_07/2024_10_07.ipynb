{
 "cells": [
  {
   "cell_type": "markdown",
   "metadata": {},
   "source": [
    "2024/10/07"
   ]
  },
  {
   "cell_type": "code",
   "execution_count": 34,
   "metadata": {},
   "outputs": [
    {
     "name": "stdout",
     "output_type": "stream",
     "text": [
      "john\n",
      "15\n",
      "123-1234\n",
      "toronto\n"
     ]
    }
   ],
   "source": [
    "class Person:   # class 네이밍할 때 대문자\n",
    "    def who_am_i(self,name,age,tel,addr):\n",
    "        self.name = name\n",
    "        self.age = age\n",
    "        self.tel = tel\n",
    "        self.addr = addr\n",
    "\n",
    "boy = Person()\n",
    "boy.who_am_i('john',15,'123-1234','toronto')\n",
    "print(boy.name)\n",
    "print(boy.age)\n",
    "print(boy.tel)\n",
    "print(boy.addr)"
   ]
  },
  {
   "cell_type": "code",
   "execution_count": 35,
   "metadata": {},
   "outputs": [
    {
     "name": "stdout",
     "output_type": "stream",
     "text": [
      "CPU = i7\n",
      "RAM = 16GB\n",
      "VGA = GTX1060\n",
      "SSD = 512GB\n",
      "CPU = i7\n",
      "RAM = 16GB\n",
      "VGA = GTX1060\n",
      "SSD = 512GB\n"
     ]
    }
   ],
   "source": [
    "class Computer:\n",
    "\n",
    "    def set_spec(self, cpu, ram, vga, ssd):\n",
    "        self.cpu = cpu\n",
    "        self.ram = ram\n",
    "        self.vga = vga\n",
    "        self.ssd = ssd\n",
    "        \n",
    "    def hardware_info(self):\n",
    "        print(f\"CPU = {self.cpu}\")\n",
    "        print(f\"RAM = {self.ram}\")\n",
    "        print(f\"VGA = {self.vga}\")\n",
    "        print(f\"SSD = {self.ssd}\")\n",
    "        \n",
    "desktop = Computer()\n",
    "desktop.set_spec('i7', '16GB', 'GTX1060', '512GB')\n",
    "desktop.hardware_info()\n",
    "\n",
    "notebook = Computer()\n",
    "notebook.set_spec('i5', '8GB', 'MX300', '256GB')\n",
    "desktop.hardware_info()"
   ]
  },
  {
   "cell_type": "code",
   "execution_count": 36,
   "metadata": {},
   "outputs": [
    {
     "ename": "SyntaxError",
     "evalue": "invalid syntax (<string>, line 0)",
     "output_type": "error",
     "traceback": [
      "Traceback \u001b[1;36m(most recent call last)\u001b[0m:\n",
      "\u001b[0m  File \u001b[0;32m~\\AppData\\Roaming\\Python\\Python311\\site-packages\\IPython\\core\\interactiveshell.py:3577\u001b[0m in \u001b[0;35mrun_code\u001b[0m\n    exec(code_obj, self.user_global_ns, self.user_ns)\u001b[0m\n",
      "\u001b[0m  Cell \u001b[0;32mIn[36], line 12\u001b[0m\n    print(f'수식 결과는 {calc.calculate()}입니다.')\u001b[0m\n",
      "\u001b[1;36m  Cell \u001b[1;32mIn[36], line 8\u001b[1;36m in \u001b[1;35mcalculate\u001b[1;36m\n\u001b[1;33m    return eval(self.expr)\u001b[1;36m\n",
      "\u001b[1;36m  File \u001b[1;32m<string>\u001b[1;36m\u001b[0m\n\u001b[1;33m    \u001b[0m\n\u001b[1;37m    ^\u001b[0m\n\u001b[1;31mSyntaxError\u001b[0m\u001b[1;31m:\u001b[0m invalid syntax\n"
     ]
    }
   ],
   "source": [
    "class Calculator:\n",
    "\n",
    "    def input_expr(self):\n",
    "        expr = input('수식을 입력하세요')\n",
    "        self.expr = expr\n",
    "        \n",
    "    def calculate(self):  \n",
    "        return eval(self.expr)\n",
    "      \n",
    "calc = Calculator()\n",
    "calc.input_expr()\n",
    "print(f'수식 결과는 {calc.calculate()}입니다.')"
   ]
  },
  {
   "cell_type": "markdown",
   "metadata": {},
   "source": [
    "1,3번 문제만 풀이"
   ]
  },
  {
   "cell_type": "code",
   "execution_count": 11,
   "metadata": {},
   "outputs": [
    {
     "name": "stdout",
     "output_type": "stream",
     "text": [
      "책 제목: 파이썬\n",
      "책 저자: 민경태\n",
      "책 제목: 어린왕자\n",
      "책 저자: 생텍쥐페리\n"
     ]
    }
   ],
   "source": [
    "# 1\n",
    "\n",
    "class Book:\n",
    "    \n",
    "    def book_inform(self, name, writer):\n",
    "        self.name = name\n",
    "        self.writer = writer\n",
    "        \n",
    "    def print_info(self):\n",
    "        print(f\"책 제목: {self.name}\")\n",
    "        print(f\"책 저자: {self.writer}\")\n",
    "\n",
    "book1 = Book()\n",
    "book1.book_inform('파이썬','민경태')\n",
    "book1.print_info()\n",
    "\n",
    "book2 = Book()\n",
    "book2.book_inform('어린왕자','생텍쥐페리')\n",
    "book2.print_info()"
   ]
  },
  {
   "cell_type": "code",
   "execution_count": 40,
   "metadata": {},
   "outputs": [
    {
     "name": "stdout",
     "output_type": "stream",
     "text": [
      "가수 이름: 김동률\n",
      "노래 제목: 취중진담(발라드)\n"
     ]
    }
   ],
   "source": [
    "# 3\n",
    "\n",
    "class Song:\n",
    "\n",
    "    def set_song(self, name, genre):\n",
    "        self.inform_n = name\n",
    "        self.inform_g = genre\n",
    "    \n",
    "    def print_song(self):\n",
    "        print(f\"노래 제목: {self.inform_n}({self.inform_g})\")\n",
    "        \n",
    "class Singer:\n",
    "\n",
    "    def set_singer(self, name):\n",
    "        self.name = name\n",
    "    \n",
    "    def hit_song(self, hit_song_name):\n",
    "        self.hit_song_name = hit_song_name\n",
    "    \n",
    "    def print_singer(self):\n",
    "        print(f\"가수 이름: {self.name}\")\n",
    "        self.hit_song_name.print_song()\n",
    "        \n",
    "          \n",
    "song1 = Song()\n",
    "song1.set_song('취중진담', '발라드')\n",
    "\n",
    "singer1 = Singer()\n",
    "singer1.set_singer('김동률')\n",
    "singer1.hit_song(song1)\n",
    "singer1.print_singer()"
   ]
  },
  {
   "cell_type": "code",
   "execution_count": 32,
   "metadata": {},
   "outputs": [],
   "source": [
    "def func(x):\n",
    "  return x"
   ]
  },
  {
   "cell_type": "code",
   "execution_count": 33,
   "metadata": {},
   "outputs": [
    {
     "name": "stdout",
     "output_type": "stream",
     "text": [
      "<function func at 0x000001CB319C1E40>\n"
     ]
    }
   ],
   "source": [
    "print(func)"
   ]
  },
  {
   "cell_type": "code",
   "execution_count": null,
   "metadata": {},
   "outputs": [],
   "source": []
  }
 ],
 "metadata": {
  "kernelspec": {
   "display_name": "Python 3",
   "language": "python",
   "name": "python3"
  },
  "language_info": {
   "codemirror_mode": {
    "name": "ipython",
    "version": 3
   },
   "file_extension": ".py",
   "mimetype": "text/x-python",
   "name": "python",
   "nbconvert_exporter": "python",
   "pygments_lexer": "ipython3",
   "version": "3.11.9"
  }
 },
 "nbformat": 4,
 "nbformat_minor": 2
}
