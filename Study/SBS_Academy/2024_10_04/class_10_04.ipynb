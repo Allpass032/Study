{
 "cells": [
  {
   "cell_type": "markdown",
   "metadata": {},
   "source": [
    "2024/10/04 수업"
   ]
  },
  {
   "cell_type": "code",
   "execution_count": 1,
   "metadata": {},
   "outputs": [
    {
     "name": "stdout",
     "output_type": "stream",
     "text": [
      "code2.mp4 파일이 복사되었습니다.\n"
     ]
    }
   ],
   "source": [
    "buffer_size = 1024\n",
    "with open('code.mp4', 'rb') as source:\n",
    "    with open('code2.mp4', 'wb') as copy:\n",
    "        while True:\n",
    "            buffer = source.read(buffer_size)\n",
    "            if not buffer:\n",
    "                break\n",
    "            copy.write(buffer)\n",
    "print('code2.mp4 파일이 복사되었습니다.')"
   ]
  },
  {
   "cell_type": "code",
   "execution_count": 3,
   "metadata": {},
   "outputs": [
    {
     "name": "stdout",
     "output_type": "stream",
     "text": [
      "[['10101', '김승별', '서울시 영등포구', '010-1111-1111\\n'], ['10102', '박나라', '서울시 여의도구', '010-2222-2222\\n'], ['10103', '최태욱', '서울시 강남구', '010-3333-3333\\n'], ['10104', '민기홍', '인천시 계양구', '010-4444-4444\\n'], ['10105', '이명숙', '경기도 과천시', '010-5555-5555\\n']]\n"
     ]
    }
   ],
   "source": [
    "student_list = []\n",
    "with open('학생명단.csv', 'rt') as file:\n",
    "    file.readline()\n",
    "    while True:\n",
    "        line = file.readline()\n",
    "        if not line:\n",
    "            break\n",
    "        student = line.split(',')\n",
    "        student_list.append(student)\n",
    "print(student_list)"
   ]
  },
  {
   "cell_type": "code",
   "execution_count": 4,
   "metadata": {},
   "outputs": [
    {
     "name": "stdout",
     "output_type": "stream",
     "text": [
      "[['강나라', '필라테스', '25일'], ['나유라', '수영', '25일'], ['이상기', '헬스', '15일']]\n"
     ]
    }
   ],
   "source": [
    "member_list = []\n",
    "with open('회원명단.csv', 'rt') as file:\n",
    "    file.readline()\n",
    "    while True:\n",
    "        line = file.readline()\n",
    "        if not line:\n",
    "            break\n",
    "        member = line.split(',')\n",
    "        member[0] = member[0].strip('\"')\n",
    "        member[-1] = member[-1].strip('\\n')\n",
    "        member_list.append(member)\n",
    "print(member_list)"
   ]
  },
  {
   "cell_type": "code",
   "execution_count": 6,
   "metadata": {},
   "outputs": [
    {
     "name": "stdout",
     "output_type": "stream",
     "text": [
      "차량관리.csv 파일이 생성되었습니다.\n"
     ]
    }
   ],
   "source": [
    "import csv\n",
    "\n",
    "# newline = ''을 통해서 빈 줄 없이 파일 생성함\n",
    "# quotechar='\"'를 통해서 3번째 데이터를 큰따옴표로 묶어서 생성\n",
    "\n",
    "with open('차량관리.csv','w',newline = '') as file:\n",
    "    csv_maker = csv.writer(file, delimiter = ',',quotechar='\"')\n",
    "    csv_maker.writerow([1,'08러1234','2020-10-20,14:00'])\n",
    "    csv_maker.writerow([2,'25다1234','2020-10-20,14:00'])\n",
    "    csv_maker.writerow([3,'28하1234','2020-10-20,14:20'])\n",
    "print('차량관리.csv 파일이 생성되었습니다.')"
   ]
  },
  {
   "cell_type": "code",
   "execution_count": 7,
   "metadata": {},
   "outputs": [
    {
     "name": "stdout",
     "output_type": "stream",
     "text": [
      "dictList.json 파일이 생성되었습니다.\n"
     ]
    }
   ],
   "source": [
    "import json\n",
    "\n",
    "dict_list =[\n",
    "  {\n",
    "    'name':'james',\n",
    "    'age':20,\n",
    "    'spec':[\n",
    "      175.5,\n",
    "      70.5\n",
    "    ]\n",
    "  },\n",
    "  {\n",
    "    'name':'alice',\n",
    "    'age':21,\n",
    "    'spec':[\n",
    "      168.5,\n",
    "      60.5\n",
    "    ]\n",
    "  }\n",
    "]\n",
    "\n",
    "json_string = json.dumps(dict_list)\n",
    "# json_string = json.dumps(dict_list, indent = 4를 하면 들여쓰기를 4개로 처리한다는 의미 \n",
    "# 단지 네트워크 전송 목적이라면 파일 크기 커지기 때문에 사용하지 않음\n",
    "\n",
    "with open('dictList.json', 'w') as file:\n",
    "    file.write(json_string)\n",
    "\n",
    "print('dictList.json 파일이 생성되었습니다.')"
   ]
  },
  {
   "cell_type": "code",
   "execution_count": 9,
   "metadata": {},
   "outputs": [
    {
     "name": "stdout",
     "output_type": "stream",
     "text": [
      "복사본-nation.txt 파일이 생성되었습니다.\n"
     ]
    }
   ],
   "source": [
    "while True:\n",
    "    will_copy = input('복사할 파일명을 입력하세요 >>>')\n",
    "    if will_copy.split('.')[-1] == 'txt':\n",
    "        with open(f'{will_copy}','rt') as origin:\n",
    "            with open(f'복사본-{will_copy}', 'wt') as copy:\n",
    "                while True:\n",
    "                    content = origin.readline()\n",
    "                    if not content:\n",
    "                        break\n",
    "                    copy.write(content)\n",
    "        print(f'복사본-{will_copy} 파일이 생성되었습니다.')\n",
    "        break\n",
    "    else:\n",
    "        print('복사할 수 없는 파일입니다.')\n",
    "        continue"
   ]
  },
  {
   "cell_type": "code",
   "execution_count": null,
   "metadata": {},
   "outputs": [],
   "source": []
  }
 ],
 "metadata": {
  "kernelspec": {
   "display_name": "Python 3",
   "language": "python",
   "name": "python3"
  },
  "language_info": {
   "codemirror_mode": {
    "name": "ipython",
    "version": 3
   },
   "file_extension": ".py",
   "mimetype": "text/x-python",
   "name": "python",
   "nbconvert_exporter": "python",
   "pygments_lexer": "ipython3",
   "version": "3.11.9"
  }
 },
 "nbformat": 4,
 "nbformat_minor": 2
}
