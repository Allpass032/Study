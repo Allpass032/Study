{
 "cells": [
  {
   "cell_type": "code",
   "execution_count": 4,
   "metadata": {},
   "outputs": [
    {
     "name": "stdout",
     "output_type": "stream",
     "text": [
      "서울특별시 마포구에 설치된 CCTV는 총 2167대입니다.\n"
     ]
    }
   ],
   "source": [
    "# cctv 갯수 구하기\n",
    "\n",
    "camera_count = 0\n",
    "with open('cctv.csv', 'rt') as file:\n",
    "    file.readline()\n",
    "    while True:\n",
    "      line = file.readline()\n",
    "      if not line:\n",
    "          break\n",
    "      each_inform = line.split(',')\n",
    "      camera_count += int(each_inform[4])\n",
    "print(f'서울특별시 마포구에 설치된 CCTV는 총 {camera_count}대입니다.')\n"
   ]
  },
  {
   "cell_type": "code",
   "execution_count": 10,
   "metadata": {},
   "outputs": [
    {
     "name": "stdout",
     "output_type": "stream",
     "text": [
      "{'방범', '방범(어린이보호구역)', '방범(그린파킹)', '방범(경찰 설치)', '방범(치수과)', '주정차단속', '방범(공원)'}\n"
     ]
    }
   ],
   "source": [
    "# CCTV 설치목적\n",
    "\n",
    "import json\n",
    "\n",
    "with open('cctv.json', 'r', encoding='UTF8') as file:\n",
    "    json_reader = file.read()\n",
    "    cctv_list = json.loads(json_reader)\n",
    "\n",
    "purpose = set()\n",
    "for inform in cctv_list:\n",
    "    purpose.add(inform['설치목적구분'])\n",
    "\n",
    "print(purpose)\n",
    "    "
   ]
  }
 ],
 "metadata": {
  "kernelspec": {
   "display_name": "Python 3",
   "language": "python",
   "name": "python3"
  },
  "language_info": {
   "codemirror_mode": {
    "name": "ipython",
    "version": 3
   },
   "file_extension": ".py",
   "mimetype": "text/x-python",
   "name": "python",
   "nbconvert_exporter": "python",
   "pygments_lexer": "ipython3",
   "version": "3.11.9"
  }
 },
 "nbformat": 4,
 "nbformat_minor": 2
}
