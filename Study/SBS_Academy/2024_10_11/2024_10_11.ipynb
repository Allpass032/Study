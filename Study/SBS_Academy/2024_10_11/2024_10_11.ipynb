{
 "cells": [
  {
   "cell_type": "code",
   "execution_count": 1,
   "metadata": {},
   "outputs": [
    {
     "name": "stdout",
     "output_type": "stream",
     "text": [
      "예외가 발생했습니다.\n"
     ]
    }
   ],
   "source": [
    "try:\n",
    "  a = int(input('제수를 입력하세요'))\n",
    "  b = int(input('피제수를 입력하세요'))\n",
    "  print(f'{a}/{b} = {a/b}.')\n",
    "\n",
    "except:\n",
    "  print('예외가 발생했습니다.')"
   ]
  },
  {
   "cell_type": "code",
   "execution_count": 3,
   "metadata": {},
   "outputs": [
    {
     "name": "stdout",
     "output_type": "stream",
     "text": [
      "예외가 발생했습니다.\n"
     ]
    }
   ],
   "source": [
    "try:\n",
    "  height = input('키를 입력하세요')\n",
    "  height = round(height)\n",
    "  print(f\"입력하신 키는 {height}cm로 처리됩니다.\")\n",
    "\n",
    "except:\n",
    "  print('예외가 발생했습니다.')"
   ]
  },
  {
   "cell_type": "code",
   "execution_count": 1,
   "metadata": {},
   "outputs": [
    {
     "name": "stdout",
     "output_type": "stream",
     "text": [
      "0으로 나눌 수 없습니다.\n"
     ]
    }
   ],
   "source": [
    "try:\n",
    "  a = int(input('제수를 입력하세요'))\n",
    "  b = int(input('피제수를 입력하세요'))\n",
    "  print(f'{a}/{b} = {a/b}.')\n",
    "\n",
    "except ZeroDivisionError:\n",
    "  print('0으로 나눌 수 없습니다.')\n",
    "except ValueError:\n",
    "  print('정수만 입력할 수 있습니다.')\n",
    "except:\n",
    "  print('알 수 없는 에러 발생하였습니다.')"
   ]
  },
  {
   "cell_type": "code",
   "execution_count": 2,
   "metadata": {},
   "outputs": [
    {
     "name": "stdout",
     "output_type": "stream",
     "text": [
      "list index out of range\n"
     ]
    }
   ],
   "source": [
    "a = [10,20,30,40,50]\n",
    "\n",
    "try:\n",
    "    a[10]\n",
    "except IndexError as e:\n",
    "    print(e)"
   ]
  },
  {
   "cell_type": "code",
   "execution_count": 4,
   "metadata": {},
   "outputs": [
    {
     "name": "stdout",
     "output_type": "stream",
     "text": [
      "5/2 = 2.5\n",
      "프로그램을 종료합니다.\n"
     ]
    }
   ],
   "source": [
    "try:\n",
    "  a = int(input('제수를 입력하세요'))\n",
    "  b = int(input('피제수를 입력하세요'))\n",
    "  result = a/b\n",
    "\n",
    "except ZeroDivisionError:\n",
    "  print('0으로 나눌 수 없습니다.')\n",
    "except ValueError:\n",
    "  print('정수만 입력할 수 있습니다.')\n",
    "else:\n",
    "  print(f\"{a}/{b} = {result}\")\n",
    "finally:    # 예외발생 상관없이 항상 처리되는 구문\n",
    "  print(\"프로그램을 종료합니다.\")"
   ]
  },
  {
   "cell_type": "code",
   "execution_count": null,
   "metadata": {},
   "outputs": [],
   "source": [
    "present = 547374\n",
    "what_i_want = 115610\n",
    "will_get = 300000\n",
    "what_i_need = "
   ]
  },
  {
   "cell_type": "code",
   "execution_count": 5,
   "metadata": {},
   "outputs": [
    {
     "name": "stdout",
     "output_type": "stream",
     "text": [
      "nation.txt 파일이 존재하지 않습니다.\n",
      "프로그램을 종료합니다.\n"
     ]
    }
   ],
   "source": [
    "try:\n",
    "    filename = input(\"열고자 하는 파일명을 입력하세요\")\n",
    "    file = open(filename, 'rt')\n",
    "except FileNotFoundError:\n",
    "    print(f\"{filename} 파일이 존재하지 않습니다.\")\n",
    "else:\n",
    "    buffer = file.read()\n",
    "    print(buffer, end = '')\n",
    "    print()\n",
    "    file.close()\n",
    "finally:\n",
    "    print(\"프로그램을 종료합니다.\")"
   ]
  },
  {
   "cell_type": "code",
   "execution_count": 6,
   "metadata": {},
   "outputs": [
    {
     "name": "stdout",
     "output_type": "stream",
     "text": [
      "70점은 불(Fire)합격입니다.\n"
     ]
    }
   ],
   "source": [
    "try:\n",
    "    score = int(input('점수를 입력하세요'))\n",
    "    if score < 0 or score > 100:\n",
    "      raise Exception('점수는 0 ~ 100 사이입니다')\n",
    "except Exception as e:\n",
    "    print(e)\n",
    "else:\n",
    "    if score >= 80:\n",
    "        print(f\"{score}점은 합격입니다.\")\n",
    "    else:\n",
    "        print(f\"{score}점은 불(Fire)합격입니다.\")"
   ]
  },
  {
   "cell_type": "code",
   "execution_count": null,
   "metadata": {},
   "outputs": [],
   "source": [
    "class ScoreError(Exception):\n",
    "    def __init__(self, message):\n",
    "        super().__init__(message)\n",
    "try:\n",
    "    score = int(input('점수를 입력하세요'))\n",
    "    if score < 0 or score > 100:\n",
    "      raise Exception('점수는 0 ~ 100 사이입니다')\n",
    "except Exception as e:\n",
    "    print(e)\n",
    "else:\n",
    "    if score >= 80:\n",
    "        print(f\"{score}점은 합격입니다.\")\n",
    "    else:\n",
    "        print(f\"{score}점은 불(Fire)합격입니다.\")"
   ]
  },
  {
   "cell_type": "code",
   "execution_count": 8,
   "metadata": {},
   "outputs": [
    {
     "name": "stdout",
     "output_type": "stream",
     "text": [
      "입력된 이름은 이성철입니다.\n"
     ]
    }
   ],
   "source": [
    "class NameError(Exception):\n",
    "\n",
    "    def __init__(self, message):\n",
    "        super().__init__(message)\n",
    "    \n",
    "    try:\n",
    "        name = input('이름을 입력하세요')\n",
    "        if len(name) < 2 or len(name) > 6:\n",
    "            raise NameError('이름은 2~6자 사이로 입력해 주세요')\n",
    "    except NameError as e:\n",
    "        print(e)\n",
    "    else:\n",
    "        print(f'입력된 이름은 {name}입니다.')"
   ]
  },
  {
   "cell_type": "code",
   "execution_count": 37,
   "metadata": {},
   "outputs": [],
   "source": [
    "class BankAccount:\n",
    "    # 5번 지시사항 transfer 변경\n",
    "    def __init__(self, acc_no, balance):\n",
    "        self.acc_no = acc_no\n",
    "        self.balance = balance\n",
    "    \n",
    "    def deposit(self, money):\n",
    "        if money > 0:\n",
    "          self.balance += money\n",
    "        else:\n",
    "          raise BankError(f\"{money} 입금 불가\")\n",
    "    \n",
    "    def withdraw(self, money):\n",
    "        if money < 0:\n",
    "          raise BankError(f'{money} 출금 불가')\n",
    "        elif money > self.balance:\n",
    "          raise BankError(f\"잔액 부족\")\n",
    "        else:\n",
    "          self.balance -= money\n",
    "    \n",
    "    def transfer(self, you, money):\n",
    "        self.withdraw(money)\n",
    "        you.deposit(money)\n",
    "    \n",
    "    def inquiry(self):\n",
    "      print(f\"계좌번호: {self.acc_no}\")\n",
    "      print(f\"통장 잔액: {self.balance}\")\n",
    "\n",
    "        \n",
    "class BankError(Exception):\n",
    "    def __init__(self, message):\n",
    "        super().__init__(message)"
   ]
  },
  {
   "cell_type": "code",
   "execution_count": 38,
   "metadata": {},
   "outputs": [
    {
     "name": "stdout",
     "output_type": "stream",
     "text": [
      "-1000 입금 불가\n",
      "계좌번호: 012-34-56789\n",
      "통장 잔액: 50000\n"
     ]
    }
   ],
   "source": [
    "me = BankAccount('012-34-56789', 50000)\n",
    "try:\n",
    "  me.deposit(-1000)\n",
    "\n",
    "except BankError as e:\n",
    "  print(e)\n",
    "\n",
    "finally:\n",
    "  me.inquiry()"
   ]
  },
  {
   "cell_type": "code",
   "execution_count": 39,
   "metadata": {},
   "outputs": [
    {
     "name": "stdout",
     "output_type": "stream",
     "text": [
      "-1000 출금 불가\n",
      "계좌번호: 012-34-56789\n",
      "통장 잔액: 50000\n"
     ]
    }
   ],
   "source": [
    "me = BankAccount('012-34-56789', 50000)\n",
    "try:\n",
    "  me.withdraw(-1000)\n",
    "except BankError as e:\n",
    "  print(e)\n",
    "finally:\n",
    "  me.inquiry()"
   ]
  },
  {
   "cell_type": "code",
   "execution_count": 40,
   "metadata": {},
   "outputs": [
    {
     "name": "stdout",
     "output_type": "stream",
     "text": [
      "잔액 부족\n",
      "계좌번호: 012-34-56789\n",
      "통장 잔액: 50000\n"
     ]
    }
   ],
   "source": [
    "me = BankAccount('012-34-56789', 50000)\n",
    "try:\n",
    "  me.withdraw(100000)\n",
    "except BankError as e:\n",
    "  print(e)\n",
    "finally:\n",
    "  me.inquiry()"
   ]
  },
  {
   "cell_type": "code",
   "execution_count": 43,
   "metadata": {},
   "outputs": [
    {
     "name": "stdout",
     "output_type": "stream",
     "text": [
      "-1000 출금 불가\n",
      "계좌번호: 012-34-56789\n",
      "통장 잔액: 50000\n",
      "계좌번호: 987-65-43210\n",
      "통장 잔액: 50000\n"
     ]
    }
   ],
   "source": [
    "me = BankAccount('012-34-56789', 50000)\n",
    "you = BankAccount('987-65-43210', 50000)\n",
    "try:\n",
    "  me.transfer(you, -1000)\n",
    "except BankError as e:\n",
    "  print(e)\n",
    "finally:\n",
    "  me.inquiry()\n",
    "  you.inquiry()"
   ]
  },
  {
   "cell_type": "code",
   "execution_count": 62,
   "metadata": {},
   "outputs": [],
   "source": [
    "class Quiz:\n",
    "\n",
    "    answer = ['경기도','강원도','충청남도','충청북도','전라남도','전라북도','경상남도','경상북도','제주특별자치도']\n",
    "    \n",
    "    @classmethod\n",
    "    def challenge(cls):\n",
    "        # correct_answer = cls.answer\n",
    "        while True:\n",
    "            user_answer = input('정답은?')\n",
    " \n",
    "            if len(cls.answer) == 0:\n",
    "                print('모든 도를 맞혔습니다. 성공입니다.')\n",
    "                break\n",
    "            \n",
    "            if user_answer in cls.answer:\n",
    "                print('정답입니다.')\n",
    "                cls.answer.remove(user_answer)\n",
    "            else:\n",
    "                raise Exception('틀렸습니다.')   "
   ]
  },
  {
   "cell_type": "code",
   "execution_count": 63,
   "metadata": {},
   "outputs": [
    {
     "name": "stdout",
     "output_type": "stream",
     "text": [
      "우리나라의 9개 모든 도를 맞히는 퀴즈입니다. 하나씩 대답하세요\n",
      "정답입니다.\n",
      "정답입니다.\n",
      "정답입니다.\n",
      "정답입니다.\n",
      "정답입니다.\n",
      "정답입니다.\n",
      "정답입니다.\n",
      "정답입니다.\n",
      "정답입니다.\n",
      "모든 도를 맞혔습니다. 성공입니다.\n"
     ]
    }
   ],
   "source": [
    "try:\n",
    "  print('우리나라의 9개 모든 도를 맞히는 퀴즈입니다. 하나씩 대답하세요')\n",
    "  Quiz.challenge()\n",
    "except Exception as e:\n",
    "  print(e)"
   ]
  },
  {
   "cell_type": "code",
   "execution_count": 69,
   "metadata": {},
   "outputs": [],
   "source": [
    "# 307 page 2번 문제\n",
    "\n",
    "import random\n",
    "\n",
    "class Updown:\n",
    "    \n",
    "    def play(self):\n",
    "      \n",
    "        answer = random.randint(1,100)\n",
    "        count = 0\n",
    "        \n",
    "        while True:\n",
    "            \n",
    "            try:\n",
    "              user_answer = int(input(\"입력(1~100)\"))\n",
    "            \n",
    "            except ValueError:\n",
    "              print('정수만 입력할 수 있습니다.')\n",
    "            \n",
    "            except Exception:\n",
    "              print('알 수 없는 예외가 발생했습니다.')\n",
    "            \n",
    "            else: \n",
    "              if answer == user_answer:\n",
    "                  print(f\"{count}번만의 정답입니다.\")\n",
    "                  break\n",
    "              elif user_answer not in range(1,101):\n",
    "                  print(\"1~100 사이만 입력하세요\")\n",
    "                  continue\n",
    "              elif user_answer > answer:\n",
    "                  print(\"Down!\")\n",
    "                  count += 1\n",
    "              else:\n",
    "                  print(\"Up!\")\n",
    "                  count += 1              "
   ]
  },
  {
   "cell_type": "code",
   "execution_count": 70,
   "metadata": {},
   "outputs": [
    {
     "name": "stdout",
     "output_type": "stream",
     "text": [
      "정수만 입력할 수 있습니다.\n",
      "Down!\n",
      "Down!\n",
      "Down!\n",
      "Down!\n",
      "정수만 입력할 수 있습니다.\n",
      "Up!\n",
      "Up!\n",
      "Down!\n",
      "Down!\n",
      "Down!\n",
      "9번만의 정답입니다.\n"
     ]
    }
   ],
   "source": [
    "game = Updown()\n",
    "game.play()"
   ]
  },
  {
   "cell_type": "code",
   "execution_count": null,
   "metadata": {},
   "outputs": [],
   "source": []
  }
 ],
 "metadata": {
  "kernelspec": {
   "display_name": "Python 3",
   "language": "python",
   "name": "python3"
  },
  "language_info": {
   "codemirror_mode": {
    "name": "ipython",
    "version": 3
   },
   "file_extension": ".py",
   "mimetype": "text/x-python",
   "name": "python",
   "nbconvert_exporter": "python",
   "pygments_lexer": "ipython3",
   "version": "3.11.9"
  }
 },
 "nbformat": 4,
 "nbformat_minor": 2
}
