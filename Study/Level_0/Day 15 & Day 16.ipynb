{
 "cells": [
  {
   "cell_type": "markdown",
   "metadata": {},
   "source": [
    "DAY 15"
   ]
  },
  {
   "cell_type": "code",
   "execution_count": 1,
   "metadata": {},
   "outputs": [],
   "source": [
    "# 조건에 맞게 수열 변환하기 1\n",
    "\n",
    "def solution(arr):\n",
    "    answer = []\n",
    "    for num in arr:\n",
    "        if num >= 50 and num % 2 == 0:\n",
    "            num = round(num/2)\n",
    "        elif num < 50 and num % 2 != 0:\n",
    "            num = num*2\n",
    "        answer.append(num)\n",
    "    return answer"
   ]
  },
  {
   "cell_type": "code",
   "execution_count": 3,
   "metadata": {},
   "outputs": [],
   "source": [
    "# 조건에 맞게 수열 변환하기 2(다시 풀어볼까)\n",
    "\n",
    "def solution(arr):\n",
    "    answer = 0\n",
    "    old = arr\n",
    "    while(True):\n",
    "        new = []\n",
    "        for i in old:\n",
    "            if i>=50 and i%2 == 0:\n",
    "                i = i/2\n",
    "            elif i<50 and i%2 == 1:\n",
    "                i = i*2 + 1\n",
    "            new.append(int(i))\n",
    "        if old == new:\n",
    "            break\n",
    "        else:\n",
    "            old = new\n",
    "            answer += 1\n",
    "    return answer "
   ]
  },
  {
   "cell_type": "code",
   "execution_count": 4,
   "metadata": {},
   "outputs": [],
   "source": [
    "# 1로 만들기\n",
    "\n",
    "def solution(num_list):\n",
    "    count = 0\n",
    "    for num in num_list:\n",
    "        while num != 1:\n",
    "            if num % 2 == 0:\n",
    "                num = round(num/2)\n",
    "                count += 1\n",
    "            else:\n",
    "                num = round((num-1)/2)\n",
    "                count += 1\n",
    "    return count\n",
    "  \n",
    "def solution(num_list):\n",
    "    return sum(len(bin(i)) - 3 for i in num_list)"
   ]
  },
  {
   "cell_type": "code",
   "execution_count": 6,
   "metadata": {},
   "outputs": [],
   "source": [
    "# 길이에 따른 연산\n",
    "\n",
    "def solution(num_list):\n",
    "    \n",
    "    if len(num_list) <=10:\n",
    "       answer = 1\n",
    "       for i in range(0,len(num_list)):\n",
    "         answer *= num_list[i]\n",
    "    else:\n",
    "       answer = 0\n",
    "       for i in range(0, len(num_list)):\n",
    "         answer += num_list[i]\n",
    "    return answer\n",
    "\n",
    "# 색다른 풀이(str변환 후 join)\n",
    "def solution(num_list):\n",
    "    if len(num_list) >= 11:\n",
    "        return eval('+'.join(list(map(str, num_list))))\n",
    "    else:\n",
    "        return eval('*'.join(list(map(str, num_list))))"
   ]
  },
  {
   "cell_type": "code",
   "execution_count": null,
   "metadata": {},
   "outputs": [],
   "source": [
    "# 원하는 문자열 찾기\n",
    "\n",
    "def solution(myString, pat):\n",
    "    return 1 if pat.lower() in myString.lower() else 0\n",
    "  \n",
    "# 색다른 풀이\n",
    "def solution(myString, pat):\n",
    "    return int(pat.lower() in myString.lower())"
   ]
  },
  {
   "cell_type": "markdown",
   "metadata": {},
   "source": [
    "DAY 16"
   ]
  },
  {
   "cell_type": "code",
   "execution_count": null,
   "metadata": {},
   "outputs": [],
   "source": [
    "# 대문자로 바꾸기\n",
    "\n",
    "def solution(myString):\n",
    "    return myString.upper()"
   ]
  },
  {
   "cell_type": "code",
   "execution_count": 7,
   "metadata": {},
   "outputs": [],
   "source": [
    "# 소문자로 바꾸기\n",
    "\n",
    "def solution(myString):\n",
    "    return myString.lower()"
   ]
  },
  {
   "cell_type": "code",
   "execution_count": 8,
   "metadata": {},
   "outputs": [],
   "source": [
    "# 배열에서 문자열 대소문자 변환하기\n",
    "\n",
    "def solution(strArr):\n",
    "    answer = []\n",
    "    for i in range(len(strArr)):\n",
    "        if i % 2 == 0:\n",
    "            strArr[i] = strArr[i].lower()\n",
    "        else:\n",
    "            strArr[i] = strArr[i].upper()\n",
    "        answer = strArr\n",
    "    return answer\n",
    "  \n",
    "# 색다른 풀이\n",
    "\n",
    "2\n",
    "3\n",
    "4\n",
    "def solution(strArr):\n",
    "    return [s.lower() if i % 2 == 0 else s.upper() for i, s in enumerate(strArr)]"
   ]
  },
  {
   "cell_type": "code",
   "execution_count": null,
   "metadata": {},
   "outputs": [],
   "source": [
    "# A 강조하기\n",
    "\n",
    "def solution(myString):\n",
    "    return myString.lower().replace('a', 'A')  "
   ]
  },
  {
   "cell_type": "code",
   "execution_count": null,
   "metadata": {},
   "outputs": [],
   "source": [
    "# 특정한 문자를 대문자로 바꾸기\n",
    "\n",
    "def solution(my_string, alp):\n",
    "    return my_string.replace(alp, alp.upper())"
   ]
  }
 ],
 "metadata": {
  "kernelspec": {
   "display_name": "Python 3",
   "language": "python",
   "name": "python3"
  },
  "language_info": {
   "codemirror_mode": {
    "name": "ipython",
    "version": 3
   },
   "file_extension": ".py",
   "mimetype": "text/x-python",
   "name": "python",
   "nbconvert_exporter": "python",
   "pygments_lexer": "ipython3",
   "version": "3.11.9"
  }
 },
 "nbformat": 4,
 "nbformat_minor": 2
}
