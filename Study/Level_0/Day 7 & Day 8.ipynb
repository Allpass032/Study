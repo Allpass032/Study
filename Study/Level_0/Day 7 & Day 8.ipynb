{
 "cells": [
  {
   "cell_type": "markdown",
   "metadata": {},
   "source": [
    "DAY 7"
   ]
  },
  {
   "cell_type": "code",
   "execution_count": null,
   "metadata": {},
   "outputs": [],
   "source": [
    "# 수열과 구간 쿼리 4\n",
    "\n",
    "def solution(arr, queries):\n",
    "    for s,e,k in queries:\n",
    "        temp = []\n",
    "        for i in range(s, e+1):\n",
    "            if i % k == 0:\n",
    "               temp.append(arr[i]+1)\n",
    "            else:\n",
    "               temp.append(arr[i])\n",
    "        arr = arr[:s] + temp + arr[e+1:]\n",
    "    return arr\n",
    "\n",
    "\n",
    "# def solution(arr, queries):\n",
    "#     for s, e, k in queries:\n",
    "#         for i in range(s, e+1):\n",
    "#             if i%k == 0:\n",
    "#                 arr[i] += 1\n",
    "#     return arr"
   ]
  },
  {
   "cell_type": "code",
   "execution_count": null,
   "metadata": {},
   "outputs": [],
   "source": [
    "# 배열 만들기 2\n",
    "\n",
    "def solution(l, r):\n",
    "    answer = []\n",
    "    \n",
    "    for i in range(l, r+1):\n",
    "        if all(num in ['0', '5'] for num in str(i)):\n",
    "            answer.append(i)\n",
    "            \n",
    "    if len(answer) == 0:\n",
    "        answer.append(-1)\n",
    "    \n",
    "    return answer\n",
    "  \n",
    "# 색다른 풀이\n",
    "# def solution(l, r):\n",
    "#     answer = []\n",
    "#     for num in range(l, r + 1):\n",
    "#         if not set(str(num)) - set(['0', '5']):\n",
    "#             answer.append(num)\n",
    "#     return answer if answer else [-1]"
   ]
  },
  {
   "cell_type": "code",
   "execution_count": 2,
   "metadata": {},
   "outputs": [],
   "source": [
    "# 카운트 업\n",
    "\n",
    "def solution(start_num, end_num):\n",
    "    return [i for i in range(start_num,end_num+1)]\n",
    "  \n",
    "# 색다른 풀이\n",
    "# def solution(start, end):\n",
    "#     return list(range(start, end + 1))\n",
    "\n",
    "# 반대로 카운트 다운 하려면?\n",
    "# def solution(start_num, end_num):\n",
    "#     return [i for i in range(start_num,end_num,-1)]\n",
    "# 당연하게 start_num >= end_num이여야 함"
   ]
  },
  {
   "cell_type": "code",
   "execution_count": null,
   "metadata": {},
   "outputs": [],
   "source": [
    "# 콜라츠 수열 만들기\n",
    "\n",
    "def solution(n):\n",
    "    answer = []\n",
    "    while n != 1:\n",
    "        answer.append(n)\n",
    "        if n % 2 == 0:\n",
    "           n = int(f'{n/2:.0f}')\n",
    "        else:\n",
    "           n = 3 * n + 1\n",
    "    answer.append(n)\n",
    "    return answer     "
   ]
  },
  {
   "cell_type": "code",
   "execution_count": null,
   "metadata": {},
   "outputs": [],
   "source": [
    "# 배열 만들기 4\n",
    "\n",
    "def solution(arr):\n",
    "    i, stk = 0, []\n",
    "    while i < len(arr):\n",
    "        if stk == []:\n",
    "           stk.append(arr[i])\n",
    "           i += 1\n",
    "        elif stk != [] and stk[-1] <arr[i]:\n",
    "           stk.append(arr[i])\n",
    "           i += 1\n",
    "        else:\n",
    "           stk.remove(stk[-1]) \n",
    "    return stk\n",
    "  \n",
    "# def solution(arr):\n",
    "#     stk = []\n",
    "#     for i in range(len(arr)):\n",
    "#         while stk and stk[-1] >= arr[i]:\n",
    "#             stk.pop()\n",
    "#         stk.append(arr[i])\n",
    "#     return stk"
   ]
  },
  {
   "cell_type": "markdown",
   "metadata": {},
   "source": [
    "DAY 8"
   ]
  },
  {
   "cell_type": "code",
   "execution_count": null,
   "metadata": {},
   "outputs": [],
   "source": [
    "# 간단한 논리 연산\n",
    "\n",
    "def solution(x1, x2, x3, x4):\n",
    "    return (x1 or x2) and (x3 or x4)\n",
    "  \n",
    "# 색다른 풀이\n",
    "# def solution(x1, x2, x3, x4):\n",
    "#     return (x1 | x2) & (x3 | x4)\n",
    "\n",
    "# solution=lambda w,x,y,z:(w or x)and(y or z)\n",
    "\n",
    "# lambda 함수에 대해서 공부\n",
    "# 그리고 or 과 and를 저런 식으로 표현 가능하구나"
   ]
  },
  {
   "cell_type": "code",
   "execution_count": null,
   "metadata": {},
   "outputs": [],
   "source": [
    "# 주사위 게임 3 (어렵게 풀었던 기억이 있음!! 그러니 다시 공부)\n",
    "\n",
    "def solution(a,b,c,d):\n",
    "    [a1,a2,a3,a4] = sorted([a,b,c,d])\n",
    "    check = len(set([a1,a2,a3,a4]))\n",
    "    score = 0\n",
    "    \n",
    "    if check == 1:\n",
    "        score = 1111*a1\n",
    "        \n",
    "    elif check == 2:\n",
    "        if a1 == a2 != a3 == a4:\n",
    "            score = (a3+a1) * (a3-a1) \n",
    "        elif a1 == a2 == a3 != a4:\n",
    "            score = (10*a1 + a4)**2\n",
    "        else: \n",
    "            score = (10*a4 + a1)**2\n",
    "    elif check == 3:\n",
    "        if a1 == a2 != a3 != a4:\n",
    "            score = a3*a4\n",
    "        elif a1 != a2 == a3 != a4:\n",
    "            score = a1*a4 \n",
    "        else:\n",
    "            score = a1*a2\n",
    "    else:\n",
    "        score = a1\n",
    "    return score\n",
    "  \n",
    "# 색다른 풀이  \n",
    "# def solution(a, b, c, d):\n",
    "#     l = [a,b,c,d]\n",
    "#     c = [l.count(x) for x in l]\n",
    "#     if max(c) == 4:\n",
    "#         return 1111*a\n",
    "#     elif max(c) == 3:\n",
    "#         return (10*l[c.index(3)]+l[c.index(1)])**2\n",
    "#     elif max(c) == 2:\n",
    "#         if min(c) == 1:\n",
    "#             return eval('*'.join([str(l[i]) for i, x in enumerate(c) if x == 1]))\n",
    "#         else:\n",
    "#             return (max(l) + min(l)) * abs(max(l) - min(l))\n",
    "#     else:\n",
    "#         return min(l)"
   ]
  },
  {
   "cell_type": "code",
   "execution_count": null,
   "metadata": {},
   "outputs": [],
   "source": [
    "# 글자 이어 붙여 문자열 만들기\n",
    "\n",
    "def solution(my_string, index_list):\n",
    "    answer = ''\n",
    "    for i in index_list:\n",
    "        answer += my_string[i]\n",
    "    return answer\n",
    "  \n",
    "# 색다른 풀이\n",
    "# def solution(my_string, index_list):\n",
    "#     return ''.join([my_string[idx] for idx in index_list])"
   ]
  },
  {
   "cell_type": "code",
   "execution_count": null,
   "metadata": {},
   "outputs": [],
   "source": [
    "# 9로 나눈 나머지\n",
    "\n",
    "def solution(number):\n",
    "    sum = 0\n",
    "    for i in number:\n",
    "        sum += int(i)\n",
    "    return sum%9\n",
    "\n",
    "# 더 짧은 풀이\n",
    "# def solution(number):\n",
    "#     return int(number) % 9"
   ]
  },
  {
   "cell_type": "code",
   "execution_count": 5,
   "metadata": {},
   "outputs": [],
   "source": [
    "# 문자열 여러 번 뒤집기\n",
    "\n",
    "def solution(my_string, queries):\n",
    "    my_list = list(my_string)\n",
    "    for s,e in queries:\n",
    "        temp = my_list[s:e+1]\n",
    "        temp.reverse()\n",
    "        my_list = my_list[:s] + temp + my_list[e+1:]\n",
    "    answer =''.join(my_list)    \n",
    "    return answer\n",
    "\n",
    "# 색다른 풀이\n",
    "# def solution(my_string, queries):\n",
    "#     answer=list(my_string)\n",
    "#     for s,e in queries:\n",
    "#         answer[s:e+1]=answer[s:e+1][::-1]\n",
    "#     return ''.join(answer)"
   ]
  }
 ],
 "metadata": {
  "kernelspec": {
   "display_name": "Python 3",
   "language": "python",
   "name": "python3"
  },
  "language_info": {
   "codemirror_mode": {
    "name": "ipython",
    "version": 3
   },
   "file_extension": ".py",
   "mimetype": "text/x-python",
   "name": "python",
   "nbconvert_exporter": "python",
   "pygments_lexer": "ipython3",
   "version": "3.11.9"
  }
 },
 "nbformat": 4,
 "nbformat_minor": 2
}
