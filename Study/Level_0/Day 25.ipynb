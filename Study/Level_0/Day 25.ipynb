{
 "cells": [
  {
   "cell_type": "markdown",
   "metadata": {},
   "source": [
    "DAY 25"
   ]
  },
  {
   "cell_type": "code",
   "execution_count": 1,
   "metadata": {},
   "outputs": [],
   "source": [
    "# 정수를 나선형으로 배치하기(다시 풀기)\n",
    "\n",
    "# def solution(n):\n",
    "#     answer = []\n",
    "#     while True:\n",
    "#         answer.append([0]*n)\n",
    "#         if len(answer) == n:\n",
    "#             break\n",
    "\n",
    "# 도저히 모르겠어서 본 풀이\n",
    "\n",
    "def solution(n):\n",
    "    if n == 1:\n",
    "        return [[1]]\n",
    "    \n",
    "    answer = [[0 for j in range(n)] for i in range(n)] # 배열 초기화\n",
    "    \n",
    "    x = 0\n",
    "    y = 0\n",
    "    dir = 'r'\n",
    "    \n",
    "    for i in range(n*n):\n",
    "        answer[x][y] = i + 1\n",
    "        if dir == 'r':\n",
    "            y += 1\n",
    "            if y == n-1 or answer[x][y+1] != 0: # 맨 끝에 도달했거나 가려는 곳에 이미 값이 있으면 방향 전환\n",
    "                dir = 'd'\n",
    "        elif dir == 'd':\n",
    "            x += 1\n",
    "            if x == n-1 or answer[x+1][y] != 0:\n",
    "                dir = 'l'\n",
    "        elif dir == 'l':\n",
    "            y -= 1\n",
    "            if y == 0 or answer[x][y-1] != 0:\n",
    "                dir = 'u'\n",
    "        elif dir == 'u':\n",
    "            x -= 1\n",
    "            if x == n-1 or answer[x-1][y] != 0:\n",
    "                dir = 'r'\n",
    "                \n",
    "    return answer\n",
    "\n",
    "# 근데 굉장히 좋은 풀이를 발견함\n",
    "# 어찌보면 굉장히 간단한 풀이지만 좋은 풀이\n",
    "# 방향을 지정해서 그 상황에 따라서 어떻게 바뀌는지\n",
    "# 내가 생각한 것을 조금 더 깊게 생각했다면 풀었을지도\n",
    "# 어떤 부분을 생각을 못했냐 하면 방향을 지정해서 특정 상황에 저렇게 바뀐다는 것을\n",
    "# 더 구체적으로 세부적으로 나누고 표현하지 못했음"
   ]
  },
  {
   "cell_type": "code",
   "execution_count": 111,
   "metadata": {},
   "outputs": [
    {
     "data": {
      "text/plain": [
       "[[1, 2, 3, 4, 5],\n",
       " [16, 17, 18, 19, 6],\n",
       " [15, 24, 25, 20, 7],\n",
       " [14, 23, 22, 21, 8],\n",
       " [13, 12, 11, 10, 9]]"
      ]
     },
     "execution_count": 111,
     "metadata": {},
     "output_type": "execute_result"
    }
   ],
   "source": [
    "solution(5)"
   ]
  },
  {
   "cell_type": "code",
   "execution_count": 47,
   "metadata": {},
   "outputs": [],
   "source": [
    "# 특별한 이차원 배열 2\n",
    "\n",
    "def solution(arr):\n",
    "    i, j = 0, 0\n",
    "    for i in range(len(arr)):\n",
    "        if arr[i][j] == arr[j][i]:\n",
    "          continue\n",
    "        else:\n",
    "          return 0\n",
    "    for j in range(len(arr)):\n",
    "        if arr[i][j] == arr[j][i]:\n",
    "          continue\n",
    "        else:\n",
    "          return 0\n",
    "    return 1\n",
    "\n",
    "# 색다른 풀이\n",
    "\n",
    "def solution(arr):\n",
    "    return int(arr == list(map(list, zip(*arr))))\n",
    "  \n",
    "# map과 zip함수\n",
    "\n",
    "# 색다른 풀이\n",
    "def solution(arr):\n",
    "    return int(all(arr[i][j] == arr[j][i] for i in range(len(arr)) for j in range(len(arr))))\n",
    "        "
   ]
  },
  {
   "cell_type": "code",
   "execution_count": 49,
   "metadata": {},
   "outputs": [
    {
     "data": {
      "text/plain": [
       "1"
      ]
     },
     "execution_count": 49,
     "metadata": {},
     "output_type": "execute_result"
    }
   ],
   "source": [
    "solution([[5, 192, 33], [192, 72, 95], [33, 95, 999]])"
   ]
  },
  {
   "cell_type": "code",
   "execution_count": 55,
   "metadata": {},
   "outputs": [],
   "source": [
    "# 정사각형으로 만들기\n",
    "\n",
    "def solution(arr):\n",
    "    i, j = len(arr[0]), len(arr)\n",
    "    \n",
    "    if i > j: # 가로가 세로보다 길 때\n",
    "      while True:\n",
    "        arr.append([0]*i)\n",
    "        if len(arr) == len(arr[0]):\n",
    "          return arr\n",
    "      \n",
    "    elif i < j: # 세로가 가로보다 길 때\n",
    "      while True:\n",
    "        for j in range(len(arr)):\n",
    "          arr[j].append(0)\n",
    "        if len(arr[0]) == len(arr):\n",
    "          return arr\n",
    "      \n",
    "    else:\n",
    "      return arr\n",
    "    \n",
    "# 뭔가 색다른 풀이까진 없었음\n",
    "\n",
    "# [0,0,0,0,0] 을 나타내기 위해선?\n",
    "# print([0]*5)   "
   ]
  },
  {
   "cell_type": "code",
   "execution_count": 57,
   "metadata": {},
   "outputs": [
    {
     "data": {
      "text/plain": [
       "[[572, 22, 0, 0], [287, 726, 0, 0], [85, 137, 0, 0], [487, 13, 0, 0]]"
      ]
     },
     "execution_count": 57,
     "metadata": {},
     "output_type": "execute_result"
    }
   ],
   "source": [
    "solution([[572, 22], [287, 726], [85, 137], [487, 13]]\t)"
   ]
  },
  {
   "cell_type": "code",
   "execution_count": 85,
   "metadata": {},
   "outputs": [],
   "source": [
    "# 이차원 배열 대각선 순회하기\n",
    "\n",
    "def solution(board, k):\n",
    "    # can_num = [(i,j) for i in range(k+1) for j in range(k+1) if i + j <= k]\n",
    "    # 위의 내용은 i, j가 list index out of range됨\n",
    "    can_num = [(i,j) for i in range(len(board)) for j in range(len(board[0])) if i + j <= k]\n",
    "    result = 0\n",
    "    for (i,j) in can_num:\n",
    "        result += board[i][j]\n",
    "    # return result\n",
    "    return result\n",
    "\n",
    "# 색다른 풀이(한 줄 풀이)\n",
    "def solution(board,k):\n",
    "    return sum(board[i][j] for i in range(len(board)) for j in range(len(board[0])) if i + j <= k) "
   ]
  },
  {
   "cell_type": "code",
   "execution_count": 86,
   "metadata": {},
   "outputs": [
    {
     "data": {
      "text/plain": [
       "30"
      ]
     },
     "execution_count": 86,
     "metadata": {},
     "output_type": "execute_result"
    }
   ],
   "source": [
    "solution([[0, 1, 2],[1, 2, 3],[2, 3, 4],[3, 4, 5]],5)"
   ]
  }
 ],
 "metadata": {
  "kernelspec": {
   "display_name": "Python 3",
   "language": "python",
   "name": "python3"
  },
  "language_info": {
   "codemirror_mode": {
    "name": "ipython",
    "version": 3
   },
   "file_extension": ".py",
   "mimetype": "text/x-python",
   "name": "python",
   "nbconvert_exporter": "python",
   "pygments_lexer": "ipython3",
   "version": "3.11.9"
  }
 },
 "nbformat": 4,
 "nbformat_minor": 2
}
