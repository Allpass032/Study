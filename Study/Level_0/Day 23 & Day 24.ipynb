{
 "cells": [
  {
   "cell_type": "markdown",
   "metadata": {},
   "source": [
    "DAY 23"
   ]
  },
  {
   "cell_type": "code",
   "execution_count": 2,
   "metadata": {},
   "outputs": [],
   "source": [
    "# 부분 문자열\n",
    "\n",
    "def solution(str1, str2):\n",
    "    return int(str1 in str2)"
   ]
  },
  {
   "cell_type": "code",
   "execution_count": null,
   "metadata": {},
   "outputs": [],
   "source": [
    "# 꼬리 문자열\n",
    "\n",
    "def solution(str_list, ex):\n",
    "    return ''.join([word for word in str_list if ex not in word])\n",
    "  \n",
    "# 색다른 풀이\n",
    "# def solution(str_list, ex):\n",
    "#     return ''.join(filter(lambda x: ex not in x, str_list))"
   ]
  },
  {
   "cell_type": "code",
   "execution_count": null,
   "metadata": {},
   "outputs": [],
   "source": [
    "# 정수 찾기\n",
    "\n",
    "def solution(num_list, n):\n",
    "    return int(n in num_list)"
   ]
  },
  {
   "cell_type": "code",
   "execution_count": 3,
   "metadata": {},
   "outputs": [],
   "source": [
    "# 주사위 게임 1\n",
    "\n",
    "def solution(a, b):\n",
    "    if a % 2 == 1 and b % 2 == 1:\n",
    "        return a**2 + b**2\n",
    "    elif a % 2 == 1 or b % 2 == 1:\n",
    "        return 2*(a+b)\n",
    "    else:\n",
    "        return a-b if a>=b else b-a\n",
    "      \n",
    "# 색다른 풀이       \n",
    "def solution(a, b):\n",
    "    if a%2 and b%2: return a*a+b*b\n",
    "    elif a%2 or b%2: return 2*(a+b)\n",
    "    return abs(a-b)\n",
    "# bloolean을 다음처럼 사용 가능한 것\n",
    "# bool True == 1 / False == 0"
   ]
  },
  {
   "cell_type": "code",
   "execution_count": null,
   "metadata": {},
   "outputs": [],
   "source": [
    "# 날짜 비교하기\n",
    "\n",
    "def solution(date1, date2):\n",
    "    i = 0\n",
    "    while i < 3:\n",
    "        if date1[i] == date2[i]:\n",
    "          i += 1\n",
    "        else:\n",
    "          return 1 if date1[i] < date2[i] else 0\n",
    "    return 0    \n",
    "  \n",
    "# 색다른 풀이\n",
    "def solution(date1, date2):\n",
    "    return int(date1 < date2)\n",
    "# 리스트 간 부등호 사용 가능하다"
   ]
  },
  {
   "cell_type": "markdown",
   "metadata": {},
   "source": [
    "DAY 24"
   ]
  },
  {
   "cell_type": "code",
   "execution_count": 5,
   "metadata": {},
   "outputs": [],
   "source": [
    "# 커피 심부름\n",
    "\n",
    "def solution(order):\n",
    "    americano_count, latte_count = 0, 0\n",
    "    for menu in order:\n",
    "        if \"latte\" in menu:\n",
    "            latte_count += 1\n",
    "        elif 'cano' in menu:\n",
    "            americano_count += 1\n",
    "        else:\n",
    "            americano_count += 1\n",
    "    return latte_count*5000 + americano_count*4500\n",
    "  \n",
    "# 색다른 짧은 풀이  \n",
    "def solution(order):\n",
    "    return sum([5000 if \"cafelatte\" in i else 4500 for i in order])"
   ]
  },
  {
   "cell_type": "code",
   "execution_count": 13,
   "metadata": {},
   "outputs": [],
   "source": [
    "# 그림 확대\n",
    "\n",
    "def solution(picture, k):\n",
    "    answer = []\n",
    "    for part in picture:\n",
    "        temp = ''\n",
    "        j = 0\n",
    "        for i in part:\n",
    "            temp += i*k\n",
    "        while j < k:\n",
    "          answer.append(temp)\n",
    "          j += 1\n",
    "    return answer\n",
    "  \n",
    "# 색다른 풀이\n",
    "\n",
    "def solution(picture, k):\n",
    "    answer = []\n",
    "    for i in range(len(picture)):\n",
    "        for _ in range(k):\n",
    "            answer.append(picture[i].replace('.', '.' * k).replace('x', 'x' * k))\n",
    "    return answer\n",
    "# replace를 사용한 풀이"
   ]
  },
  {
   "cell_type": "code",
   "execution_count": 14,
   "metadata": {},
   "outputs": [
    {
     "data": {
      "text/plain": [
       "['..xxxx......xxxx..',\n",
       " '..xxxx......xxxx..',\n",
       " 'xx....xx..xx....xx',\n",
       " 'xx....xx..xx....xx',\n",
       " 'xx......xx......xx',\n",
       " 'xx......xx......xx',\n",
       " '..xx..........xx..',\n",
       " '..xx..........xx..',\n",
       " '....xx......xx....',\n",
       " '....xx......xx....',\n",
       " '......xx..xx......',\n",
       " '......xx..xx......',\n",
       " '........xx........',\n",
       " '........xx........']"
      ]
     },
     "execution_count": 14,
     "metadata": {},
     "output_type": "execute_result"
    }
   ],
   "source": [
    "solution([\".xx...xx.\", \"x..x.x..x\", \"x...x...x\", \".x.....x.\", \"..x...x..\", \"...x.x...\", \"....x....\"], 2)"
   ]
  },
  {
   "cell_type": "code",
   "execution_count": 16,
   "metadata": {},
   "outputs": [],
   "source": [
    "# 조건에 맞게 수열 변환하기 3\n",
    "\n",
    "def solution(arr, k):\n",
    "    return [num*k for num in arr] if k%2 else [num+k for num in arr]\n",
    "\n",
    "# 기존 풀이\n",
    "# def solution(arr, k):\n",
    "#     answer = []\n",
    "#     if k % 2 == 1:\n",
    "#       for i in range(0, len(arr)):\n",
    "#         answer.append(arr[i] * k)\n",
    "#     else:\n",
    "#       for i in range(0, len(arr)):\n",
    "#         answer.append(arr[i] + k)\n",
    "#     return answer\n",
    "\n",
    "# 색다른 풀이\n",
    "def solution(arr, k):\n",
    "    return [i*k if k%2!=0 else i+k for i in arr]"
   ]
  },
  {
   "cell_type": "code",
   "execution_count": 31,
   "metadata": {},
   "outputs": [],
   "source": [
    "# I로 만들기\n",
    "\n",
    "def solution(myString):\n",
    "    return ''.join([letter if letter > 'l' else 'l' for letter in myString])\n",
    "# alpha = 'abcdefghijklmnopqrstuvwxyz'\n",
    "\n",
    "# 색다른 풀이\n",
    "def solution(myString):\n",
    "    return myString.translate(str.maketrans('abcdefghijk', 'lllllllllll'))\n",
    "# maketrans 라는 함수"
   ]
  },
  {
   "cell_type": "code",
   "execution_count": 47,
   "metadata": {},
   "outputs": [],
   "source": [
    "# 특별한 이차원 배열\n",
    "\n",
    "def solution(n):\n",
    "    answer = []\n",
    "    for i in range(n):\n",
    "      temp = []\n",
    "      for j in range(n):\n",
    "        if i == j:\n",
    "          temp.append(1)\n",
    "        else:\n",
    "          temp.append(0)\n",
    "      answer.append(temp)\n",
    "    return answer\n",
    "  \n",
    "# 색다른 쉬운 풀이\n",
    "\n",
    "def solution(n):\n",
    "    answer=[[0]*n for i in range(n)]\n",
    "    for i in range(n): answer[i][i]=1\n",
    "    return answer\n",
    "  \n",
    "def solution(n):\n",
    "    return [[int(i==j) for i in range(n)] for j in range(n)]\n"
   ]
  }
 ],
 "metadata": {
  "kernelspec": {
   "display_name": "Python 3",
   "language": "python",
   "name": "python3"
  },
  "language_info": {
   "codemirror_mode": {
    "name": "ipython",
    "version": 3
   },
   "file_extension": ".py",
   "mimetype": "text/x-python",
   "name": "python",
   "nbconvert_exporter": "python",
   "pygments_lexer": "ipython3",
   "version": "3.11.9"
  }
 },
 "nbformat": 4,
 "nbformat_minor": 2
}
