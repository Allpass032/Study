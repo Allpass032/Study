{
 "cells": [
  {
   "cell_type": "markdown",
   "metadata": {},
   "source": [
    "DAY 13"
   ]
  },
  {
   "cell_type": "code",
   "execution_count": 1,
   "metadata": {},
   "outputs": [],
   "source": [
    "# n 번째 원소부터\n",
    "\n",
    "def solution(num_list, n):\n",
    "    return num_list[n-1::]"
   ]
  },
  {
   "cell_type": "code",
   "execution_count": 2,
   "metadata": {},
   "outputs": [],
   "source": [
    "# 순서 바꾸기\n",
    "\n",
    "def solution(num_list, n):\n",
    "    return num_list[n:] + num_list[:n]"
   ]
  },
  {
   "cell_type": "code",
   "execution_count": 4,
   "metadata": {},
   "outputs": [],
   "source": [
    "# 왼쪽 오른쪽\n",
    "\n",
    "def solution(str_list):\n",
    "    for i in range(len(str_list)):\n",
    "        if str_list[i] == 'l':\n",
    "            return str_list[:i]\n",
    "        elif str_list[i] == 'r':\n",
    "            return str_list[i+1:]\n",
    "    return []"
   ]
  },
  {
   "cell_type": "code",
   "execution_count": null,
   "metadata": {},
   "outputs": [],
   "source": [
    "# n 번째 원소까지\n",
    "\n",
    "def solution(num_list, n):\n",
    "    return num_list[:n]"
   ]
  },
  {
   "cell_type": "code",
   "execution_count": null,
   "metadata": {},
   "outputs": [],
   "source": [
    "# n개 간격의 원소들\n",
    "\n",
    "# def solution(num_list, n):\n",
    "#     answer = []\n",
    "#     i = 0\n",
    "#     while i < len(num_list):\n",
    "#         answer.append(num_list[i])\n",
    "#         i += n\n",
    "#     return answer\n",
    "\n",
    "def solution(num_list, n):\n",
    "    return num_list[::n]"
   ]
  },
  {
   "cell_type": "markdown",
   "metadata": {},
   "source": [
    "DAY 14"
   ]
  },
  {
   "cell_type": "code",
   "execution_count": 6,
   "metadata": {},
   "outputs": [],
   "source": [
    "# 홀수 vs 짝수\n",
    "\n",
    "def solution(num_list):\n",
    "    even, odd = 0, 0\n",
    "    for i in range(len(num_list)):\n",
    "        if i % 2 == 0:\n",
    "          odd += num_list[i]\n",
    "        else:\n",
    "          even += num_list[i]\n",
    "    return odd if odd >= even else even\n",
    "\n",
    "# 색다른 짧은 풀이\n",
    "\n",
    "def solution(num_list):\n",
    "    return max(sum(num_list[::2]), sum(num_list[1::2]))"
   ]
  },
  {
   "cell_type": "code",
   "execution_count": 7,
   "metadata": {},
   "outputs": [],
   "source": [
    "# 5명씩\n",
    "\n",
    "def solution(names):\n",
    "    return names[::5]"
   ]
  },
  {
   "cell_type": "code",
   "execution_count": 8,
   "metadata": {},
   "outputs": [],
   "source": [
    "# 할 일 목록\n",
    "\n",
    "def solution(todo_list, finished):\n",
    "    answer = []\n",
    "    for i in range(len(todo_list)):\n",
    "        if finished[i] == False:\n",
    "           answer.append(todo_list[i])\n",
    "    return answer\n",
    "  \n",
    "# 색다른 풀이\n",
    "\n",
    "def solution(todo_list, finished):\n",
    "    return [work for idx, work in enumerate(todo_list) if not finished[idx]]"
   ]
  },
  {
   "cell_type": "code",
   "execution_count": 9,
   "metadata": {},
   "outputs": [],
   "source": [
    "# n보다 커질 때까지 더하기\n",
    "\n",
    "def solution(numbers, n):\n",
    "    sum = 0\n",
    "    for i in range(0, len(numbers)):\n",
    "        if sum <= n:\n",
    "           sum += numbers[i]    \n",
    "    return sum\n",
    "\n",
    "# 색다른 풀이\n",
    "\n",
    "def solution(numbers, n):\n",
    "    return next(sum(numbers[:i + 1]) for i in range(len(numbers)) if sum(numbers[:i + 1]) > n)"
   ]
  },
  {
   "cell_type": "code",
   "execution_count": 10,
   "metadata": {},
   "outputs": [],
   "source": [
    "# 수열과 구간 쿼리 1\n",
    "\n",
    "def solution(arr, queries):\n",
    "    for s,e in queries:\n",
    "        for i in range(len(arr)):\n",
    "            if i >= s and i <= e:\n",
    "              arr[i] += 1\n",
    "    return arr\n",
    "\n",
    "# 색다른 풀이\n",
    "\n",
    "def solution(arr, queries):\n",
    "    for (s, e) in queries:\n",
    "        arr = [a+1 if s <= i <= e else a for i, a in enumerate(arr)]\n",
    "    return arr"
   ]
  }
 ],
 "metadata": {
  "kernelspec": {
   "display_name": "Python 3",
   "language": "python",
   "name": "python3"
  },
  "language_info": {
   "codemirror_mode": {
    "name": "ipython",
    "version": 3
   },
   "file_extension": ".py",
   "mimetype": "text/x-python",
   "name": "python",
   "nbconvert_exporter": "python",
   "pygments_lexer": "ipython3",
   "version": "3.11.9"
  }
 },
 "nbformat": 4,
 "nbformat_minor": 2
}
