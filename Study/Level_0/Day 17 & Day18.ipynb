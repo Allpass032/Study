{
 "cells": [
  {
   "cell_type": "markdown",
   "metadata": {},
   "source": [
    "DAY 17"
   ]
  },
  {
   "cell_type": "code",
   "execution_count": 14,
   "metadata": {},
   "outputs": [],
   "source": [
    "# 특정 문자열로 끝나는 가장 긴 부분 문자열 찾기(시행착오 1)\n",
    "\n",
    "def solution(myString, pat):\n",
    "    for i in range(len(myString)-1,-1,-1):\n",
    "        if myString[i] == pat[0]:\n",
    "            return myString[:i] + pat"
   ]
  },
  {
   "cell_type": "code",
   "execution_count": 19,
   "metadata": {},
   "outputs": [],
   "source": [
    "# 특정 문자열로 끝나는 가장 긴 부분 문자열 찾기\n",
    "\n",
    "def solution(myString, pat):\n",
    "    for i in range(len(myString)-1,-1,-1):\n",
    "        if myString[i] == pat[-1]:\n",
    "            return myString[:i+1]\n",
    "        \n",
    "# 색다른 풀이들\n",
    "\n",
    "# 1\n",
    "# solution=lambda x,y:x[:x.rindex(y)+len(y)]\n",
    "\n",
    "# 2\n",
    "# def solution(myString, pat):\n",
    "#     return myString[:len(myString) - myString[::-1].index(pat[::-1])]"
   ]
  },
  {
   "cell_type": "code",
   "execution_count": 21,
   "metadata": {},
   "outputs": [
    {
     "data": {
      "text/plain": [
       "'ABCDEaaa'"
      ]
     },
     "execution_count": 21,
     "metadata": {},
     "output_type": "execute_result"
    }
   ],
   "source": [
    "# solution(\"AbCdEFG\",'dE')\n",
    "\n",
    "solution('ABCDEaaa','a')"
   ]
  },
  {
   "cell_type": "code",
   "execution_count": 128,
   "metadata": {},
   "outputs": [],
   "source": [
    "# 문자열이 몇 번 등장하는지 세기\n",
    "\n",
    "def solution(myString, pat):\n",
    "    count = 0\n",
    "    for i in range(len(myString)):\n",
    "        if myString[i: i+len(pat)] == pat:\n",
    "            count += 1\n",
    "    return count\n",
    "\n",
    "# def solution(myString, pat):\n",
    "#     answer = 0\n",
    "#     for i, x in enumerate(myString) :\n",
    "#         if myString[i:].startswith(pat) :\n",
    "#             answer += 1\n",
    "#     return answer\n",
    "# startwith에 대해서도 공부 enumerate도 공부 필요"
   ]
  },
  {
   "cell_type": "code",
   "execution_count": 129,
   "metadata": {},
   "outputs": [
    {
     "data": {
      "text/plain": [
       "3"
      ]
     },
     "execution_count": 129,
     "metadata": {},
     "output_type": "execute_result"
    }
   ],
   "source": [
    "solution('aaaa','aa')"
   ]
  },
  {
   "cell_type": "code",
   "execution_count": 72,
   "metadata": {},
   "outputs": [],
   "source": [
    "# ad 제거하기\n",
    "\n",
    "# 시행 착오 1\n",
    "# def solution(strArr):\n",
    "#     for str in strArr:\n",
    "#       if \"ad\" in str:\n",
    "#         strArr.remove(str)\n",
    "#     return strArr\n",
    "\n",
    "def solution(strArr):\n",
    "    return [str for str in strArr if 'ad' not in str]"
   ]
  },
  {
   "cell_type": "code",
   "execution_count": 73,
   "metadata": {},
   "outputs": [
    {
     "data": {
      "text/plain": [
       "['and', 'abcd']"
      ]
     },
     "execution_count": 73,
     "metadata": {},
     "output_type": "execute_result"
    }
   ],
   "source": [
    "solution([\"and\",\"notad\",\"abcd\"])"
   ]
  },
  {
   "cell_type": "code",
   "execution_count": 75,
   "metadata": {},
   "outputs": [],
   "source": [
    "# 공백으로 구분하기 1\n",
    "\n",
    "def solution(my_string):\n",
    "    answer = []\n",
    "    answer = my_string.split()\n",
    "    return answer\n",
    "  \n",
    "# def solution(my_string):\n",
    "#     return my_string.split(' ')"
   ]
  },
  {
   "cell_type": "code",
   "execution_count": 77,
   "metadata": {},
   "outputs": [
    {
     "data": {
      "text/plain": [
       "['i', 'love', 'you']"
      ]
     },
     "execution_count": 77,
     "metadata": {},
     "output_type": "execute_result"
    }
   ],
   "source": [
    "solution(' i  love you ')"
   ]
  },
  {
   "cell_type": "code",
   "execution_count": 109,
   "metadata": {},
   "outputs": [],
   "source": [
    "# 공백으로 구분하기 2\n",
    "\n",
    "def solution(my_string):\n",
    "    return [word for word in my_string.split(\" \") if word != ''] \n",
    "  \n",
    "# 특이한 풀이  \n",
    "# solution=lambda x:x.split()\n"
   ]
  },
  {
   "cell_type": "code",
   "execution_count": 110,
   "metadata": {},
   "outputs": [
    {
     "data": {
      "text/plain": [
       "['i', 'love', 'you']"
      ]
     },
     "execution_count": 110,
     "metadata": {},
     "output_type": "execute_result"
    }
   ],
   "source": [
    "solution(' i  love you ')"
   ]
  },
  {
   "cell_type": "markdown",
   "metadata": {},
   "source": [
    "DAY 18"
   ]
  },
  {
   "cell_type": "code",
   "execution_count": 139,
   "metadata": {},
   "outputs": [],
   "source": [
    "# x 사이의 개수\n",
    "\n",
    "def solution(myString):\n",
    "    # list = myString.split('x')\n",
    "    return [len(i) for i in myString.split('x')]"
   ]
  },
  {
   "cell_type": "code",
   "execution_count": 140,
   "metadata": {},
   "outputs": [
    {
     "data": {
      "text/plain": [
       "[1, 2, 1, 0, 1, 0]"
      ]
     },
     "execution_count": 140,
     "metadata": {},
     "output_type": "execute_result"
    }
   ],
   "source": [
    "solution(\"oxooxoxxox\")"
   ]
  },
  {
   "cell_type": "code",
   "execution_count": null,
   "metadata": {},
   "outputs": [],
   "source": [
    "# 문자열 잘라서 정렬하기\n",
    "\n",
    "def solution(myString):\n",
    "    answer = [word for word in myString.split('x') if word != '']\n",
    "    answer.sort()\n",
    "    return answer"
   ]
  },
  {
   "cell_type": "code",
   "execution_count": null,
   "metadata": {},
   "outputs": [],
   "source": [
    "# 간단한 식 계산하기\n",
    "\n",
    "def solution(binomial):\n",
    "    return eval(binomial)\n",
    "# eval 함수"
   ]
  },
  {
   "cell_type": "code",
   "execution_count": null,
   "metadata": {},
   "outputs": [],
   "source": [
    "# 문자열 바꿔서 찾기\n",
    "\n",
    "def solution(myString, pat):\n",
    "    answer = ''\n",
    "    for letter in myString:\n",
    "        if letter == \"A\":\n",
    "            answer += \"B\"\n",
    "        else:\n",
    "            answer += \"A\"\n",
    "    return int(pat in answer)\n",
    "  \n",
    "# 색다른 풀이(replace 사용함)\n",
    "\n",
    "# def solution(myString, pat):\n",
    "#     return int(pat in myString.replace('A', 'C').replace('B', 'A').replace('C', 'B'))\n"
   ]
  },
  {
   "cell_type": "code",
   "execution_count": null,
   "metadata": {},
   "outputs": [],
   "source": [
    "# rny_string\n",
    "\n",
    "def solution(rny_string):\n",
    "    return rny_string.replace('m','rn') if 'm' in rny_string else rny_string\n",
    "\n",
    "# 색다른 풀이\n",
    "def solution(rny_string):\n",
    "    return rny_string.replace('m', 'rn')"
   ]
  }
 ],
 "metadata": {
  "kernelspec": {
   "display_name": "Python 3",
   "language": "python",
   "name": "python3"
  },
  "language_info": {
   "codemirror_mode": {
    "name": "ipython",
    "version": 3
   },
   "file_extension": ".py",
   "mimetype": "text/x-python",
   "name": "python",
   "nbconvert_exporter": "python",
   "pygments_lexer": "ipython3",
   "version": "3.11.9"
  }
 },
 "nbformat": 4,
 "nbformat_minor": 2
}
