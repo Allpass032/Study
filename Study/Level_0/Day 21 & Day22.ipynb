{
 "cells": [
  {
   "cell_type": "markdown",
   "metadata": {},
   "source": [
    "DAY 21"
   ]
  },
  {
   "cell_type": "code",
   "execution_count": 1,
   "metadata": {},
   "outputs": [],
   "source": [
    "# 뒤에서 5등 위로\n",
    "\n",
    "def solution(num_list):\n",
    "    return sorted(num_list)[5:]"
   ]
  },
  {
   "cell_type": "code",
   "execution_count": null,
   "metadata": {},
   "outputs": [],
   "source": [
    "# 전국 대회 선발 고사\n",
    "\n",
    "def solution(rank, attendance):\n",
    "\n",
    "    l = sorted([rank[i] for i in range(len(rank)) if attendance[i] == True])\n",
    "    \n",
    "    for num in range(len(rank)):\n",
    "        if rank[num] == l[0]:\n",
    "            a = num\n",
    "        elif rank[num] == l[1]:\n",
    "            b = num\n",
    "        elif rank[num] == l[2]:\n",
    "            c = num\n",
    "    return a*10000 + b*100 +c\n",
    "  \n",
    "# 간결한 풀이\n",
    "\n",
    "def solution(rank, attendance):\n",
    "    arr = sorted([(x, i) for i, x in enumerate(rank) if attendance[i]])\n",
    "    return arr[0][1] * 10000 + arr[1][1] * 100 + arr[2][1]"
   ]
  },
  {
   "cell_type": "code",
   "execution_count": 2,
   "metadata": {},
   "outputs": [],
   "source": [
    "# 정수 부분\n",
    "\n",
    "import math\n",
    "\n",
    "def solution(flo):\n",
    "    return math.floor(flo)\n",
    "\n",
    "# 조금 더 쉬운 풀이\n",
    "def solution(flo):\n",
    "    return flo //1  "
   ]
  },
  {
   "cell_type": "code",
   "execution_count": 4,
   "metadata": {},
   "outputs": [],
   "source": [
    "# 문자열 정수의 합\n",
    "\n",
    "def solution(num_str):\n",
    "    answer = 0\n",
    "    for i in range(0,len(num_str)):\n",
    "        answer += int(num_str[i])\n",
    "    return answer"
   ]
  },
  {
   "cell_type": "code",
   "execution_count": 5,
   "metadata": {},
   "outputs": [],
   "source": [
    "# 문자열을 정수로 변환하기\n",
    "\n",
    "def solution(n_str):\n",
    "    return int(n_str)"
   ]
  },
  {
   "cell_type": "markdown",
   "metadata": {},
   "source": [
    "DAY 22"
   ]
  },
  {
   "cell_type": "code",
   "execution_count": 7,
   "metadata": {},
   "outputs": [],
   "source": [
    "# 0 떼기\n",
    "\n",
    "def solution(n_str):\n",
    "    return str(int(n_str))"
   ]
  },
  {
   "cell_type": "code",
   "execution_count": 8,
   "metadata": {},
   "outputs": [],
   "source": [
    "# 두 수의 합\n",
    "\n",
    "def solution(a, b):\n",
    "    return str(int(a) + int(b))"
   ]
  },
  {
   "cell_type": "code",
   "execution_count": null,
   "metadata": {},
   "outputs": [],
   "source": [
    "# 문자열로 변환\n",
    "\n",
    "def solution(n):\n",
    "    # answer = f'{n}'\n",
    "    return f'{n}'"
   ]
  },
  {
   "cell_type": "code",
   "execution_count": 9,
   "metadata": {},
   "outputs": [],
   "source": [
    "# 배열의 원소 삭제하기\n",
    "\n",
    "def solution(arr, delete_list):\n",
    "    return [num for num in arr if num not in delete_list]"
   ]
  },
  {
   "cell_type": "code",
   "execution_count": 10,
   "metadata": {},
   "outputs": [],
   "source": [
    "# 부분 문자열인지 확인하기\n",
    "\n",
    "def solution(my_string, target):\n",
    "    return int(target in my_string)"
   ]
  }
 ],
 "metadata": {
  "kernelspec": {
   "display_name": "Python 3",
   "language": "python",
   "name": "python3"
  },
  "language_info": {
   "codemirror_mode": {
    "name": "ipython",
    "version": 3
   },
   "file_extension": ".py",
   "mimetype": "text/x-python",
   "name": "python",
   "nbconvert_exporter": "python",
   "pygments_lexer": "ipython3",
   "version": "3.11.9"
  }
 },
 "nbformat": 4,
 "nbformat_minor": 2
}
