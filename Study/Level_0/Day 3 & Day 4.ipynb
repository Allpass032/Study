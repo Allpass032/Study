{
 "cells": [
  {
   "cell_type": "markdown",
   "metadata": {},
   "source": [
    "DAY 3"
   ]
  },
  {
   "cell_type": "code",
   "execution_count": null,
   "metadata": {},
   "outputs": [],
   "source": [
    "# 문자열 섞기\n",
    "\n",
    "def solution(str1, str2):\n",
    "    answer = ''\n",
    "    for i in range(0, len(str1)):\n",
    "        answer += str1[i] + str2[i]\n",
    "    return answer"
   ]
  },
  {
   "cell_type": "code",
   "execution_count": 1,
   "metadata": {},
   "outputs": [],
   "source": [
    "# 문자 리스트를 문자열로 변환하기\n",
    "\n",
    "def solution(arr):\n",
    "    answer = ''\n",
    "    for i  in range(len(arr)):\n",
    "        answer = answer + arr[i]\n",
    "    return answer\n",
    "  \n",
    "def solution(arr):\n",
    "    return ''.join(arr)"
   ]
  },
  {
   "cell_type": "code",
   "execution_count": 2,
   "metadata": {},
   "outputs": [],
   "source": [
    "# 문자열 곱하기\n",
    "\n",
    "def solution(my_string, k):\n",
    "    return my_string * k"
   ]
  },
  {
   "cell_type": "code",
   "execution_count": 3,
   "metadata": {},
   "outputs": [],
   "source": [
    "# 더 크게 합치기\n",
    "\n",
    "def solution(a, b):\n",
    "    if int(str(a) + str(b)) >= int(str(b) + str(a)):\n",
    "        return int(str(a) + str(b))\n",
    "    else:\n",
    "        return int(str(b) + str(a))"
   ]
  },
  {
   "cell_type": "code",
   "execution_count": 4,
   "metadata": {},
   "outputs": [],
   "source": [
    "# 두 수의 연산값 비교하기\n",
    "\n",
    "def solution(a,b):\n",
    "    return max(int(f'{a}{b}'), 2*a*b)"
   ]
  },
  {
   "cell_type": "markdown",
   "metadata": {},
   "source": [
    "DAY 4"
   ]
  },
  {
   "cell_type": "code",
   "execution_count": 5,
   "metadata": {},
   "outputs": [],
   "source": [
    "# n의 배수\n",
    "\n",
    "def solution(num, n):\n",
    "    answer = 0\n",
    "    if num % n == 0:\n",
    "      answer = 1\n",
    "    return answer"
   ]
  },
  {
   "cell_type": "code",
   "execution_count": null,
   "metadata": {},
   "outputs": [],
   "source": [
    "# 공배수\n",
    "\n",
    "def solution(number, n, m):\n",
    "    answer = 0\n",
    "    if number % n == 0 and number % m == 0:\n",
    "        answer = 1\n",
    "    else:\n",
    "        answer = 0\n",
    "    return answer\n",
    "  \n",
    "# 색다른 풀이 -> bool을 사용함 \n",
    "# def solution(number, n, m):\n",
    "#     return int(bool(number % n == 0) & bool(number % m == 0))"
   ]
  },
  {
   "cell_type": "code",
   "execution_count": 6,
   "metadata": {},
   "outputs": [],
   "source": [
    "# 홀짝에 따라 다른 값 반환하기\n",
    "\n",
    "def solution(n):\n",
    "    answer = 0\n",
    "    if n % 2 == 1:\n",
    "      for i in range(1, n+1, 2):\n",
    "        answer += i\n",
    "    else:\n",
    "      for i in range(0, n+1, 2):\n",
    "        answer += i*i\n",
    "    return answer\n",
    "  \n",
    "  # 다른 풀이\n",
    "  # def solution(n):\n",
    "  #     return sum(x ** (2 - x % 2) for x in range(n + 1) if n % 2 == x % 2)\n",
    "  \n",
    "  # def solution(n):\n",
    "  #     if n%2:\n",
    "  #         return sum(range(1,n+1,2))\n",
    "  #     return sum([i*i for i in range(2,n+1,2)])"
   ]
  },
  {
   "cell_type": "code",
   "execution_count": null,
   "metadata": {},
   "outputs": [],
   "source": [
    "# 조건 문자열\n",
    "\n",
    "def solution(ineq, eq, n, m):\n",
    "    answer = 0\n",
    "    if ineq == '>' and eq =='=':\n",
    "       answer = bool(n >= m)\n",
    "    elif ineq == '<' and eq == '=':\n",
    "       answer = bool(n <= m)\n",
    "    elif ineq == '>' and eq == '!':\n",
    "       answer = bool(n > m)\n",
    "    else:\n",
    "       answer = bool(n < m)\n",
    "    if answer == True:\n",
    "       return 1\n",
    "    else:\n",
    "       return 0\n",
    "     \n",
    "# 색다른 풀이\n",
    "# def solution(ineq, eq, n, m):\n",
    "#     return int(eval(str(n)+ineq+eq.replace('!', '')+str(m)))"
   ]
  },
  {
   "cell_type": "code",
   "execution_count": 7,
   "metadata": {},
   "outputs": [],
   "source": [
    "# flag에 따라 다른 값 변환하기\n",
    "\n",
    "def solution(a, b, flag):\n",
    "    if flag == True:\n",
    "        return a + b\n",
    "    elif flag == False:\n",
    "        return a - b\n",
    "    else:\n",
    "        print('wrong input')\n",
    "\n",
    "# def solution(a, b, flag):\n",
    "#     return a + b if flag else a - b"
   ]
  }
 ],
 "metadata": {
  "kernelspec": {
   "display_name": "Python 3",
   "language": "python",
   "name": "python3"
  },
  "language_info": {
   "codemirror_mode": {
    "name": "ipython",
    "version": 3
   },
   "file_extension": ".py",
   "mimetype": "text/x-python",
   "name": "python",
   "nbconvert_exporter": "python",
   "pygments_lexer": "ipython3",
   "version": "3.11.9"
  }
 },
 "nbformat": 4,
 "nbformat_minor": 2
}
