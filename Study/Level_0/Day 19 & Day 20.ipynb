{
 "cells": [
  {
   "cell_type": "markdown",
   "metadata": {},
   "source": [
    "DAY 19"
   ]
  },
  {
   "cell_type": "code",
   "execution_count": null,
   "metadata": {},
   "outputs": [],
   "source": [
    "# 세 개의 구분자\n",
    "\n",
    "def solution(myStr):\n",
    "    answer = []\n",
    "    for letter in myStr:\n",
    "        if letter in [\"a\",\"b\",\"c\"]:\n",
    "            myStr = myStr.replace(letter,\"+\")\n",
    "    answer = [i for i in myStr.split(\"+\") if i != '']\n",
    "    return [\"EMPTY\"] if answer == [] else answer\n",
    "\n",
    "# 색다른 풀이\n",
    "def solution(myStr):\n",
    "    answer = [x for x in myStr.replace('a', ' ').replace('b', ' ').replace('c', ' ').split() if x]\n",
    "    return answer if answer else ['EMPTY']"
   ]
  },
  {
   "cell_type": "code",
   "execution_count": 1,
   "metadata": {},
   "outputs": [],
   "source": [
    "# 배열의 원소만큼 추가하기\n",
    "\n",
    "def solution(arr):\n",
    "    answer= []\n",
    "    for i in arr:\n",
    "      answer += [i]*i\n",
    "    return answer"
   ]
  },
  {
   "cell_type": "code",
   "execution_count": 2,
   "metadata": {},
   "outputs": [],
   "source": [
    "# 빈 배열에 추가, 삭제하기\n",
    "\n",
    "def solution(arr, flag):\n",
    "    x = []\n",
    "    for i in range(len(flag)):\n",
    "        if flag[i] == True:\n",
    "          temp = [arr[i]] * arr[i]*2\n",
    "          x = x + temp\n",
    "        else:\n",
    "          x = x[:len(x)-arr[i]]\n",
    "    return x"
   ]
  },
  {
   "cell_type": "code",
   "execution_count": 4,
   "metadata": {},
   "outputs": [],
   "source": [
    "# 배열 만들기 6\n",
    "\n",
    "def solution(arr):\n",
    "    answer = []\n",
    "    i = 0\n",
    "    while len(arr) > i :\n",
    "        if not answer :\n",
    "            answer.append(arr[i])\n",
    "            i = i + 1\n",
    "        elif (not answer) is False :\n",
    "            if answer[-1] == arr[i] :\n",
    "                del answer[-1]\n",
    "                i = i + 1\n",
    "            elif answer[-1] != arr[i] :\n",
    "                answer.append(arr[i])\n",
    "                i = i + 1\n",
    "    if not answer :\n",
    "        return [-1]\n",
    "    else :\n",
    "        return answer "
   ]
  },
  {
   "cell_type": "code",
   "execution_count": 5,
   "metadata": {},
   "outputs": [],
   "source": [
    "# 무작위로 k개의 수 뽑기\n",
    "\n",
    "def solution(arr, k):\n",
    "    answer = []\n",
    "    for i in arr:\n",
    "      if i not in answer:\n",
    "        answer.append(i)\n",
    "    \n",
    "    return answer[:k] if len(answer) >= k else answer + [-1]*(k - len(answer))"
   ]
  },
  {
   "cell_type": "markdown",
   "metadata": {},
   "source": [
    "DAY 20"
   ]
  },
  {
   "cell_type": "code",
   "execution_count": null,
   "metadata": {},
   "outputs": [],
   "source": [
    "# 배열의 길이를 2의 거듭제곱으로 만들기\n",
    "\n",
    "def solution(arr):\n",
    "    if (len(arr)&(len(arr)-1)) == 0:\n",
    "        return arr\n",
    "    else:\n",
    "        while True:\n",
    "            arr.append(0)\n",
    "            if (len(arr)&(len(arr)-1)) == 0:\n",
    "                return arr\n",
    "\n",
    "# 2진법으로 표시하는 것? 좀 특이해서 기억하고 있음\n",
    "# 공부하긴 해야할 듯"
   ]
  },
  {
   "cell_type": "code",
   "execution_count": null,
   "metadata": {},
   "outputs": [],
   "source": [
    "# 배열 비교하기\n",
    "\n",
    "def solution(arr1, arr2):\n",
    "    \n",
    "    l1, l2 = len(arr1), len(arr2)\n",
    "    \n",
    "    if l1 != l2:\n",
    "      return 1 if l1 > l2 else -1\n",
    "    else:\n",
    "      if sum(arr1) == sum(arr2):\n",
    "        return 0\n",
    "      elif sum(arr1) > sum(arr2):\n",
    "        return 1\n",
    "      else:\n",
    "        return -1\n",
    "\n",
    "# 색다른 풀이(짧게 줄인 듯)\n",
    "def solution(arr1, arr2):\n",
    "    return (len(arr1) > len(arr2)) - (len(arr2) > len(arr1)) or (sum(arr1) > sum(arr2)) - (sum(arr2) > sum(arr1))"
   ]
  },
  {
   "cell_type": "code",
   "execution_count": 6,
   "metadata": {},
   "outputs": [],
   "source": [
    "# 문자열 묶기\n",
    "\n",
    "def solution(strArr):\n",
    "    l = sorted([len(str) for str in strArr])\n",
    "    count_num = []\n",
    "    for num in range(1, max(l)+1):\n",
    "        j = 0\n",
    "        j = l.count(num)\n",
    "        count_num.append(j)\n",
    "    return max(count_num)\n",
    "  \n",
    "# 색다른 풀이\n",
    "\n",
    "def solution(strArr):\n",
    "    a=[0]*31\n",
    "    for x in strArr: a[len(x)]+=1\n",
    "    return max(a)\n",
    "\n",
    "# 딕셔너리 사용해서 풀이\n",
    "\n",
    "def solution(strArr):\n",
    "    d = {}\n",
    "\n",
    "    for i in strArr:\n",
    "        d[len(i)] = d.get(len(i), 0) + 1\n",
    "\n",
    "    return max(d.values()) "
   ]
  },
  {
   "cell_type": "code",
   "execution_count": null,
   "metadata": {},
   "outputs": [],
   "source": [
    "# 배열의 길이에 따라 다른 연산하기\n",
    "\n",
    "def solution(arr, n):\n",
    "    answer = []\n",
    "    \n",
    "    if len(arr) % 2 != 0:\n",
    "      i = 0\n",
    "      while i < len(arr):\n",
    "        arr[i] = arr[i] + n\n",
    "        i += 2\n",
    "      answer = arr\n",
    "    \n",
    "    else:\n",
    "      i = 1\n",
    "      while i < len(arr):\n",
    "        arr[i] = arr[i] + n\n",
    "        i += 2\n",
    "      answer = arr\n",
    "      \n",
    "    return answer  \n",
    "  \n",
    "# 색다른 풀이(조금 더 간략하게)\n",
    "def solution(arr, n):\n",
    "    N=len(arr)\n",
    "    if N%2:\n",
    "        for i in range(0,N,2): arr[i]+=n\n",
    "    else:\n",
    "        for i in range(1,N,2): arr[i]+=n\n",
    "    return arr\n",
    "\n",
    "# 돌아버린 한 줄 코딩\n",
    "solution=lambda a,n: [x+n if i%2==(len(a)+1)%2 else x for i,x in enumerate(a)]"
   ]
  },
  {
   "cell_type": "code",
   "execution_count": 7,
   "metadata": {},
   "outputs": [],
   "source": [
    "# 뒤에서 5등까지\n",
    "\n",
    "def solution(num_list):\n",
    "    return sorted(num_list)[:5]"
   ]
  }
 ],
 "metadata": {
  "kernelspec": {
   "display_name": "Python 3",
   "language": "python",
   "name": "python3"
  },
  "language_info": {
   "codemirror_mode": {
    "name": "ipython",
    "version": 3
   },
   "file_extension": ".py",
   "mimetype": "text/x-python",
   "name": "python",
   "nbconvert_exporter": "python",
   "pygments_lexer": "ipython3",
   "version": "3.11.9"
  }
 },
 "nbformat": 4,
 "nbformat_minor": 2
}
