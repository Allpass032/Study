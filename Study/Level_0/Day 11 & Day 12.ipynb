{
 "cells": [
  {
   "cell_type": "markdown",
   "metadata": {},
   "source": [
    "DAY 11"
   ]
  },
  {
   "cell_type": "code",
   "execution_count": 1,
   "metadata": {},
   "outputs": [],
   "source": [
    "# 문자 개수 세기\n",
    "\n",
    "# 실패한 풀이\n",
    "# def solution(my_string):\n",
    "#     answer = []\n",
    "#     A = 'abcdefghijklmnopqrstuvwxyz'\n",
    "#     A_Total = [a for a in A.upper()+A]\n",
    "#     for a in A_Total:\n",
    "#         count += 1 if a in my_string else 0\n",
    "#         answer.append(count)\n",
    "#     return answer        \n",
    "\n",
    "def solution(my_string):\n",
    "    answer = [0 for i in range(52)]\n",
    "    for string in my_string:\n",
    "        if string.isupper(): k = 65\n",
    "        else: k = 71\n",
    "        answer[ord(string)-k] += 1\n",
    "    return answer\n",
    "\n",
    "# 색다른 풀이\n",
    "\n",
    "def solution(my_string):\n",
    "    answer=[0]*52\n",
    "    for x in my_string:\n",
    "        if x.isupper():\n",
    "            answer[ord(x)-65]+=1\n",
    "        else:\n",
    "            answer[ord(x)-71]+=1\n",
    "    return answer\n"
   ]
  },
  {
   "cell_type": "code",
   "execution_count": 2,
   "metadata": {},
   "outputs": [
    {
     "data": {
      "text/plain": [
       "[0,\n",
       " 0,\n",
       " 0,\n",
       " 0,\n",
       " 0,\n",
       " 0,\n",
       " 0,\n",
       " 0,\n",
       " 0,\n",
       " 0,\n",
       " 0,\n",
       " 0,\n",
       " 0,\n",
       " 0,\n",
       " 0,\n",
       " 1,\n",
       " 0,\n",
       " 0,\n",
       " 0,\n",
       " 0,\n",
       " 0,\n",
       " 0,\n",
       " 0,\n",
       " 0,\n",
       " 0,\n",
       " 0,\n",
       " 1,\n",
       " 0,\n",
       " 0,\n",
       " 0,\n",
       " 1,\n",
       " 0,\n",
       " 1,\n",
       " 0,\n",
       " 0,\n",
       " 0,\n",
       " 0,\n",
       " 0,\n",
       " 2,\n",
       " 0,\n",
       " 1,\n",
       " 0,\n",
       " 0,\n",
       " 3,\n",
       " 1,\n",
       " 0,\n",
       " 0,\n",
       " 0,\n",
       " 0,\n",
       " 0,\n",
       " 0,\n",
       " 0]"
      ]
     },
     "execution_count": 2,
     "metadata": {},
     "output_type": "execute_result"
    }
   ],
   "source": [
    "solution(\"Programmers\")"
   ]
  },
  {
   "cell_type": "code",
   "execution_count": null,
   "metadata": {},
   "outputs": [],
   "source": [
    "# 배열 만들기 1\n",
    "\n",
    "def solution(n, k):\n",
    "    return [i for i in range(1, n+1) if i%k == 0] \n",
    "  \n",
    "# 색다른 풀이(1부터 시작할 필요 없음)\n",
    "def solution(n, k):\n",
    "    return [i for i in range(k,n+1,k)]"
   ]
  },
  {
   "cell_type": "code",
   "execution_count": 111,
   "metadata": {},
   "outputs": [],
   "source": [
    "# 글자 지우기\n",
    "\n",
    "def solution(my_string, indices):\n",
    "    answer = [i for i in my_string]\n",
    "    for j in sorted(indices, reverse=True) :\n",
    "        del answer[j]\n",
    "    return \"\".join(answer)\n",
    "\n",
    "# 아마 틀렸던 풀이?\n",
    "def solution(my_string, indices):\n",
    "    str_list = [i for i in my_string]\n",
    "    indices.sort()\n",
    "    index = reversed(indices)\n",
    "    \n",
    "    for num in index:\n",
    "        str_list.remove(str_list[num])\n",
    "    return str_list\n",
    "\n",
    "# 색다른 풀이\n",
    "def solution(my_string, indices):\n",
    "    answer = ''\n",
    "    for i in range(len(my_string)):\n",
    "        if i not in indices:answer+=my_string[i]\n",
    "    return answer\n"
   ]
  },
  {
   "cell_type": "code",
   "execution_count": 112,
   "metadata": {},
   "outputs": [
    {
     "data": {
      "text/plain": [
       "['o', 'g', 'r', 'a', 'p', 'e', 'e', 'm', 'p', 'r', 's']"
      ]
     },
     "execution_count": 112,
     "metadata": {},
     "output_type": "execute_result"
    }
   ],
   "source": [
    "solution(\"apporoograpemmemprs\",[1, 16, 6, 15, 0, 10, 11, 3])"
   ]
  },
  {
   "cell_type": "code",
   "execution_count": 8,
   "metadata": {},
   "outputs": [],
   "source": [
    "# 카운트 다운\n",
    "\n",
    "# def solution(start_num, end_num):\n",
    "#     return [i for i in range(start_num,end_num-1,-1)]\n",
    "\n",
    "def solution(start_num, end_num):\n",
    "    answer = []\n",
    "    for i in range(end_num, start_num+1):\n",
    "        answer.append(i)\n",
    "    answer.reverse()\n",
    "    return answer"
   ]
  },
  {
   "cell_type": "code",
   "execution_count": 9,
   "metadata": {},
   "outputs": [
    {
     "data": {
      "text/plain": [
       "[10, 9, 8, 7, 6, 5, 4, 3]"
      ]
     },
     "execution_count": 9,
     "metadata": {},
     "output_type": "execute_result"
    }
   ],
   "source": [
    "solution(10,3)"
   ]
  },
  {
   "cell_type": "code",
   "execution_count": 11,
   "metadata": {},
   "outputs": [],
   "source": [
    "# 가까운 1 찾기\n",
    "\n",
    "def solution(arr, idx):\n",
    "    for i in range(idx, len(arr)):\n",
    "        if 1 not in arr[idx:]:\n",
    "            return -1\n",
    "        elif arr[i] == 1:\n",
    "            return i        \n",
    "        \n",
    "# 색다른 풀이\n",
    "\n",
    "def solution(arr, idx):\n",
    "    answer = 0\n",
    "    try:\n",
    "        answer = arr.index(1, idx)\n",
    "    except:\n",
    "        answer = -1\n",
    "\n",
    "    return answer\n",
    "        \n",
    "# try함수 except 함수에 대해서 공부 및 알아보기"
   ]
  },
  {
   "cell_type": "code",
   "execution_count": 12,
   "metadata": {},
   "outputs": [
    {
     "data": {
      "text/plain": [
       "3"
      ]
     },
     "execution_count": 12,
     "metadata": {},
     "output_type": "execute_result"
    }
   ],
   "source": [
    "solution([0,0,0,1], 1)"
   ]
  },
  {
   "cell_type": "markdown",
   "metadata": {},
   "source": [
    "DAY 12"
   ]
  },
  {
   "cell_type": "code",
   "execution_count": 3,
   "metadata": {},
   "outputs": [],
   "source": [
    "# 리스트 자르기\n",
    "\n",
    "def solution(n, slicer, num_list):\n",
    "    a = slicer[0]\n",
    "    b = slicer[1]\n",
    "    c = slicer[2]\n",
    "    \n",
    "    if n == 1:\n",
    "      return num_list[:b+1]\n",
    "    elif n == 2:\n",
    "      return num_list[a:]\n",
    "    elif n == 3:\n",
    "      return num_list[a:b+1]\n",
    "    elif n == 4:\n",
    "      return num_list[a:b+1:c]\n",
    "  \n",
    "# 색다른 풀이(조금 더 간결하게)\n",
    "    \n",
    "def solution(n, slicer, num_list):\n",
    "    a, b, c = slicer\n",
    "    return [num_list[:b + 1], num_list[a:], num_list[a:b + 1], num_list[a:b + 1:c]][n - 1]"
   ]
  },
  {
   "cell_type": "code",
   "execution_count": null,
   "metadata": {},
   "outputs": [],
   "source": [
    "# 첫 번째로 나오는 음수\n",
    "\n",
    "def solution(num_list):\n",
    "    for i in range(0, len(num_list)):\n",
    "        if all(n > 0 for n in num_list):\n",
    "            return -1\n",
    "        else:\n",
    "            if num_list[i] < 0:\n",
    "               return i\n",
    "\n",
    "# 색다른 풀이(조금 더 간결하게)             \n",
    "def solution(num_list):\n",
    "    for i in range(len(num_list)):\n",
    "        if num_list[i]<0:return i\n",
    "    return -1\n",
    "\n",
    "def solution(num_list):\n",
    "    return ([i for i in range(len(num_list)) if num_list[i] < 0] or [-1])[0]"
   ]
  },
  {
   "cell_type": "code",
   "execution_count": 5,
   "metadata": {},
   "outputs": [],
   "source": [
    "# 배열 만들기 3\n",
    "\n",
    "def solution(arr, intervals):\n",
    "    answer = []\n",
    "    for a,b  in intervals:\n",
    "        answer += arr[a:b+1]\n",
    "    return answer\n",
    "  \n",
    "# 색다른 풀이\n",
    "  \n",
    "def solution(arr, intervals):\n",
    "    s1, e1 = intervals[0]\n",
    "    s2, e2 = intervals[1]\n",
    "    return arr[s1:e1+1] + arr[s2:e2+1]"
   ]
  },
  {
   "cell_type": "code",
   "execution_count": null,
   "metadata": {},
   "outputs": [],
   "source": [
    "# 2의 영역\n",
    "\n",
    "def solution(arr):\n",
    "    for a in range(len(arr)):\n",
    "        if arr[a] == 2:\n",
    "            s = a\n",
    "            break\n",
    "          \n",
    "    for a in range(len(arr)-1,0,-1):\n",
    "        if arr[a] == 2:\n",
    "            e = a\n",
    "            break\n",
    "    return arr[s:e+1] if 2 in arr else [-1]\n",
    "      \n",
    "# 색다른 풀이\n",
    "\n",
    "def solution(arr):\n",
    "    if 2 not in arr:\n",
    "        return [-1]\n",
    "    return arr[arr.index(2) : len(arr) - arr[::-1].index(2)]"
   ]
  },
  {
   "cell_type": "code",
   "execution_count": null,
   "metadata": {},
   "outputs": [],
   "source": [
    "# 배열 조각하기\n",
    "\n",
    "def solution(arr, query):\n",
    "    for i in range(len(query)): # about index of arr\n",
    "        if i % 2 == 0: # suppose i is even number\n",
    "          arr = arr[:query[i]+1] # remove after arr[query[i]] in arr\n",
    "        else:\n",
    "          arr = arr[query[i]:]\n",
    "    return arr\n",
    "\n",
    "# 색다른 풀이(enumerate함수 사용)  \n",
    "def solution(arr, query):\n",
    "    for k, q in enumerate(query):\n",
    "        if k % 2 == 0:\n",
    "            arr = arr[:q + 1]\n",
    "        else:\n",
    "            arr = arr[q:]\n",
    "    return arr"
   ]
  }
 ],
 "metadata": {
  "kernelspec": {
   "display_name": "Python 3",
   "language": "python",
   "name": "python3"
  },
  "language_info": {
   "codemirror_mode": {
    "name": "ipython",
    "version": 3
   },
   "file_extension": ".py",
   "mimetype": "text/x-python",
   "name": "python",
   "nbconvert_exporter": "python",
   "pygments_lexer": "ipython3",
   "version": "3.11.9"
  }
 },
 "nbformat": 4,
 "nbformat_minor": 2
}
