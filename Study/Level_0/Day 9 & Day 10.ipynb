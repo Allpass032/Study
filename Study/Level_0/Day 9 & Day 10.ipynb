{
 "cells": [
  {
   "cell_type": "markdown",
   "metadata": {},
   "source": [
    "DAY 9"
   ]
  },
  {
   "cell_type": "code",
   "execution_count": 1,
   "metadata": {},
   "outputs": [],
   "source": [
    "# 배열 만들기 5\n",
    "\n",
    "def solution(intStrs, k, s, l):\n",
    "    answer = []\n",
    "    for num in intStrs:\n",
    "        if int(num[s:s+l]) > k:\n",
    "            answer.append(int(num[s:s+l]))\n",
    "    return answer\n",
    "\n",
    "# 색다른 풀이\n",
    "\n",
    "def solution(intStrs, k, s, l):    \n",
    "    return [int(intstr[s:s+l]) for intstr in intStrs if int(intstr[s:s+l]) > k]"
   ]
  },
  {
   "cell_type": "code",
   "execution_count": 2,
   "metadata": {},
   "outputs": [
    {
     "data": {
      "text/plain": [
       "'34'"
      ]
     },
     "execution_count": 2,
     "metadata": {},
     "output_type": "execute_result"
    }
   ],
   "source": [
    "nu = '12345678'\n",
    "nu[2:4]"
   ]
  },
  {
   "cell_type": "code",
   "execution_count": 3,
   "metadata": {},
   "outputs": [],
   "source": [
    "# 부분 문자열 이어 붙여 문자열 만들기\n",
    "\n",
    "def solution(my_strings, parts):\n",
    "    answer = ''\n",
    "    for i in range(0, len(parts)):\n",
    "        answer += my_strings[i][parts[i][0]: parts[i][1]+1]\n",
    "    return answer\n",
    "\n",
    "# 색다른 풀이(좀 눈에 들어온 것)\n",
    "def solution(my_strings, parts):\n",
    "    return ''.join([x[y[0]:y[1]+1] for x,y in zip(my_strings, parts)])"
   ]
  },
  {
   "cell_type": "code",
   "execution_count": 34,
   "metadata": {},
   "outputs": [
    {
     "data": {
      "text/plain": [
       "'programmers'"
      ]
     },
     "execution_count": 34,
     "metadata": {},
     "output_type": "execute_result"
    }
   ],
   "source": [
    "solution([\"progressive\", \"hamburger\", \"hammer\", \"ahocorasick\"],[[0, 4], [1, 2], [3, 5], [7, 7]])"
   ]
  },
  {
   "cell_type": "code",
   "execution_count": 4,
   "metadata": {},
   "outputs": [],
   "source": [
    "# 문자열의 뒤의 n글자\n",
    "\n",
    "def solution(my_string, n):\n",
    "    return my_string[-n:]"
   ]
  },
  {
   "cell_type": "code",
   "execution_count": 6,
   "metadata": {},
   "outputs": [],
   "source": [
    "# 접미사 배열\n",
    "\n",
    "def solution(my_string):\n",
    "    answer = []\n",
    "    for i in range(len(my_string)):\n",
    "        answer.append(my_string[i:len(my_string)+1])\n",
    "    return sorted(answer)\n",
    "\n",
    "# 색다른 풀이(조금 더 간결하게)\n",
    "def solution(my_string):\n",
    "    return sorted(my_string[i:] for i in range(len(my_string)))"
   ]
  },
  {
   "cell_type": "code",
   "execution_count": 38,
   "metadata": {},
   "outputs": [
    {
     "data": {
      "text/plain": [
       "['a', 'ana', 'anana', 'banana', 'na', 'nana']"
      ]
     },
     "execution_count": 38,
     "metadata": {},
     "output_type": "execute_result"
    }
   ],
   "source": [
    "solution('banana')"
   ]
  },
  {
   "cell_type": "code",
   "execution_count": 8,
   "metadata": {},
   "outputs": [],
   "source": [
    "# 접미사인지 확인하기\n",
    "\n",
    "def solution(my_string, is_suffix):\n",
    "    answer = []\n",
    "    for i in range(len(my_string)):\n",
    "        answer.append(my_string[i:len(my_string)+1])\n",
    "    \n",
    "    return 1 if is_suffix in answer else 0\n",
    "\n",
    "# 색다른 풀이(더 간결하게 표현한 풀이)\n",
    "def solution(m, s):\n",
    "    if m[-len(s):]==s: return 1\n",
    "    return 0"
   ]
  },
  {
   "cell_type": "markdown",
   "metadata": {},
   "source": [
    "DAY 10"
   ]
  },
  {
   "cell_type": "code",
   "execution_count": 9,
   "metadata": {},
   "outputs": [],
   "source": [
    "# 문자열의 앞의 n글자\n",
    "\n",
    "def solution(my_string, n):\n",
    "    return my_string[:n]"
   ]
  },
  {
   "cell_type": "code",
   "execution_count": 10,
   "metadata": {},
   "outputs": [],
   "source": [
    "# 접두사인지 확인하기\n",
    "\n",
    "def solution(my_string, is_prefix):\n",
    "    prefix = []\n",
    "    for i in range(1, len(my_string)+1):\n",
    "        prefix.append(my_string[0:i])\n",
    "    return 1 if is_prefix in prefix else 0"
   ]
  },
  {
   "cell_type": "code",
   "execution_count": 11,
   "metadata": {},
   "outputs": [],
   "source": [
    "# 문자열 뒤집기\n",
    "\n",
    "def solution(my_string, s, e):\n",
    "    l = [letter for letter in my_string]\n",
    "    return ''.join(l[:s]) + ''.join(reversed(l[s:e+1])) + ''.join(l[e+1:])"
   ]
  },
  {
   "cell_type": "code",
   "execution_count": 12,
   "metadata": {},
   "outputs": [],
   "source": [
    "# 세로 읽기\n",
    "\n",
    "def solution(my_string, m, c):\n",
    "    return my_string[c-1::m]"
   ]
  },
  {
   "cell_type": "code",
   "execution_count": null,
   "metadata": {},
   "outputs": [],
   "source": [
    "# qr code\n",
    "\n",
    "def solution(q, r, code):\n",
    "    answer = ''\n",
    "    for i in range(len(code)):\n",
    "        if i % q == r:\n",
    "            answer += code[i]\n",
    "    return answer\n",
    "  \n",
    "# 색다른 풀이(간략하게 풀이)\n",
    "def solution(q, r, code):\n",
    "    return code[r::q]\n",
    "  \n",
    "# 풀이 문자열 code의 index를 q로 나누면 q-1까지의 나머지가 q간격으로 반복되니 target 나머지가 곧 시작 index가 되고 그걸 code의 끝까지 q간격으로 반환하는거나 다름없음을 표현"
   ]
  }
 ],
 "metadata": {
  "kernelspec": {
   "display_name": "Python 3",
   "language": "python",
   "name": "python3"
  },
  "language_info": {
   "codemirror_mode": {
    "name": "ipython",
    "version": 3
   },
   "file_extension": ".py",
   "mimetype": "text/x-python",
   "name": "python",
   "nbconvert_exporter": "python",
   "pygments_lexer": "ipython3",
   "version": "3.11.9"
  }
 },
 "nbformat": 4,
 "nbformat_minor": 2
}
